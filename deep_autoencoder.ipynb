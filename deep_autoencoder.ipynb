{
 "cells": [
  {
   "cell_type": "code",
   "execution_count": 26,
   "metadata": {},
   "outputs": [],
   "source": [
    "import os\n",
    "import sys\n",
    "import matplotlib.pyplot as plt\n",
    "import torch\n",
    "import torch.nn.functional as F\n",
    "import numpy as np\n",
    "\n",
    "sys.path.insert(0,'/ncluster/newton')\n",
    "import util as u\n",
    "import importlib\n",
    "importlib.reload(u)\n",
    "\n",
    "import kfac_pytorch as kfac_lib\n",
    "importlib.reload(kfac_lib)\n",
    "\n",
    "import collections\n",
    "import scipy\n",
    "\n",
    "from PIL import Image\n",
    "\n",
    "import matplotlib\n",
    "%matplotlib inline\n",
    "\n",
    "import math\n",
    "\n",
    "def inv(mat, lambda_=1e-3, inverse_method='numpy',\n",
    "                        use_cuda=True):\n",
    "  assert mat.shape[0] == mat.shape[1]\n",
    "  ii = torch.eye(mat.shape[0])\n",
    "  if use_cuda:\n",
    "    ii = ii.cuda()\n",
    "  regmat = mat + lambda_*ii\n",
    "\n",
    "  if inverse_method == 'numpy':\n",
    "    import util as u\n",
    "    result = torch.from_numpy(scipy.linalg.inv(regmat.cpu().numpy()))\n",
    "    if use_cuda:\n",
    "      result = result.cuda()\n",
    "  elif inverse_method == 'gpu':\n",
    "    assert use_cuda\n",
    "    result = torch.inverse(regmat).cuda()\n",
    "  else:\n",
    "    assert False, 'unknown inverse_method ' + str(INVERSE_METHOD)\n",
    "  return result"
   ]
  },
  {
   "cell_type": "markdown",
   "metadata": {},
   "source": [
    "# Deep autoencoder"
   ]
  },
  {
   "cell_type": "markdown",
   "metadata": {},
   "source": [
    "Optimize the following sigmoid autoencoder on first 10k MNIST examples, evaluate on second 10k \n",
    "\n",
    "![deep autoencoder](https://i.stack.imgur.com/f09ot.png)"
   ]
  },
  {
   "cell_type": "markdown",
   "metadata": {},
   "source": [
    "# Short run"
   ]
  },
  {
   "cell_type": "code",
   "execution_count": 40,
   "metadata": {},
   "outputs": [
    {
     "name": "stdout",
     "output_type": "stream",
     "text": [
      "Step   0 loss 97.542419434\n",
      "Step   1 loss 62.600799561\n",
      "Step   2 loss 44.653366089\n",
      "Step   3 loss 80.937736511\n",
      "Step   4 loss 57.418834686\n",
      "Step   5 loss 48.029850006\n",
      "Step   6 loss 43.777774811\n",
      "Step   7 loss 38.339965820\n",
      "Step   8 loss 35.565475464\n",
      "Step   9 loss 33.320713043\n",
      "Times: min: 382.19, median: 384.10, mean: 481.65\n"
     ]
    }
   ],
   "source": [
    "import kfac_pytorch as kfac_lib\n",
    "import importlib\n",
    "importlib.reload(kfac_lib)\n",
    "losses_adam, vlosses_adam, model = kfac_lib.train(iters=10, kfac=True, print_interval=1)\n",
    "u.summarize_time()"
   ]
  },
  {
   "cell_type": "code",
   "execution_count": 41,
   "metadata": {},
   "outputs": [
    {
     "data": {
      "text/plain": [
       "[tensor([[0., 0., 0.,  ..., 0., 0., 0.],\n",
       "         [0., 0., 0.,  ..., 0., 0., 0.],\n",
       "         [0., 0., 0.,  ..., 0., 0., 0.],\n",
       "         ...,\n",
       "         [0., 0., 0.,  ..., 0., 0., 0.],\n",
       "         [0., 0., 0.,  ..., 0., 0., 0.],\n",
       "         [0., 0., 0.,  ..., 0., 0., 0.]], device='cuda:0'),\n",
       " tensor([[0.3553, 0.2651, 0.2325,  ..., 0.2521, 0.2630, 0.2481],\n",
       "         [0.2651, 0.3927, 0.2332,  ..., 0.2896, 0.2773, 0.2612],\n",
       "         [0.2325, 0.2332, 0.2889,  ..., 0.2252, 0.2423, 0.2148],\n",
       "         ...,\n",
       "         [0.2521, 0.2896, 0.2252,  ..., 0.3170, 0.2464, 0.2424],\n",
       "         [0.2630, 0.2773, 0.2423,  ..., 0.2464, 0.3579, 0.2462],\n",
       "         [0.2481, 0.2612, 0.2148,  ..., 0.2424, 0.2462, 0.3133]],\n",
       "        device='cuda:0'),\n",
       " tensor([[0.4203, 0.2584, 0.2897,  ..., 0.2530, 0.2246, 0.2810],\n",
       "         [0.2584, 0.3900, 0.2580,  ..., 0.2680, 0.1971, 0.2390],\n",
       "         [0.2897, 0.2580, 0.4268,  ..., 0.2739, 0.2158, 0.2936],\n",
       "         ...,\n",
       "         [0.2530, 0.2680, 0.2739,  ..., 0.4331, 0.2218, 0.2806],\n",
       "         [0.2246, 0.1971, 0.2158,  ..., 0.2218, 0.2880, 0.2158],\n",
       "         [0.2810, 0.2390, 0.2936,  ..., 0.2806, 0.2158, 0.4264]],\n",
       "        device='cuda:0'),\n",
       " tensor([[0.4316, 0.2899, 0.3066,  ..., 0.2938, 0.2328, 0.2729],\n",
       "         [0.2899, 0.4469, 0.2814,  ..., 0.2796, 0.2332, 0.2901],\n",
       "         [0.3066, 0.2814, 0.4721,  ..., 0.3101, 0.2456, 0.2643],\n",
       "         ...,\n",
       "         [0.2938, 0.2796, 0.3101,  ..., 0.4087, 0.2559, 0.2862],\n",
       "         [0.2328, 0.2332, 0.2456,  ..., 0.2559, 0.2831, 0.2277],\n",
       "         [0.2729, 0.2901, 0.2643,  ..., 0.2862, 0.2277, 0.3537]],\n",
       "        device='cuda:0'),\n",
       " tensor([[0.4404, 0.1847, 0.4058,  ..., 0.3283, 0.2980, 0.3489],\n",
       "         [0.1847, 0.2640, 0.2624,  ..., 0.2182, 0.2067, 0.2754],\n",
       "         [0.4058, 0.2624, 0.5992,  ..., 0.4440, 0.3849, 0.4664],\n",
       "         ...,\n",
       "         [0.3283, 0.2182, 0.4440,  ..., 0.4586, 0.3538, 0.3644],\n",
       "         [0.2980, 0.2067, 0.3849,  ..., 0.3538, 0.4437, 0.3247],\n",
       "         [0.3489, 0.2754, 0.4664,  ..., 0.3644, 0.3247, 0.5944]],\n",
       "        device='cuda:0'),\n",
       " tensor([[0.3368, 0.2275, 0.2403,  ..., 0.2654, 0.2632, 0.2280],\n",
       "         [0.2275, 0.1891, 0.1845,  ..., 0.1614, 0.1702, 0.1739],\n",
       "         [0.2403, 0.1845, 0.4444,  ..., 0.1957, 0.3390, 0.2978],\n",
       "         ...,\n",
       "         [0.2654, 0.1614, 0.1957,  ..., 0.2412, 0.2231, 0.1718],\n",
       "         [0.2632, 0.1702, 0.3390,  ..., 0.2231, 0.3457, 0.2738],\n",
       "         [0.2280, 0.1739, 0.2978,  ..., 0.1718, 0.2738, 0.2592]],\n",
       "        device='cuda:0'),\n",
       " tensor([[0.6789, 0.7039, 0.6869,  ..., 0.5384, 0.6501, 0.6730],\n",
       "         [0.7039, 0.8789, 0.7496,  ..., 0.5927, 0.7098, 0.8402],\n",
       "         [0.6869, 0.7496, 0.7252,  ..., 0.5686, 0.6912, 0.7205],\n",
       "         ...,\n",
       "         [0.5384, 0.5927, 0.5686,  ..., 0.5252, 0.5658, 0.5866],\n",
       "         [0.6501, 0.7098, 0.6912,  ..., 0.5658, 0.6932, 0.7012],\n",
       "         [0.6730, 0.8402, 0.7205,  ..., 0.5866, 0.7012, 0.8278]],\n",
       "        device='cuda:0'),\n",
       " tensor([[0.1710, 0.0157, 0.1804,  ..., 0.1764, 0.0550, 0.1750],\n",
       "         [0.0157, 0.0058, 0.0551,  ..., 0.0244, 0.0397, 0.0203],\n",
       "         [0.1804, 0.0551, 0.9828,  ..., 0.3946, 0.8127, 0.2565],\n",
       "         ...,\n",
       "         [0.1764, 0.0244, 0.3946,  ..., 0.2957, 0.2266, 0.2411],\n",
       "         [0.0550, 0.0397, 0.8127,  ..., 0.2266, 0.8076, 0.0827],\n",
       "         [0.1750, 0.0203, 0.2565,  ..., 0.2411, 0.0827, 0.2519]],\n",
       "        device='cuda:0')]"
      ]
     },
     "execution_count": 41,
     "metadata": {},
     "output_type": "execute_result"
    }
   ],
   "source": [
    "kfac_lib.covA_saved"
   ]
  },
  {
   "cell_type": "code",
   "execution_count": 46,
   "metadata": {},
   "outputs": [
    {
     "name": "stdout",
     "output_type": "stream",
     "text": [
      "Solving environment: done\n",
      "\n",
      "## Package Plan ##\n",
      "\n",
      "  environment location: /home/ubuntu/anaconda3/envs/tensorflow_p36\n",
      "\n",
      "  added / updated specs: \n",
      "    - jupyter_contrib_nbextensions\n",
      "\n",
      "\n",
      "The following packages will be downloaded:\n",
      "\n",
      "    package                    |            build\n",
      "    ---------------------------|-----------------\n",
      "    jupyter_latex_envs-1.4.4   |           py36_0         753 KB  conda-forge\n",
      "    jupyter_contrib_nbextensions-0.5.0|           py36_0        19.4 MB  conda-forge\n",
      "    jupyter_highlight_selected_word-0.2.0|        py36_1000          13 KB  conda-forge\n",
      "    ------------------------------------------------------------\n",
      "                                           Total:        20.2 MB\n",
      "\n",
      "The following NEW packages will be INSTALLED:\n",
      "\n",
      "    jupyter_contrib_nbextensions:    0.5.0-py36_0    conda-forge\n",
      "    jupyter_highlight_selected_word: 0.2.0-py36_1000 conda-forge\n",
      "    jupyter_latex_envs:              1.4.4-py36_0    conda-forge\n",
      "\n",
      "\n",
      "Downloading and Extracting Packages\n",
      "jupyter_latex_envs-1 | 753 KB    | ##################################### | 100% \n",
      "jupyter_contrib_nbex | 19.4 MB   | ##################################### | 100% \n",
      "jupyter_highlight_se | 13 KB     | ##################################### | 100% \n",
      "Preparing transaction: done\n",
      "Verifying transaction: done\n",
      "Executing transaction: | + /home/ubuntu/anaconda3/envs/tensorflow_p36/bin/python -c 'import logging; from jupyter_contrib_core.notebook_compat.nbextensions import install_nbextension_python; install_nbextension_python('\\''jupyter_highlight_selected_word'\\'', sys_prefix=True, logger=logging.getLogger())'\n",
      "\n",
      "- + /home/ubuntu/anaconda3/envs/tensorflow_p36/bin/python -c 'import logging; from jupyter_contrib_core.notebook_compat.nbextensions import install_nbextension_python; install_nbextension_python('\\''latex_envs'\\'', sys_prefix=True, logger=logging.getLogger())'\n",
      "\n",
      "- + /home/ubuntu/anaconda3/envs/tensorflow_p36/bin/jupyter-contrib-nbextension install --sys-prefix\n",
      "[I 01:15:33 InstallContribNbextensionsApp] jupyter contrib nbextension install --sys-prefix\n",
      "[I 01:15:33 InstallContribNbextensionsApp] Installing jupyter_contrib_nbextensions nbextension files to jupyter data directory\n",
      "[I 01:15:33 InstallContribNbextensionsApp] Installing /home/ubuntu/anaconda3/envs/tensorflow_p36/lib/python3.6/site-packages/jupyter_contrib_nbextensions/nbextensions/hinterland -> hinterland\n",
      "[I 01:15:33 InstallContribNbextensionsApp] Making directory: /home/ubuntu/anaconda3/envs/tensorflow_p36/share/jupyter/nbextensions/hinterland/\n",
      "[I 01:15:33 InstallContribNbextensionsApp] Copying: /home/ubuntu/anaconda3/envs/tensorflow_p36/lib/python3.6/site-packages/jupyter_contrib_nbextensions/nbextensions/hinterland/hinterland.js -> /home/ubuntu/anaconda3/envs/tensorflow_p36/share/jupyter/nbextensions/hinterland/hinterland.js\n",
      "[I 01:15:33 InstallContribNbextensionsApp] Copying: /home/ubuntu/anaconda3/envs/tensorflow_p36/lib/python3.6/site-packages/jupyter_contrib_nbextensions/nbextensions/hinterland/hinterland.yaml -> /home/ubuntu/anaconda3/envs/tensorflow_p36/share/jupyter/nbextensions/hinterland/hinterland.yaml\n",
      "[I 01:15:33 InstallContribNbextensionsApp] Copying: /home/ubuntu/anaconda3/envs/tensorflow_p36/lib/python3.6/site-packages/jupyter_contrib_nbextensions/nbextensions/hinterland/README.md -> /home/ubuntu/anaconda3/envs/tensorflow_p36/share/jupyter/nbextensions/hinterland/README.md\n",
      "[I 01:15:33 InstallContribNbextensionsApp] - Validating: \u001b[32mOK\u001b[0m\n",
      "[I 01:15:33 InstallContribNbextensionsApp] Installing /home/ubuntu/anaconda3/envs/tensorflow_p36/lib/python3.6/site-packages/jupyter_contrib_nbextensions/nbextensions/table_beautifier -> table_beautifier\n",
      "[I 01:15:33 InstallContribNbextensionsApp] Making directory: /home/ubuntu/anaconda3/envs/tensorflow_p36/share/jupyter/nbextensions/table_beautifier/\n",
      "[I 01:15:33 InstallContribNbextensionsApp] Copying: /home/ubuntu/anaconda3/envs/tensorflow_p36/lib/python3.6/site-packages/jupyter_contrib_nbextensions/nbextensions/table_beautifier/table_beautifier.yaml -> /home/ubuntu/anaconda3/envs/tensorflow_p36/share/jupyter/nbextensions/table_beautifier/table_beautifier.yaml\n",
      "[I 01:15:33 InstallContribNbextensionsApp] Copying: /home/ubuntu/anaconda3/envs/tensorflow_p36/lib/python3.6/site-packages/jupyter_contrib_nbextensions/nbextensions/table_beautifier/main.css -> /home/ubuntu/anaconda3/envs/tensorflow_p36/share/jupyter/nbextensions/table_beautifier/main.css\n",
      "[I 01:15:33 InstallContribNbextensionsApp] Copying: /home/ubuntu/anaconda3/envs/tensorflow_p36/lib/python3.6/site-packages/jupyter_contrib_nbextensions/nbextensions/table_beautifier/main.js -> /home/ubuntu/anaconda3/envs/tensorflow_p36/share/jupyter/nbextensions/table_beautifier/main.js\n",
      "[I 01:15:33 InstallContribNbextensionsApp] Copying: /home/ubuntu/anaconda3/envs/tensorflow_p36/lib/python3.6/site-packages/jupyter_contrib_nbextensions/nbextensions/table_beautifier/README.md -> /home/ubuntu/anaconda3/envs/tensorflow_p36/share/jupyter/nbextensions/table_beautifier/README.md\n",
      "[I 01:15:33 InstallContribNbextensionsApp] - Validating: \u001b[32mOK\u001b[0m\n",
      "[I 01:15:33 InstallContribNbextensionsApp] Installing /home/ubuntu/anaconda3/envs/tensorflow_p36/lib/python3.6/site-packages/jupyter_contrib_nbextensions/nbextensions/gist_it -> gist_it\n",
      "[I 01:15:33 InstallContribNbextensionsApp] Making directory: /home/ubuntu/anaconda3/envs/tensorflow_p36/share/jupyter/nbextensions/gist_it/\n",
      "[I 01:15:33 InstallContribNbextensionsApp] Copying: /home/ubuntu/anaconda3/envs/tensorflow_p36/lib/python3.6/site-packages/jupyter_contrib_nbextensions/nbextensions/gist_it/gist_it.yaml -> /home/ubuntu/anaconda3/envs/tensorflow_p36/share/jupyter/nbextensions/gist_it/gist_it.yaml\n",
      "[I 01:15:33 InstallContribNbextensionsApp] Copying: /home/ubuntu/anaconda3/envs/tensorflow_p36/lib/python3.6/site-packages/jupyter_contrib_nbextensions/nbextensions/gist_it/main.js -> /home/ubuntu/anaconda3/envs/tensorflow_p36/share/jupyter/nbextensions/gist_it/main.js\n",
      "[I 01:15:33 InstallContribNbextensionsApp] Copying: /home/ubuntu/anaconda3/envs/tensorflow_p36/lib/python3.6/site-packages/jupyter_contrib_nbextensions/nbextensions/gist_it/readme.md -> /home/ubuntu/anaconda3/envs/tensorflow_p36/share/jupyter/nbextensions/gist_it/readme.md\n",
      "[I 01:15:33 InstallContribNbextensionsApp] Copying: /home/ubuntu/anaconda3/envs/tensorflow_p36/lib/python3.6/site-packages/jupyter_contrib_nbextensions/nbextensions/gist_it/icon.png -> /home/ubuntu/anaconda3/envs/tensorflow_p36/share/jupyter/nbextensions/gist_it/icon.png\n",
      "[I 01:15:33 InstallContribNbextensionsApp] - Validating: \u001b[32mOK\u001b[0m\n",
      "[I 01:15:33 InstallContribNbextensionsApp] Installing /home/ubuntu/anaconda3/envs/tensorflow_p36/lib/python3.6/site-packages/jupyter_contrib_nbextensions/nbextensions/zenmode -> zenmode\n",
      "[I 01:15:33 InstallContribNbextensionsApp] Making directory: /home/ubuntu/anaconda3/envs/tensorflow_p36/share/jupyter/nbextensions/zenmode/\n",
      "[I 01:15:33 InstallContribNbextensionsApp] Copying: /home/ubuntu/anaconda3/envs/tensorflow_p36/lib/python3.6/site-packages/jupyter_contrib_nbextensions/nbextensions/zenmode/zenmode.yaml -> /home/ubuntu/anaconda3/envs/tensorflow_p36/share/jupyter/nbextensions/zenmode/zenmode.yaml\n",
      "[I 01:15:33 InstallContribNbextensionsApp] Copying: /home/ubuntu/anaconda3/envs/tensorflow_p36/lib/python3.6/site-packages/jupyter_contrib_nbextensions/nbextensions/zenmode/main.css -> /home/ubuntu/anaconda3/envs/tensorflow_p36/share/jupyter/nbextensions/zenmode/main.css\n",
      "[I 01:15:33 InstallContribNbextensionsApp] Copying: /home/ubuntu/anaconda3/envs/tensorflow_p36/lib/python3.6/site-packages/jupyter_contrib_nbextensions/nbextensions/zenmode/main.js -> /home/ubuntu/anaconda3/envs/tensorflow_p36/share/jupyter/nbextensions/zenmode/main.js\n",
      "[I 01:15:33 InstallContribNbextensionsApp] Copying: /home/ubuntu/anaconda3/envs/tensorflow_p36/lib/python3.6/site-packages/jupyter_contrib_nbextensions/nbextensions/zenmode/README.md -> /home/ubuntu/anaconda3/envs/tensorflow_p36/share/jupyter/nbextensions/zenmode/README.md\n",
      "[I 01:15:33 InstallContribNbextensionsApp] Making directory: /home/ubuntu/anaconda3/envs/tensorflow_p36/share/jupyter/nbextensions/zenmode/images\n",
      "[I 01:15:33 InstallContribNbextensionsApp] Copying: /home/ubuntu/anaconda3/envs/tensorflow_p36/lib/python3.6/site-packages/jupyter_contrib_nbextensions/nbextensions/zenmode/images/back3.jpg -> /home/ubuntu/anaconda3/envs/tensorflow_p36/share/jupyter/nbextensions/zenmode/images/back3.jpg\n",
      "[I 01:15:33 InstallContribNbextensionsApp] Copying: /home/ubuntu/anaconda3/envs/tensorflow_p36/lib/python3.6/site-packages/jupyter_contrib_nbextensions/nbextensions/zenmode/images/ipynblogo0.png -> /home/ubuntu/anaconda3/envs/tensorflow_p36/share/jupyter/nbextensions/zenmode/images/ipynblogo0.png\n",
      "[I 01:15:33 InstallContribNbextensionsApp] Copying: /home/ubuntu/anaconda3/envs/tensorflow_p36/lib/python3.6/site-packages/jupyter_contrib_nbextensions/nbextensions/zenmode/images/back11.jpg -> /home/ubuntu/anaconda3/envs/tensorflow_p36/share/jupyter/nbextensions/zenmode/images/back11.jpg\n",
      "[I 01:15:33 InstallContribNbextensionsApp] Copying: /home/ubuntu/anaconda3/envs/tensorflow_p36/lib/python3.6/site-packages/jupyter_contrib_nbextensions/nbextensions/zenmode/images/ipynblogo1.png -> /home/ubuntu/anaconda3/envs/tensorflow_p36/share/jupyter/nbextensions/zenmode/images/ipynblogo1.png\n",
      "[I 01:15:33 InstallContribNbextensionsApp] Copying: /home/ubuntu/anaconda3/envs/tensorflow_p36/lib/python3.6/site-packages/jupyter_contrib_nbextensions/nbextensions/zenmode/images/back21.jpg -> /home/ubuntu/anaconda3/envs/tensorflow_p36/share/jupyter/nbextensions/zenmode/images/back21.jpg\n",
      "[I 01:15:33 InstallContribNbextensionsApp] Copying: /home/ubuntu/anaconda3/envs/tensorflow_p36/lib/python3.6/site-packages/jupyter_contrib_nbextensions/nbextensions/zenmode/images/back22.jpg -> /home/ubuntu/anaconda3/envs/tensorflow_p36/share/jupyter/nbextensions/zenmode/images/back22.jpg\n",
      "[I 01:15:33 InstallContribNbextensionsApp] Copying: /home/ubuntu/anaconda3/envs/tensorflow_p36/lib/python3.6/site-packages/jupyter_contrib_nbextensions/nbextensions/zenmode/images/back2.jpg -> /home/ubuntu/anaconda3/envs/tensorflow_p36/share/jupyter/nbextensions/zenmode/images/back2.jpg\n",
      "[I 01:15:33 InstallContribNbextensionsApp] Copying: /home/ubuntu/anaconda3/envs/tensorflow_p36/lib/python3.6/site-packages/jupyter_contrib_nbextensions/nbextensions/zenmode/images/back12.jpg -> /home/ubuntu/anaconda3/envs/tensorflow_p36/share/jupyter/nbextensions/zenmode/images/back12.jpg\n",
      "[I 01:15:33 InstallContribNbextensionsApp] Copying: /home/ubuntu/anaconda3/envs/tensorflow_p36/lib/python3.6/site-packages/jupyter_contrib_nbextensions/nbextensions/zenmode/images/back1.jpg -> /home/ubuntu/anaconda3/envs/tensorflow_p36/share/jupyter/nbextensions/zenmode/images/back1.jpg\n",
      "[I 01:15:33 InstallContribNbextensionsApp] - Validating: \u001b[32mOK\u001b[0m\n",
      "[I 01:15:33 InstallContribNbextensionsApp] Installing /home/ubuntu/anaconda3/envs/tensorflow_p36/lib/python3.6/site-packages/jupyter_contrib_nbextensions/nbextensions/autosavetime -> autosavetime\n",
      "[I 01:15:33 InstallContribNbextensionsApp] Making directory: /home/ubuntu/anaconda3/envs/tensorflow_p36/share/jupyter/nbextensions/autosavetime/\n",
      "[I 01:15:33 InstallContribNbextensionsApp] Copying: /home/ubuntu/anaconda3/envs/tensorflow_p36/lib/python3.6/site-packages/jupyter_contrib_nbextensions/nbextensions/autosavetime/autosavetime.yaml -> /home/ubuntu/anaconda3/envs/tensorflow_p36/share/jupyter/nbextensions/autosavetime/autosavetime.yaml\n",
      "[I 01:15:33 InstallContribNbextensionsApp] Copying: /home/ubuntu/anaconda3/envs/tensorflow_p36/lib/python3.6/site-packages/jupyter_contrib_nbextensions/nbextensions/autosavetime/main.js -> /home/ubuntu/anaconda3/envs/tensorflow_p36/share/jupyter/nbextensions/autosavetime/main.js\n",
      "[I 01:15:33 InstallContribNbextensionsApp] Copying: /home/ubuntu/anaconda3/envs/tensorflow_p36/lib/python3.6/site-packages/jupyter_contrib_nbextensions/nbextensions/autosavetime/README.md -> /home/ubuntu/anaconda3/envs/tensorflow_p36/share/jupyter/nbextensions/autosavetime/README.md\n",
      "[I 01:15:33 InstallContribNbextensionsApp] Copying: /home/ubuntu/anaconda3/envs/tensorflow_p36/lib/python3.6/site-packages/jupyter_contrib_nbextensions/nbextensions/autosavetime/icon.png -> /home/ubuntu/anaconda3/envs/tensorflow_p36/share/jupyter/nbextensions/autosavetime/icon.png\n",
      "[I 01:15:33 InstallContribNbextensionsApp] - Validating: \u001b[32mOK\u001b[0m\n",
      "[I 01:15:33 InstallContribNbextensionsApp] Installing /home/ubuntu/anaconda3/envs/tensorflow_p36/lib/python3.6/site-packages/jupyter_contrib_nbextensions/nbextensions/toc2 -> toc2\n",
      "[I 01:15:33 InstallContribNbextensionsApp] Making directory: /home/ubuntu/anaconda3/envs/tensorflow_p36/share/jupyter/nbextensions/toc2/\n",
      "[I 01:15:33 InstallContribNbextensionsApp] Copying: /home/ubuntu/anaconda3/envs/tensorflow_p36/lib/python3.6/site-packages/jupyter_contrib_nbextensions/nbextensions/toc2/demo3.gif -> /home/ubuntu/anaconda3/envs/tensorflow_p36/share/jupyter/nbextensions/toc2/demo3.gif\n",
      "[I 01:15:33 InstallContribNbextensionsApp] Copying: /home/ubuntu/anaconda3/envs/tensorflow_p36/lib/python3.6/site-packages/jupyter_contrib_nbextensions/nbextensions/toc2/demo2.gif -> /home/ubuntu/anaconda3/envs/tensorflow_p36/share/jupyter/nbextensions/toc2/demo2.gif\n",
      "[I 01:15:33 InstallContribNbextensionsApp] Copying: /home/ubuntu/anaconda3/envs/tensorflow_p36/lib/python3.6/site-packages/jupyter_contrib_nbextensions/nbextensions/toc2/demo_dark.png -> /home/ubuntu/anaconda3/envs/tensorflow_p36/share/jupyter/nbextensions/toc2/demo_dark.png\n",
      "[I 01:15:33 InstallContribNbextensionsApp] Copying: /home/ubuntu/anaconda3/envs/tensorflow_p36/lib/python3.6/site-packages/jupyter_contrib_nbextensions/nbextensions/toc2/image.png -> /home/ubuntu/anaconda3/envs/tensorflow_p36/share/jupyter/nbextensions/toc2/image.png\n",
      "[I 01:15:33 InstallContribNbextensionsApp] Copying: /home/ubuntu/anaconda3/envs/tensorflow_p36/lib/python3.6/site-packages/jupyter_contrib_nbextensions/nbextensions/toc2/toc2.yaml -> /home/ubuntu/anaconda3/envs/tensorflow_p36/share/jupyter/nbextensions/toc2/toc2.yaml\n",
      "[I 01:15:33 InstallContribNbextensionsApp] Copying: /home/ubuntu/anaconda3/envs/tensorflow_p36/lib/python3.6/site-packages/jupyter_contrib_nbextensions/nbextensions/toc2/demo.gif -> /home/ubuntu/anaconda3/envs/tensorflow_p36/share/jupyter/nbextensions/toc2/demo.gif\n",
      "[I 01:15:33 InstallContribNbextensionsApp] Copying: /home/ubuntu/anaconda3/envs/tensorflow_p36/lib/python3.6/site-packages/jupyter_contrib_nbextensions/nbextensions/toc2/toc2.js -> /home/ubuntu/anaconda3/envs/tensorflow_p36/share/jupyter/nbextensions/toc2/toc2.js\n",
      "[I 01:15:33 InstallContribNbextensionsApp] Copying: /home/ubuntu/anaconda3/envs/tensorflow_p36/lib/python3.6/site-packages/jupyter_contrib_nbextensions/nbextensions/toc2/main.css -> /home/ubuntu/anaconda3/envs/tensorflow_p36/share/jupyter/nbextensions/toc2/main.css\n",
      "[I 01:15:33 InstallContribNbextensionsApp] Copying: /home/ubuntu/anaconda3/envs/tensorflow_p36/lib/python3.6/site-packages/jupyter_contrib_nbextensions/nbextensions/toc2/main.js -> /home/ubuntu/anaconda3/envs/tensorflow_p36/share/jupyter/nbextensions/toc2/main.js\n",
      "[I 01:15:33 InstallContribNbextensionsApp] Copying: /home/ubuntu/anaconda3/envs/tensorflow_p36/lib/python3.6/site-packages/jupyter_contrib_nbextensions/nbextensions/toc2/README.md -> /home/ubuntu/anaconda3/envs/tensorflow_p36/share/jupyter/nbextensions/toc2/README.md\n",
      "[I 01:15:33 InstallContribNbextensionsApp] Copying: /home/ubuntu/anaconda3/envs/tensorflow_p36/lib/python3.6/site-packages/jupyter_contrib_nbextensions/nbextensions/toc2/icon.png -> /home/ubuntu/anaconda3/envs/tensorflow_p36/share/jupyter/nbextensions/toc2/icon.png\n",
      "[I 01:15:33 InstallContribNbextensionsApp] - Validating: \u001b[32mOK\u001b[0m\n",
      "[I 01:15:33 InstallContribNbextensionsApp] Installing /home/ubuntu/anaconda3/envs/tensorflow_p36/lib/python3.6/site-packages/jupyter_contrib_nbextensions/nbextensions/varInspector -> varInspector\n",
      "[I 01:15:33 InstallContribNbextensionsApp] Making directory: /home/ubuntu/anaconda3/envs/tensorflow_p36/share/jupyter/nbextensions/varInspector/\n",
      "[I 01:15:33 InstallContribNbextensionsApp] Copying: /home/ubuntu/anaconda3/envs/tensorflow_p36/lib/python3.6/site-packages/jupyter_contrib_nbextensions/nbextensions/varInspector/var_list.py -> /home/ubuntu/anaconda3/envs/tensorflow_p36/share/jupyter/nbextensions/varInspector/var_list.py\n",
      "[I 01:15:33 InstallContribNbextensionsApp] Copying: /home/ubuntu/anaconda3/envs/tensorflow_p36/lib/python3.6/site-packages/jupyter_contrib_nbextensions/nbextensions/varInspector/demo.gif -> /home/ubuntu/anaconda3/envs/tensorflow_p36/share/jupyter/nbextensions/varInspector/demo.gif\n",
      "[I 01:15:33 InstallContribNbextensionsApp] Copying: /home/ubuntu/anaconda3/envs/tensorflow_p36/lib/python3.6/site-packages/jupyter_contrib_nbextensions/nbextensions/varInspector/jquery.tablesorter.min.js -> /home/ubuntu/anaconda3/envs/tensorflow_p36/share/jupyter/nbextensions/varInspector/jquery.tablesorter.min.js\n",
      "[I 01:15:33 InstallContribNbextensionsApp] Copying: /home/ubuntu/anaconda3/envs/tensorflow_p36/lib/python3.6/site-packages/jupyter_contrib_nbextensions/nbextensions/varInspector/var_list.r -> /home/ubuntu/anaconda3/envs/tensorflow_p36/share/jupyter/nbextensions/varInspector/var_list.r\n",
      "[I 01:15:33 InstallContribNbextensionsApp] Copying: /home/ubuntu/anaconda3/envs/tensorflow_p36/lib/python3.6/site-packages/jupyter_contrib_nbextensions/nbextensions/varInspector/main.css -> /home/ubuntu/anaconda3/envs/tensorflow_p36/share/jupyter/nbextensions/varInspector/main.css\n",
      "[I 01:15:33 InstallContribNbextensionsApp] Copying: /home/ubuntu/anaconda3/envs/tensorflow_p36/lib/python3.6/site-packages/jupyter_contrib_nbextensions/nbextensions/varInspector/tablesorter_LICENSE.txt -> /home/ubuntu/anaconda3/envs/tensorflow_p36/share/jupyter/nbextensions/varInspector/tablesorter_LICENSE.txt\n",
      "[I 01:15:33 InstallContribNbextensionsApp] Copying: /home/ubuntu/anaconda3/envs/tensorflow_p36/lib/python3.6/site-packages/jupyter_contrib_nbextensions/nbextensions/varInspector/main.js -> /home/ubuntu/anaconda3/envs/tensorflow_p36/share/jupyter/nbextensions/varInspector/main.js\n",
      "[I 01:15:33 InstallContribNbextensionsApp] Copying: /home/ubuntu/anaconda3/envs/tensorflow_p36/lib/python3.6/site-packages/jupyter_contrib_nbextensions/nbextensions/varInspector/README.md -> /home/ubuntu/anaconda3/envs/tensorflow_p36/share/jupyter/nbextensions/varInspector/README.md\n",
      "[I 01:15:33 InstallContribNbextensionsApp] Copying: /home/ubuntu/anaconda3/envs/tensorflow_p36/lib/python3.6/site-packages/jupyter_contrib_nbextensions/nbextensions/varInspector/varInspector.yaml -> /home/ubuntu/anaconda3/envs/tensorflow_p36/share/jupyter/nbextensions/varInspector/varInspector.yaml\n",
      "[I 01:15:33 InstallContribNbextensionsApp] Copying: /home/ubuntu/anaconda3/envs/tensorflow_p36/lib/python3.6/site-packages/jupyter_contrib_nbextensions/nbextensions/varInspector/icon.png -> /home/ubuntu/anaconda3/envs/tensorflow_p36/share/jupyter/nbextensions/varInspector/icon.png\n",
      "[I 01:15:33 InstallContribNbextensionsApp] Making directory: /home/ubuntu/anaconda3/envs/tensorflow_p36/share/jupyter/nbextensions/varInspector/__pycache__\n",
      "[I 01:15:33 InstallContribNbextensionsApp] Copying: /home/ubuntu/anaconda3/envs/tensorflow_p36/lib/python3.6/site-packages/jupyter_contrib_nbextensions/nbextensions/varInspector/__pycache__/var_list.cpython-36.pyc -> /home/ubuntu/anaconda3/envs/tensorflow_p36/share/jupyter/nbextensions/varInspector/__pycache__/var_list.cpython-36.pyc\n",
      "[I 01:15:33 InstallContribNbextensionsApp] - Validating: \u001b[32mOK\u001b[0m\n",
      "[I 01:15:33 InstallContribNbextensionsApp] Installing /home/ubuntu/anaconda3/envs/tensorflow_p36/lib/python3.6/site-packages/jupyter_contrib_nbextensions/nbextensions/highlighter -> highlighter\n",
      "[I 01:15:33 InstallContribNbextensionsApp] Making directory: /home/ubuntu/anaconda3/envs/tensorflow_p36/share/jupyter/nbextensions/highlighter/\n",
      "[I 01:15:33 InstallContribNbextensionsApp] Copying: /home/ubuntu/anaconda3/envs/tensorflow_p36/lib/python3.6/site-packages/jupyter_contrib_nbextensions/nbextensions/highlighter/export_highlights.html -> /home/ubuntu/anaconda3/envs/tensorflow_p36/share/jupyter/nbextensions/highlighter/export_highlights.html\n",
      "[I 01:15:33 InstallContribNbextensionsApp] Copying: /home/ubuntu/anaconda3/envs/tensorflow_p36/lib/python3.6/site-packages/jupyter_contrib_nbextensions/nbextensions/highlighter/demo_highlighter.ipynb -> /home/ubuntu/anaconda3/envs/tensorflow_p36/share/jupyter/nbextensions/highlighter/demo_highlighter.ipynb\n",
      "[I 01:15:33 InstallContribNbextensionsApp] Copying: /home/ubuntu/anaconda3/envs/tensorflow_p36/lib/python3.6/site-packages/jupyter_contrib_nbextensions/nbextensions/highlighter/tst_highlights.tex -> /home/ubuntu/anaconda3/envs/tensorflow_p36/share/jupyter/nbextensions/highlighter/tst_highlights.tex\n",
      "[I 01:15:33 InstallContribNbextensionsApp] Copying: /home/ubuntu/anaconda3/envs/tensorflow_p36/lib/python3.6/site-packages/jupyter_contrib_nbextensions/nbextensions/highlighter/tst_highlights.ipynb -> /home/ubuntu/anaconda3/envs/tensorflow_p36/share/jupyter/nbextensions/highlighter/tst_highlights.ipynb\n",
      "[I 01:15:33 InstallContribNbextensionsApp] Copying: /home/ubuntu/anaconda3/envs/tensorflow_p36/lib/python3.6/site-packages/jupyter_contrib_nbextensions/nbextensions/highlighter/tst_highlights.pdf -> /home/ubuntu/anaconda3/envs/tensorflow_p36/share/jupyter/nbextensions/highlighter/tst_highlights.pdf\n",
      "[I 01:15:33 InstallContribNbextensionsApp] Copying: /home/ubuntu/anaconda3/envs/tensorflow_p36/lib/python3.6/site-packages/jupyter_contrib_nbextensions/nbextensions/highlighter/image.gif -> /home/ubuntu/anaconda3/envs/tensorflow_p36/share/jupyter/nbextensions/highlighter/image.gif\n",
      "[I 01:15:33 InstallContribNbextensionsApp] Copying: /home/ubuntu/anaconda3/envs/tensorflow_p36/lib/python3.6/site-packages/jupyter_contrib_nbextensions/nbextensions/highlighter/export_highlights.tex -> /home/ubuntu/anaconda3/envs/tensorflow_p36/share/jupyter/nbextensions/highlighter/export_highlights.tex\n",
      "[I 01:15:33 InstallContribNbextensionsApp] Copying: /home/ubuntu/anaconda3/envs/tensorflow_p36/lib/python3.6/site-packages/jupyter_contrib_nbextensions/nbextensions/highlighter/highlighter.yaml -> /home/ubuntu/anaconda3/envs/tensorflow_p36/share/jupyter/nbextensions/highlighter/highlighter.yaml\n",
      "[I 01:15:33 InstallContribNbextensionsApp] Copying: /home/ubuntu/anaconda3/envs/tensorflow_p36/lib/python3.6/site-packages/jupyter_contrib_nbextensions/nbextensions/highlighter/highlighter.js -> /home/ubuntu/anaconda3/envs/tensorflow_p36/share/jupyter/nbextensions/highlighter/highlighter.js\n",
      "[I 01:15:33 InstallContribNbextensionsApp] Copying: /home/ubuntu/anaconda3/envs/tensorflow_p36/lib/python3.6/site-packages/jupyter_contrib_nbextensions/nbextensions/highlighter/export_highlights.pdf -> /home/ubuntu/anaconda3/envs/tensorflow_p36/share/jupyter/nbextensions/highlighter/export_highlights.pdf\n",
      "[I 01:15:33 InstallContribNbextensionsApp] Copying: /home/ubuntu/anaconda3/envs/tensorflow_p36/lib/python3.6/site-packages/jupyter_contrib_nbextensions/nbextensions/highlighter/highlighter.css -> /home/ubuntu/anaconda3/envs/tensorflow_p36/share/jupyter/nbextensions/highlighter/highlighter.css\n",
      "[I 01:15:33 InstallContribNbextensionsApp] Copying: /home/ubuntu/anaconda3/envs/tensorflow_p36/lib/python3.6/site-packages/jupyter_contrib_nbextensions/nbextensions/highlighter/tst_highlights.html -> /home/ubuntu/anaconda3/envs/tensorflow_p36/share/jupyter/nbextensions/highlighter/tst_highlights.html\n",
      "[I 01:15:33 InstallContribNbextensionsApp] Copying: /home/ubuntu/anaconda3/envs/tensorflow_p36/lib/python3.6/site-packages/jupyter_contrib_nbextensions/nbextensions/highlighter/readme.md -> /home/ubuntu/anaconda3/envs/tensorflow_p36/share/jupyter/nbextensions/highlighter/readme.md\n",
      "[I 01:15:33 InstallContribNbextensionsApp] Copying: /home/ubuntu/anaconda3/envs/tensorflow_p36/lib/python3.6/site-packages/jupyter_contrib_nbextensions/nbextensions/highlighter/demo_highlighter.html -> /home/ubuntu/anaconda3/envs/tensorflow_p36/share/jupyter/nbextensions/highlighter/demo_highlighter.html\n",
      "[I 01:15:33 InstallContribNbextensionsApp] Copying: /home/ubuntu/anaconda3/envs/tensorflow_p36/lib/python3.6/site-packages/jupyter_contrib_nbextensions/nbextensions/highlighter/icon.png -> /home/ubuntu/anaconda3/envs/tensorflow_p36/share/jupyter/nbextensions/highlighter/icon.png\n",
      "[I 01:15:33 InstallContribNbextensionsApp] Copying: /home/ubuntu/anaconda3/envs/tensorflow_p36/lib/python3.6/site-packages/jupyter_contrib_nbextensions/nbextensions/highlighter/export_highlights.ipynb -> /home/ubuntu/anaconda3/envs/tensorflow_p36/share/jupyter/nbextensions/highlighter/export_highlights.ipynb\n",
      "[I 01:15:33 InstallContribNbextensionsApp] - Validating: \u001b[32mOK\u001b[0m\n",
      "[I 01:15:33 InstallContribNbextensionsApp] Installing /home/ubuntu/anaconda3/envs/tensorflow_p36/lib/python3.6/site-packages/jupyter_contrib_nbextensions/nbextensions/codefolding -> codefolding\n",
      "[I 01:15:33 InstallContribNbextensionsApp] Making directory: /home/ubuntu/anaconda3/envs/tensorflow_p36/share/jupyter/nbextensions/codefolding/\n",
      "[I 01:15:33 InstallContribNbextensionsApp] Copying: /home/ubuntu/anaconda3/envs/tensorflow_p36/lib/python3.6/site-packages/jupyter_contrib_nbextensions/nbextensions/codefolding/codefolding_editor.yaml -> /home/ubuntu/anaconda3/envs/tensorflow_p36/share/jupyter/nbextensions/codefolding/codefolding_editor.yaml\n",
      "[I 01:15:33 InstallContribNbextensionsApp] Copying: /home/ubuntu/anaconda3/envs/tensorflow_p36/lib/python3.6/site-packages/jupyter_contrib_nbextensions/nbextensions/codefolding/codefolding.yaml -> /home/ubuntu/anaconda3/envs/tensorflow_p36/share/jupyter/nbextensions/codefolding/codefolding.yaml\n",
      "[I 01:15:33 InstallContribNbextensionsApp] Copying: /home/ubuntu/anaconda3/envs/tensorflow_p36/lib/python3.6/site-packages/jupyter_contrib_nbextensions/nbextensions/codefolding/codefolding_editor.png -> /home/ubuntu/anaconda3/envs/tensorflow_p36/share/jupyter/nbextensions/codefolding/codefolding_editor.png\n",
      "[I 01:15:33 InstallContribNbextensionsApp] Copying: /home/ubuntu/anaconda3/envs/tensorflow_p36/lib/python3.6/site-packages/jupyter_contrib_nbextensions/nbextensions/codefolding/codefolding_firstline_unfolded.png -> /home/ubuntu/anaconda3/envs/tensorflow_p36/share/jupyter/nbextensions/codefolding/codefolding_firstline_unfolded.png\n",
      "[I 01:15:33 InstallContribNbextensionsApp] Copying: /home/ubuntu/anaconda3/envs/tensorflow_p36/lib/python3.6/site-packages/jupyter_contrib_nbextensions/nbextensions/codefolding/edit.js -> /home/ubuntu/anaconda3/envs/tensorflow_p36/share/jupyter/nbextensions/codefolding/edit.js\n",
      "[I 01:15:33 InstallContribNbextensionsApp] Copying: /home/ubuntu/anaconda3/envs/tensorflow_p36/lib/python3.6/site-packages/jupyter_contrib_nbextensions/nbextensions/codefolding/magic-unfolded.png -> /home/ubuntu/anaconda3/envs/tensorflow_p36/share/jupyter/nbextensions/codefolding/magic-unfolded.png\n",
      "[I 01:15:33 InstallContribNbextensionsApp] Copying: /home/ubuntu/anaconda3/envs/tensorflow_p36/lib/python3.6/site-packages/jupyter_contrib_nbextensions/nbextensions/codefolding/firstline-fold.js -> /home/ubuntu/anaconda3/envs/tensorflow_p36/share/jupyter/nbextensions/codefolding/firstline-fold.js\n",
      "[I 01:15:33 InstallContribNbextensionsApp] Copying: /home/ubuntu/anaconda3/envs/tensorflow_p36/lib/python3.6/site-packages/jupyter_contrib_nbextensions/nbextensions/codefolding/foldgutter.css -> /home/ubuntu/anaconda3/envs/tensorflow_p36/share/jupyter/nbextensions/codefolding/foldgutter.css\n",
      "[I 01:15:33 InstallContribNbextensionsApp] Copying: /home/ubuntu/anaconda3/envs/tensorflow_p36/lib/python3.6/site-packages/jupyter_contrib_nbextensions/nbextensions/codefolding/codefolding_indent_folded_2.png -> /home/ubuntu/anaconda3/envs/tensorflow_p36/share/jupyter/nbextensions/codefolding/codefolding_indent_folded_2.png\n",
      "[I 01:15:33 InstallContribNbextensionsApp] Copying: /home/ubuntu/anaconda3/envs/tensorflow_p36/lib/python3.6/site-packages/jupyter_contrib_nbextensions/nbextensions/codefolding/codefolding_indent_folded_1.png -> /home/ubuntu/anaconda3/envs/tensorflow_p36/share/jupyter/nbextensions/codefolding/codefolding_indent_folded_1.png\n",
      "[I 01:15:33 InstallContribNbextensionsApp] Copying: /home/ubuntu/anaconda3/envs/tensorflow_p36/lib/python3.6/site-packages/jupyter_contrib_nbextensions/nbextensions/codefolding/magic-fold.js -> /home/ubuntu/anaconda3/envs/tensorflow_p36/share/jupyter/nbextensions/codefolding/magic-fold.js\n",
      "[I 01:15:33 InstallContribNbextensionsApp] Copying: /home/ubuntu/anaconda3/envs/tensorflow_p36/lib/python3.6/site-packages/jupyter_contrib_nbextensions/nbextensions/codefolding/codefolding_indent_unfolded.png -> /home/ubuntu/anaconda3/envs/tensorflow_p36/share/jupyter/nbextensions/codefolding/codefolding_indent_unfolded.png\n",
      "[I 01:15:33 InstallContribNbextensionsApp] Copying: /home/ubuntu/anaconda3/envs/tensorflow_p36/lib/python3.6/site-packages/jupyter_contrib_nbextensions/nbextensions/codefolding/codefolding_firstline_folded.png -> /home/ubuntu/anaconda3/envs/tensorflow_p36/share/jupyter/nbextensions/codefolding/codefolding_firstline_folded.png\n",
      "[I 01:15:33 InstallContribNbextensionsApp] Copying: /home/ubuntu/anaconda3/envs/tensorflow_p36/lib/python3.6/site-packages/jupyter_contrib_nbextensions/nbextensions/codefolding/main.js -> /home/ubuntu/anaconda3/envs/tensorflow_p36/share/jupyter/nbextensions/codefolding/main.js\n",
      "[I 01:15:33 InstallContribNbextensionsApp] Copying: /home/ubuntu/anaconda3/envs/tensorflow_p36/lib/python3.6/site-packages/jupyter_contrib_nbextensions/nbextensions/codefolding/readme.md -> /home/ubuntu/anaconda3/envs/tensorflow_p36/share/jupyter/nbextensions/codefolding/readme.md\n",
      "[I 01:15:33 InstallContribNbextensionsApp] Copying: /home/ubuntu/anaconda3/envs/tensorflow_p36/lib/python3.6/site-packages/jupyter_contrib_nbextensions/nbextensions/codefolding/magic-folded.png -> /home/ubuntu/anaconda3/envs/tensorflow_p36/share/jupyter/nbextensions/codefolding/magic-folded.png\n",
      "[I 01:15:33 InstallContribNbextensionsApp] Copying: /home/ubuntu/anaconda3/envs/tensorflow_p36/lib/python3.6/site-packages/jupyter_contrib_nbextensions/nbextensions/codefolding/icon.png -> /home/ubuntu/anaconda3/envs/tensorflow_p36/share/jupyter/nbextensions/codefolding/icon.png\n",
      "[I 01:15:33 InstallContribNbextensionsApp] - Validating: \u001b[32mOK\u001b[0m\n",
      "[I 01:15:33 InstallContribNbextensionsApp] Installing /home/ubuntu/anaconda3/envs/tensorflow_p36/lib/python3.6/site-packages/jupyter_contrib_nbextensions/nbextensions/codefolding -> codefolding\n",
      "[I 01:15:33 InstallContribNbextensionsApp] Up to date: /home/ubuntu/anaconda3/envs/tensorflow_p36/share/jupyter/nbextensions/codefolding/codefolding_editor.yaml\n",
      "[I 01:15:33 InstallContribNbextensionsApp] Up to date: /home/ubuntu/anaconda3/envs/tensorflow_p36/share/jupyter/nbextensions/codefolding/codefolding.yaml\n",
      "[I 01:15:33 InstallContribNbextensionsApp] Up to date: /home/ubuntu/anaconda3/envs/tensorflow_p36/share/jupyter/nbextensions/codefolding/codefolding_editor.png\n",
      "[I 01:15:33 InstallContribNbextensionsApp] Up to date: /home/ubuntu/anaconda3/envs/tensorflow_p36/share/jupyter/nbextensions/codefolding/codefolding_firstline_unfolded.png\n",
      "[I 01:15:33 InstallContribNbextensionsApp] Up to date: /home/ubuntu/anaconda3/envs/tensorflow_p36/share/jupyter/nbextensions/codefolding/edit.js\n",
      "[I 01:15:33 InstallContribNbextensionsApp] Up to date: /home/ubuntu/anaconda3/envs/tensorflow_p36/share/jupyter/nbextensions/codefolding/magic-unfolded.png\n",
      "[I 01:15:33 InstallContribNbextensionsApp] Up to date: /home/ubuntu/anaconda3/envs/tensorflow_p36/share/jupyter/nbextensions/codefolding/firstline-fold.js\n",
      "[I 01:15:33 InstallContribNbextensionsApp] Up to date: /home/ubuntu/anaconda3/envs/tensorflow_p36/share/jupyter/nbextensions/codefolding/foldgutter.css\n",
      "[I 01:15:33 InstallContribNbextensionsApp] Up to date: /home/ubuntu/anaconda3/envs/tensorflow_p36/share/jupyter/nbextensions/codefolding/codefolding_indent_folded_2.png\n",
      "[I 01:15:33 InstallContribNbextensionsApp] Up to date: /home/ubuntu/anaconda3/envs/tensorflow_p36/share/jupyter/nbextensions/codefolding/codefolding_indent_folded_1.png\n",
      "[I 01:15:33 InstallContribNbextensionsApp] Up to date: /home/ubuntu/anaconda3/envs/tensorflow_p36/share/jupyter/nbextensions/codefolding/magic-fold.js\n",
      "[I 01:15:33 InstallContribNbextensionsApp] Up to date: /home/ubuntu/anaconda3/envs/tensorflow_p36/share/jupyter/nbextensions/codefolding/codefolding_indent_unfolded.png\n",
      "[I 01:15:33 InstallContribNbextensionsApp] Up to date: /home/ubuntu/anaconda3/envs/tensorflow_p36/share/jupyter/nbextensions/codefolding/codefolding_firstline_folded.png\n",
      "[I 01:15:33 InstallContribNbextensionsApp] Up to date: /home/ubuntu/anaconda3/envs/tensorflow_p36/share/jupyter/nbextensions/codefolding/main.js\n",
      "[I 01:15:33 InstallContribNbextensionsApp] Up to date: /home/ubuntu/anaconda3/envs/tensorflow_p36/share/jupyter/nbextensions/codefolding/readme.md\n",
      "[I 01:15:33 InstallContribNbextensionsApp] Up to date: /home/ubuntu/anaconda3/envs/tensorflow_p36/share/jupyter/nbextensions/codefolding/magic-folded.png\n",
      "[I 01:15:33 InstallContribNbextensionsApp] Up to date: /home/ubuntu/anaconda3/envs/tensorflow_p36/share/jupyter/nbextensions/codefolding/icon.png\n",
      "[I 01:15:33 InstallContribNbextensionsApp] - Validating: \u001b[32mOK\u001b[0m\n",
      "[I 01:15:33 InstallContribNbextensionsApp] Installing /home/ubuntu/anaconda3/envs/tensorflow_p36/lib/python3.6/site-packages/jupyter_contrib_nbextensions/nbextensions/splitcell -> splitcell\n",
      "[I 01:15:33 InstallContribNbextensionsApp] Making directory: /home/ubuntu/anaconda3/envs/tensorflow_p36/share/jupyter/nbextensions/splitcell/\n",
      "[I 01:15:33 InstallContribNbextensionsApp] Copying: /home/ubuntu/anaconda3/envs/tensorflow_p36/lib/python3.6/site-packages/jupyter_contrib_nbextensions/nbextensions/splitcell/splitcell.yaml -> /home/ubuntu/anaconda3/envs/tensorflow_p36/share/jupyter/nbextensions/splitcell/splitcell.yaml\n",
      "[I 01:15:33 InstallContribNbextensionsApp] Copying: /home/ubuntu/anaconda3/envs/tensorflow_p36/lib/python3.6/site-packages/jupyter_contrib_nbextensions/nbextensions/splitcell/splitcell.js -> /home/ubuntu/anaconda3/envs/tensorflow_p36/share/jupyter/nbextensions/splitcell/splitcell.js\n",
      "[I 01:15:33 InstallContribNbextensionsApp] Copying: /home/ubuntu/anaconda3/envs/tensorflow_p36/lib/python3.6/site-packages/jupyter_contrib_nbextensions/nbextensions/splitcell/readme.md -> /home/ubuntu/anaconda3/envs/tensorflow_p36/share/jupyter/nbextensions/splitcell/readme.md\n",
      "[I 01:15:33 InstallContribNbextensionsApp] Copying: /home/ubuntu/anaconda3/envs/tensorflow_p36/lib/python3.6/site-packages/jupyter_contrib_nbextensions/nbextensions/splitcell/icon.png -> /home/ubuntu/anaconda3/envs/tensorflow_p36/share/jupyter/nbextensions/splitcell/icon.png\n",
      "[I 01:15:33 InstallContribNbextensionsApp] - Validating: \u001b[32mOK\u001b[0m\n",
      "[I 01:15:33 InstallContribNbextensionsApp] Installing /home/ubuntu/anaconda3/envs/tensorflow_p36/lib/python3.6/site-packages/jupyter_contrib_nbextensions/nbextensions/toggle_all_line_numbers -> toggle_all_line_numbers\n",
      "[I 01:15:33 InstallContribNbextensionsApp] Making directory: /home/ubuntu/anaconda3/envs/tensorflow_p36/share/jupyter/nbextensions/toggle_all_line_numbers/\n",
      "[I 01:15:33 InstallContribNbextensionsApp] Copying: /home/ubuntu/anaconda3/envs/tensorflow_p36/lib/python3.6/site-packages/jupyter_contrib_nbextensions/nbextensions/toggle_all_line_numbers/main.yaml -> /home/ubuntu/anaconda3/envs/tensorflow_p36/share/jupyter/nbextensions/toggle_all_line_numbers/main.yaml\n",
      "[I 01:15:33 InstallContribNbextensionsApp] Copying: /home/ubuntu/anaconda3/envs/tensorflow_p36/lib/python3.6/site-packages/jupyter_contrib_nbextensions/nbextensions/toggle_all_line_numbers/main.js -> /home/ubuntu/anaconda3/envs/tensorflow_p36/share/jupyter/nbextensions/toggle_all_line_numbers/main.js\n",
      "[I 01:15:33 InstallContribNbextensionsApp] Copying: /home/ubuntu/anaconda3/envs/tensorflow_p36/lib/python3.6/site-packages/jupyter_contrib_nbextensions/nbextensions/toggle_all_line_numbers/readme.md -> /home/ubuntu/anaconda3/envs/tensorflow_p36/share/jupyter/nbextensions/toggle_all_line_numbers/readme.md\n",
      "[I 01:15:33 InstallContribNbextensionsApp] Copying: /home/ubuntu/anaconda3/envs/tensorflow_p36/lib/python3.6/site-packages/jupyter_contrib_nbextensions/nbextensions/toggle_all_line_numbers/icon.png -> /home/ubuntu/anaconda3/envs/tensorflow_p36/share/jupyter/nbextensions/toggle_all_line_numbers/icon.png\n",
      "[I 01:15:33 InstallContribNbextensionsApp] - Validating: \u001b[32mOK\u001b[0m\n",
      "[I 01:15:33 InstallContribNbextensionsApp] Installing /home/ubuntu/anaconda3/envs/tensorflow_p36/lib/python3.6/site-packages/jupyter_contrib_nbextensions/nbextensions/equation-numbering -> equation-numbering\n",
      "[I 01:15:33 InstallContribNbextensionsApp] Making directory: /home/ubuntu/anaconda3/envs/tensorflow_p36/share/jupyter/nbextensions/equation-numbering/\n",
      "[I 01:15:33 InstallContribNbextensionsApp] Copying: /home/ubuntu/anaconda3/envs/tensorflow_p36/lib/python3.6/site-packages/jupyter_contrib_nbextensions/nbextensions/equation-numbering/button.png -> /home/ubuntu/anaconda3/envs/tensorflow_p36/share/jupyter/nbextensions/equation-numbering/button.png\n",
      "[I 01:15:33 InstallContribNbextensionsApp] Copying: /home/ubuntu/anaconda3/envs/tensorflow_p36/lib/python3.6/site-packages/jupyter_contrib_nbextensions/nbextensions/equation-numbering/info.yaml -> /home/ubuntu/anaconda3/envs/tensorflow_p36/share/jupyter/nbextensions/equation-numbering/info.yaml\n",
      "[I 01:15:33 InstallContribNbextensionsApp] Copying: /home/ubuntu/anaconda3/envs/tensorflow_p36/lib/python3.6/site-packages/jupyter_contrib_nbextensions/nbextensions/equation-numbering/main.js -> /home/ubuntu/anaconda3/envs/tensorflow_p36/share/jupyter/nbextensions/equation-numbering/main.js\n",
      "[I 01:15:33 InstallContribNbextensionsApp] Copying: /home/ubuntu/anaconda3/envs/tensorflow_p36/lib/python3.6/site-packages/jupyter_contrib_nbextensions/nbextensions/equation-numbering/readme.md -> /home/ubuntu/anaconda3/envs/tensorflow_p36/share/jupyter/nbextensions/equation-numbering/readme.md\n",
      "[I 01:15:33 InstallContribNbextensionsApp] Copying: /home/ubuntu/anaconda3/envs/tensorflow_p36/lib/python3.6/site-packages/jupyter_contrib_nbextensions/nbextensions/equation-numbering/icon.png -> /home/ubuntu/anaconda3/envs/tensorflow_p36/share/jupyter/nbextensions/equation-numbering/icon.png\n",
      "[I 01:15:33 InstallContribNbextensionsApp] - Validating: \u001b[32mOK\u001b[0m\n",
      "[I 01:15:33 InstallContribNbextensionsApp] Installing /home/ubuntu/anaconda3/envs/tensorflow_p36/lib/python3.6/site-packages/jupyter_contrib_nbextensions/nbextensions/code_font_size -> code_font_size\n",
      "[I 01:15:33 InstallContribNbextensionsApp] Making directory: /home/ubuntu/anaconda3/envs/tensorflow_p36/share/jupyter/nbextensions/code_font_size/\n",
      "[I 01:15:33 InstallContribNbextensionsApp] Copying: /home/ubuntu/anaconda3/envs/tensorflow_p36/lib/python3.6/site-packages/jupyter_contrib_nbextensions/nbextensions/code_font_size/code_font_size.js -> /home/ubuntu/anaconda3/envs/tensorflow_p36/share/jupyter/nbextensions/code_font_size/code_font_size.js\n",
      "[I 01:15:33 InstallContribNbextensionsApp] Copying: /home/ubuntu/anaconda3/envs/tensorflow_p36/lib/python3.6/site-packages/jupyter_contrib_nbextensions/nbextensions/code_font_size/code_font_size.yaml -> /home/ubuntu/anaconda3/envs/tensorflow_p36/share/jupyter/nbextensions/code_font_size/code_font_size.yaml\n",
      "[I 01:15:33 InstallContribNbextensionsApp] Copying: /home/ubuntu/anaconda3/envs/tensorflow_p36/lib/python3.6/site-packages/jupyter_contrib_nbextensions/nbextensions/code_font_size/README.md -> /home/ubuntu/anaconda3/envs/tensorflow_p36/share/jupyter/nbextensions/code_font_size/README.md\n",
      "[I 01:15:33 InstallContribNbextensionsApp] - Validating: \u001b[32mOK\u001b[0m\n",
      "[I 01:15:33 InstallContribNbextensionsApp] Installing /home/ubuntu/anaconda3/envs/tensorflow_p36/lib/python3.6/site-packages/jupyter_contrib_nbextensions/nbextensions/execute_time -> execute_time\n",
      "[I 01:15:33 InstallContribNbextensionsApp] Making directory: /home/ubuntu/anaconda3/envs/tensorflow_p36/share/jupyter/nbextensions/execute_time/\n",
      "[I 01:15:33 InstallContribNbextensionsApp] Copying: /home/ubuntu/anaconda3/envs/tensorflow_p36/lib/python3.6/site-packages/jupyter_contrib_nbextensions/nbextensions/execute_time/ExecuteTime.js -> /home/ubuntu/anaconda3/envs/tensorflow_p36/share/jupyter/nbextensions/execute_time/ExecuteTime.js\n",
      "[I 01:15:33 InstallContribNbextensionsApp] Copying: /home/ubuntu/anaconda3/envs/tensorflow_p36/lib/python3.6/site-packages/jupyter_contrib_nbextensions/nbextensions/execute_time/ExecuteTime.yaml -> /home/ubuntu/anaconda3/envs/tensorflow_p36/share/jupyter/nbextensions/execute_time/ExecuteTime.yaml\n",
      "[I 01:15:33 InstallContribNbextensionsApp] Copying: /home/ubuntu/anaconda3/envs/tensorflow_p36/lib/python3.6/site-packages/jupyter_contrib_nbextensions/nbextensions/execute_time/ExecuteTime.css -> /home/ubuntu/anaconda3/envs/tensorflow_p36/share/jupyter/nbextensions/execute_time/ExecuteTime.css\n",
      "[I 01:15:33 InstallContribNbextensionsApp] Copying: /home/ubuntu/anaconda3/envs/tensorflow_p36/lib/python3.6/site-packages/jupyter_contrib_nbextensions/nbextensions/execute_time/execution-timings-menu.png -> /home/ubuntu/anaconda3/envs/tensorflow_p36/share/jupyter/nbextensions/execute_time/execution-timings-menu.png\n",
      "[I 01:15:33 InstallContribNbextensionsApp] Copying: /home/ubuntu/anaconda3/envs/tensorflow_p36/lib/python3.6/site-packages/jupyter_contrib_nbextensions/nbextensions/execute_time/execution-timings-box.png -> /home/ubuntu/anaconda3/envs/tensorflow_p36/share/jupyter/nbextensions/execute_time/execution-timings-box.png\n",
      "[I 01:15:33 InstallContribNbextensionsApp] Copying: /home/ubuntu/anaconda3/envs/tensorflow_p36/lib/python3.6/site-packages/jupyter_contrib_nbextensions/nbextensions/execute_time/readme.md -> /home/ubuntu/anaconda3/envs/tensorflow_p36/share/jupyter/nbextensions/execute_time/readme.md\n",
      "[I 01:15:33 InstallContribNbextensionsApp] Copying: /home/ubuntu/anaconda3/envs/tensorflow_p36/lib/python3.6/site-packages/jupyter_contrib_nbextensions/nbextensions/execute_time/icon.png -> /home/ubuntu/anaconda3/envs/tensorflow_p36/share/jupyter/nbextensions/execute_time/icon.png\n",
      "[I 01:15:33 InstallContribNbextensionsApp] - Validating: \u001b[32mOK\u001b[0m\n",
      "[I 01:15:33 InstallContribNbextensionsApp] Installing /home/ubuntu/anaconda3/envs/tensorflow_p36/lib/python3.6/site-packages/jupyter_contrib_nbextensions/nbextensions/collapsible_headings -> collapsible_headings\n",
      "[I 01:15:33 InstallContribNbextensionsApp] Making directory: /home/ubuntu/anaconda3/envs/tensorflow_p36/share/jupyter/nbextensions/collapsible_headings/\n",
      "[I 01:15:33 InstallContribNbextensionsApp] Copying: /home/ubuntu/anaconda3/envs/tensorflow_p36/lib/python3.6/site-packages/jupyter_contrib_nbextensions/nbextensions/collapsible_headings/screenshot.png -> /home/ubuntu/anaconda3/envs/tensorflow_p36/share/jupyter/nbextensions/collapsible_headings/screenshot.png\n",
      "[I 01:15:33 InstallContribNbextensionsApp] Copying: /home/ubuntu/anaconda3/envs/tensorflow_p36/lib/python3.6/site-packages/jupyter_contrib_nbextensions/nbextensions/collapsible_headings/main.css -> /home/ubuntu/anaconda3/envs/tensorflow_p36/share/jupyter/nbextensions/collapsible_headings/main.css\n",
      "[I 01:15:33 InstallContribNbextensionsApp] Copying: /home/ubuntu/anaconda3/envs/tensorflow_p36/lib/python3.6/site-packages/jupyter_contrib_nbextensions/nbextensions/collapsible_headings/main.js -> /home/ubuntu/anaconda3/envs/tensorflow_p36/share/jupyter/nbextensions/collapsible_headings/main.js\n",
      "[I 01:15:33 InstallContribNbextensionsApp] Copying: /home/ubuntu/anaconda3/envs/tensorflow_p36/lib/python3.6/site-packages/jupyter_contrib_nbextensions/nbextensions/collapsible_headings/readme.md -> /home/ubuntu/anaconda3/envs/tensorflow_p36/share/jupyter/nbextensions/collapsible_headings/readme.md\n",
      "[I 01:15:33 InstallContribNbextensionsApp] Copying: /home/ubuntu/anaconda3/envs/tensorflow_p36/lib/python3.6/site-packages/jupyter_contrib_nbextensions/nbextensions/collapsible_headings/collapsible_headings.yaml -> /home/ubuntu/anaconda3/envs/tensorflow_p36/share/jupyter/nbextensions/collapsible_headings/collapsible_headings.yaml\n",
      "[I 01:15:33 InstallContribNbextensionsApp] Copying: /home/ubuntu/anaconda3/envs/tensorflow_p36/lib/python3.6/site-packages/jupyter_contrib_nbextensions/nbextensions/collapsible_headings/icon.png -> /home/ubuntu/anaconda3/envs/tensorflow_p36/share/jupyter/nbextensions/collapsible_headings/icon.png\n",
      "[I 01:15:33 InstallContribNbextensionsApp] - Validating: \u001b[32mOK\u001b[0m\n",
      "[I 01:15:33 InstallContribNbextensionsApp] Installing /home/ubuntu/anaconda3/envs/tensorflow_p36/lib/python3.6/site-packages/jupyter_contrib_nbextensions/nbextensions/keyboard_shortcut_editor -> keyboard_shortcut_editor\n",
      "[I 01:15:33 InstallContribNbextensionsApp] Making directory: /home/ubuntu/anaconda3/envs/tensorflow_p36/share/jupyter/nbextensions/keyboard_shortcut_editor/\n",
      "[I 01:15:33 InstallContribNbextensionsApp] Copying: /home/ubuntu/anaconda3/envs/tensorflow_p36/lib/python3.6/site-packages/jupyter_contrib_nbextensions/nbextensions/keyboard_shortcut_editor/readme_undefined_key.png -> /home/ubuntu/anaconda3/envs/tensorflow_p36/share/jupyter/nbextensions/keyboard_shortcut_editor/readme_undefined_key.png\n",
      "[I 01:15:33 InstallContribNbextensionsApp] Copying: /home/ubuntu/anaconda3/envs/tensorflow_p36/lib/python3.6/site-packages/jupyter_contrib_nbextensions/nbextensions/keyboard_shortcut_editor/readme_reset_disabled.png -> /home/ubuntu/anaconda3/envs/tensorflow_p36/share/jupyter/nbextensions/keyboard_shortcut_editor/readme_reset_disabled.png\n",
      "[I 01:15:33 InstallContribNbextensionsApp] Copying: /home/ubuntu/anaconda3/envs/tensorflow_p36/lib/python3.6/site-packages/jupyter_contrib_nbextensions/nbextensions/keyboard_shortcut_editor/readme_shortcut_editor_success.png -> /home/ubuntu/anaconda3/envs/tensorflow_p36/share/jupyter/nbextensions/keyboard_shortcut_editor/readme_shortcut_editor_success.png\n",
      "[I 01:15:33 InstallContribNbextensionsApp] Copying: /home/ubuntu/anaconda3/envs/tensorflow_p36/lib/python3.6/site-packages/jupyter_contrib_nbextensions/nbextensions/keyboard_shortcut_editor/readme_dropdown.png -> /home/ubuntu/anaconda3/envs/tensorflow_p36/share/jupyter/nbextensions/keyboard_shortcut_editor/readme_dropdown.png\n",
      "[I 01:15:33 InstallContribNbextensionsApp] Copying: /home/ubuntu/anaconda3/envs/tensorflow_p36/lib/python3.6/site-packages/jupyter_contrib_nbextensions/nbextensions/keyboard_shortcut_editor/keyboard_shortcut_editor.yaml -> /home/ubuntu/anaconda3/envs/tensorflow_p36/share/jupyter/nbextensions/keyboard_shortcut_editor/keyboard_shortcut_editor.yaml\n",
      "[I 01:15:33 InstallContribNbextensionsApp] Copying: /home/ubuntu/anaconda3/envs/tensorflow_p36/lib/python3.6/site-packages/jupyter_contrib_nbextensions/nbextensions/keyboard_shortcut_editor/readme_shortcut_editor_blank.png -> /home/ubuntu/anaconda3/envs/tensorflow_p36/share/jupyter/nbextensions/keyboard_shortcut_editor/readme_shortcut_editor_blank.png\n",
      "[I 01:15:33 InstallContribNbextensionsApp] Copying: /home/ubuntu/anaconda3/envs/tensorflow_p36/lib/python3.6/site-packages/jupyter_contrib_nbextensions/nbextensions/keyboard_shortcut_editor/main.css -> /home/ubuntu/anaconda3/envs/tensorflow_p36/share/jupyter/nbextensions/keyboard_shortcut_editor/main.css\n",
      "[I 01:15:33 InstallContribNbextensionsApp] Copying: /home/ubuntu/anaconda3/envs/tensorflow_p36/lib/python3.6/site-packages/jupyter_contrib_nbextensions/nbextensions/keyboard_shortcut_editor/readme_menu_item.png -> /home/ubuntu/anaconda3/envs/tensorflow_p36/share/jupyter/nbextensions/keyboard_shortcut_editor/readme_menu_item.png\n",
      "[I 01:15:33 InstallContribNbextensionsApp] Copying: /home/ubuntu/anaconda3/envs/tensorflow_p36/lib/python3.6/site-packages/jupyter_contrib_nbextensions/nbextensions/keyboard_shortcut_editor/readme_comma.png -> /home/ubuntu/anaconda3/envs/tensorflow_p36/share/jupyter/nbextensions/keyboard_shortcut_editor/readme_comma.png\n",
      "[I 01:15:33 InstallContribNbextensionsApp] Copying: /home/ubuntu/anaconda3/envs/tensorflow_p36/lib/python3.6/site-packages/jupyter_contrib_nbextensions/nbextensions/keyboard_shortcut_editor/readme_add_new_link.png -> /home/ubuntu/anaconda3/envs/tensorflow_p36/share/jupyter/nbextensions/keyboard_shortcut_editor/readme_add_new_link.png\n",
      "[I 01:15:33 InstallContribNbextensionsApp] Copying: /home/ubuntu/anaconda3/envs/tensorflow_p36/lib/python3.6/site-packages/jupyter_contrib_nbextensions/nbextensions/keyboard_shortcut_editor/kse_components.js -> /home/ubuntu/anaconda3/envs/tensorflow_p36/share/jupyter/nbextensions/keyboard_shortcut_editor/kse_components.js\n",
      "[I 01:15:33 InstallContribNbextensionsApp] Copying: /home/ubuntu/anaconda3/envs/tensorflow_p36/lib/python3.6/site-packages/jupyter_contrib_nbextensions/nbextensions/keyboard_shortcut_editor/readme_add_new_select_action.png -> /home/ubuntu/anaconda3/envs/tensorflow_p36/share/jupyter/nbextensions/keyboard_shortcut_editor/readme_add_new_select_action.png\n",
      "[I 01:15:33 InstallContribNbextensionsApp] Copying: /home/ubuntu/anaconda3/envs/tensorflow_p36/lib/python3.6/site-packages/jupyter_contrib_nbextensions/nbextensions/keyboard_shortcut_editor/main.js -> /home/ubuntu/anaconda3/envs/tensorflow_p36/share/jupyter/nbextensions/keyboard_shortcut_editor/main.js\n",
      "[I 01:15:33 InstallContribNbextensionsApp] Copying: /home/ubuntu/anaconda3/envs/tensorflow_p36/lib/python3.6/site-packages/jupyter_contrib_nbextensions/nbextensions/keyboard_shortcut_editor/quickhelp_shim.js -> /home/ubuntu/anaconda3/envs/tensorflow_p36/share/jupyter/nbextensions/keyboard_shortcut_editor/quickhelp_shim.js\n",
      "[I 01:15:33 InstallContribNbextensionsApp] Copying: /home/ubuntu/anaconda3/envs/tensorflow_p36/lib/python3.6/site-packages/jupyter_contrib_nbextensions/nbextensions/keyboard_shortcut_editor/README.md -> /home/ubuntu/anaconda3/envs/tensorflow_p36/share/jupyter/nbextensions/keyboard_shortcut_editor/README.md\n",
      "[I 01:15:33 InstallContribNbextensionsApp] Copying: /home/ubuntu/anaconda3/envs/tensorflow_p36/lib/python3.6/site-packages/jupyter_contrib_nbextensions/nbextensions/keyboard_shortcut_editor/icon.png -> /home/ubuntu/anaconda3/envs/tensorflow_p36/share/jupyter/nbextensions/keyboard_shortcut_editor/icon.png\n",
      "[I 01:15:33 InstallContribNbextensionsApp] Copying: /home/ubuntu/anaconda3/envs/tensorflow_p36/lib/python3.6/site-packages/jupyter_contrib_nbextensions/nbextensions/keyboard_shortcut_editor/readme_conflict.png -> /home/ubuntu/anaconda3/envs/tensorflow_p36/share/jupyter/nbextensions/keyboard_shortcut_editor/readme_conflict.png\n",
      "[I 01:15:33 InstallContribNbextensionsApp] - Validating: \u001b[32mOK\u001b[0m\n",
      "[I 01:15:33 InstallContribNbextensionsApp] Installing /home/ubuntu/anaconda3/envs/tensorflow_p36/lib/python3.6/site-packages/jupyter_contrib_nbextensions/nbextensions/export_embedded -> export_embedded\n",
      "[I 01:15:33 InstallContribNbextensionsApp] Making directory: /home/ubuntu/anaconda3/envs/tensorflow_p36/share/jupyter/nbextensions/export_embedded/\n",
      "[I 01:15:33 InstallContribNbextensionsApp] Copying: /home/ubuntu/anaconda3/envs/tensorflow_p36/lib/python3.6/site-packages/jupyter_contrib_nbextensions/nbextensions/export_embedded/export_embedded.yaml -> /home/ubuntu/anaconda3/envs/tensorflow_p36/share/jupyter/nbextensions/export_embedded/export_embedded.yaml\n",
      "[I 01:15:33 InstallContribNbextensionsApp] Copying: /home/ubuntu/anaconda3/envs/tensorflow_p36/lib/python3.6/site-packages/jupyter_contrib_nbextensions/nbextensions/export_embedded/main.js -> /home/ubuntu/anaconda3/envs/tensorflow_p36/share/jupyter/nbextensions/export_embedded/main.js\n",
      "[I 01:15:33 InstallContribNbextensionsApp] Copying: /home/ubuntu/anaconda3/envs/tensorflow_p36/lib/python3.6/site-packages/jupyter_contrib_nbextensions/nbextensions/export_embedded/readme.md -> /home/ubuntu/anaconda3/envs/tensorflow_p36/share/jupyter/nbextensions/export_embedded/readme.md\n",
      "[I 01:15:33 InstallContribNbextensionsApp] Copying: /home/ubuntu/anaconda3/envs/tensorflow_p36/lib/python3.6/site-packages/jupyter_contrib_nbextensions/nbextensions/export_embedded/icon.png -> /home/ubuntu/anaconda3/envs/tensorflow_p36/share/jupyter/nbextensions/export_embedded/icon.png\n",
      "[I 01:15:33 InstallContribNbextensionsApp] - Validating: \u001b[32mOK\u001b[0m\n",
      "[I 01:15:33 InstallContribNbextensionsApp] Installing /home/ubuntu/anaconda3/envs/tensorflow_p36/lib/python3.6/site-packages/jupyter_contrib_nbextensions/nbextensions/hide_header -> hide_header\n",
      "[I 01:15:33 InstallContribNbextensionsApp] Making directory: /home/ubuntu/anaconda3/envs/tensorflow_p36/share/jupyter/nbextensions/hide_header/\n",
      "[I 01:15:33 InstallContribNbextensionsApp] Copying: /home/ubuntu/anaconda3/envs/tensorflow_p36/lib/python3.6/site-packages/jupyter_contrib_nbextensions/nbextensions/hide_header/hide_header.yaml -> /home/ubuntu/anaconda3/envs/tensorflow_p36/share/jupyter/nbextensions/hide_header/hide_header.yaml\n",
      "[I 01:15:33 InstallContribNbextensionsApp] Copying: /home/ubuntu/anaconda3/envs/tensorflow_p36/lib/python3.6/site-packages/jupyter_contrib_nbextensions/nbextensions/hide_header/main.js -> /home/ubuntu/anaconda3/envs/tensorflow_p36/share/jupyter/nbextensions/hide_header/main.js\n",
      "[I 01:15:33 InstallContribNbextensionsApp] Copying: /home/ubuntu/anaconda3/envs/tensorflow_p36/lib/python3.6/site-packages/jupyter_contrib_nbextensions/nbextensions/hide_header/README.md -> /home/ubuntu/anaconda3/envs/tensorflow_p36/share/jupyter/nbextensions/hide_header/README.md\n",
      "[I 01:15:33 InstallContribNbextensionsApp] - Validating: \u001b[32mOK\u001b[0m\n",
      "[I 01:15:33 InstallContribNbextensionsApp] Installing /home/ubuntu/anaconda3/envs/tensorflow_p36/lib/python3.6/site-packages/jupyter_contrib_nbextensions/nbextensions/hide_input_all -> hide_input_all\n",
      "[I 01:15:33 InstallContribNbextensionsApp] Making directory: /home/ubuntu/anaconda3/envs/tensorflow_p36/share/jupyter/nbextensions/hide_input_all/\n",
      "[I 01:15:33 InstallContribNbextensionsApp] Copying: /home/ubuntu/anaconda3/envs/tensorflow_p36/lib/python3.6/site-packages/jupyter_contrib_nbextensions/nbextensions/hide_input_all/hide_input_all.yaml -> /home/ubuntu/anaconda3/envs/tensorflow_p36/share/jupyter/nbextensions/hide_input_all/hide_input_all.yaml\n",
      "[I 01:15:33 InstallContribNbextensionsApp] Copying: /home/ubuntu/anaconda3/envs/tensorflow_p36/lib/python3.6/site-packages/jupyter_contrib_nbextensions/nbextensions/hide_input_all/hide_input_all_show.png -> /home/ubuntu/anaconda3/envs/tensorflow_p36/share/jupyter/nbextensions/hide_input_all/hide_input_all_show.png\n",
      "[I 01:15:33 InstallContribNbextensionsApp] Copying: /home/ubuntu/anaconda3/envs/tensorflow_p36/lib/python3.6/site-packages/jupyter_contrib_nbextensions/nbextensions/hide_input_all/hide_input_all_hide.png -> /home/ubuntu/anaconda3/envs/tensorflow_p36/share/jupyter/nbextensions/hide_input_all/hide_input_all_hide.png\n",
      "[I 01:15:33 InstallContribNbextensionsApp] Copying: /home/ubuntu/anaconda3/envs/tensorflow_p36/lib/python3.6/site-packages/jupyter_contrib_nbextensions/nbextensions/hide_input_all/main.js -> /home/ubuntu/anaconda3/envs/tensorflow_p36/share/jupyter/nbextensions/hide_input_all/main.js\n",
      "[I 01:15:33 InstallContribNbextensionsApp] Copying: /home/ubuntu/anaconda3/envs/tensorflow_p36/lib/python3.6/site-packages/jupyter_contrib_nbextensions/nbextensions/hide_input_all/readme.md -> /home/ubuntu/anaconda3/envs/tensorflow_p36/share/jupyter/nbextensions/hide_input_all/readme.md\n",
      "[I 01:15:33 InstallContribNbextensionsApp] Copying: /home/ubuntu/anaconda3/envs/tensorflow_p36/lib/python3.6/site-packages/jupyter_contrib_nbextensions/nbextensions/hide_input_all/icon.png -> /home/ubuntu/anaconda3/envs/tensorflow_p36/share/jupyter/nbextensions/hide_input_all/icon.png\n",
      "[I 01:15:33 InstallContribNbextensionsApp] - Validating: \u001b[32mOK\u001b[0m\n",
      "[I 01:15:33 InstallContribNbextensionsApp] Installing /home/ubuntu/anaconda3/envs/tensorflow_p36/lib/python3.6/site-packages/jupyter_contrib_nbextensions/nbextensions/code_prettify -> code_prettify\n",
      "[I 01:15:33 InstallContribNbextensionsApp] Making directory: /home/ubuntu/anaconda3/envs/tensorflow_p36/share/jupyter/nbextensions/code_prettify/\n",
      "[I 01:15:33 InstallContribNbextensionsApp] Copying: /home/ubuntu/anaconda3/envs/tensorflow_p36/lib/python3.6/site-packages/jupyter_contrib_nbextensions/nbextensions/code_prettify/README_isort.md -> /home/ubuntu/anaconda3/envs/tensorflow_p36/share/jupyter/nbextensions/code_prettify/README_isort.md\n",
      "[I 01:15:33 InstallContribNbextensionsApp] Copying: /home/ubuntu/anaconda3/envs/tensorflow_p36/lib/python3.6/site-packages/jupyter_contrib_nbextensions/nbextensions/code_prettify/demo-jv.gif -> /home/ubuntu/anaconda3/envs/tensorflow_p36/share/jupyter/nbextensions/code_prettify/demo-jv.gif\n",
      "[I 01:15:33 InstallContribNbextensionsApp] Copying: /home/ubuntu/anaconda3/envs/tensorflow_p36/lib/python3.6/site-packages/jupyter_contrib_nbextensions/nbextensions/code_prettify/kernel_exec_on_cell.js -> /home/ubuntu/anaconda3/envs/tensorflow_p36/share/jupyter/nbextensions/code_prettify/kernel_exec_on_cell.js\n",
      "[I 01:15:33 InstallContribNbextensionsApp] Copying: /home/ubuntu/anaconda3/envs/tensorflow_p36/lib/python3.6/site-packages/jupyter_contrib_nbextensions/nbextensions/code_prettify/demo-py.gif -> /home/ubuntu/anaconda3/envs/tensorflow_p36/share/jupyter/nbextensions/code_prettify/demo-py.gif\n",
      "[I 01:15:33 InstallContribNbextensionsApp] Copying: /home/ubuntu/anaconda3/envs/tensorflow_p36/lib/python3.6/site-packages/jupyter_contrib_nbextensions/nbextensions/code_prettify/code_prettify.js -> /home/ubuntu/anaconda3/envs/tensorflow_p36/share/jupyter/nbextensions/code_prettify/code_prettify.js\n",
      "[I 01:15:33 InstallContribNbextensionsApp] Copying: /home/ubuntu/anaconda3/envs/tensorflow_p36/lib/python3.6/site-packages/jupyter_contrib_nbextensions/nbextensions/code_prettify/README_autopep8.md -> /home/ubuntu/anaconda3/envs/tensorflow_p36/share/jupyter/nbextensions/code_prettify/README_autopep8.md\n",
      "[I 01:15:33 InstallContribNbextensionsApp] Copying: /home/ubuntu/anaconda3/envs/tensorflow_p36/lib/python3.6/site-packages/jupyter_contrib_nbextensions/nbextensions/code_prettify/autopep8.yaml -> /home/ubuntu/anaconda3/envs/tensorflow_p36/share/jupyter/nbextensions/code_prettify/autopep8.yaml\n",
      "[I 01:15:33 InstallContribNbextensionsApp] Copying: /home/ubuntu/anaconda3/envs/tensorflow_p36/lib/python3.6/site-packages/jupyter_contrib_nbextensions/nbextensions/code_prettify/2to3.js -> /home/ubuntu/anaconda3/envs/tensorflow_p36/share/jupyter/nbextensions/code_prettify/2to3.js\n",
      "[I 01:15:33 InstallContribNbextensionsApp] Copying: /home/ubuntu/anaconda3/envs/tensorflow_p36/lib/python3.6/site-packages/jupyter_contrib_nbextensions/nbextensions/code_prettify/code_prettify.yaml -> /home/ubuntu/anaconda3/envs/tensorflow_p36/share/jupyter/nbextensions/code_prettify/code_prettify.yaml\n",
      "[I 01:15:33 InstallContribNbextensionsApp] Copying: /home/ubuntu/anaconda3/envs/tensorflow_p36/lib/python3.6/site-packages/jupyter_contrib_nbextensions/nbextensions/code_prettify/autopep8.js -> /home/ubuntu/anaconda3/envs/tensorflow_p36/share/jupyter/nbextensions/code_prettify/autopep8.js\n",
      "[I 01:15:33 InstallContribNbextensionsApp] Copying: /home/ubuntu/anaconda3/envs/tensorflow_p36/lib/python3.6/site-packages/jupyter_contrib_nbextensions/nbextensions/code_prettify/demo-R.gif -> /home/ubuntu/anaconda3/envs/tensorflow_p36/share/jupyter/nbextensions/code_prettify/demo-R.gif\n",
      "[I 01:15:33 InstallContribNbextensionsApp] Copying: /home/ubuntu/anaconda3/envs/tensorflow_p36/lib/python3.6/site-packages/jupyter_contrib_nbextensions/nbextensions/code_prettify/README_code_prettify.md -> /home/ubuntu/anaconda3/envs/tensorflow_p36/share/jupyter/nbextensions/code_prettify/README_code_prettify.md\n",
      "[I 01:15:33 InstallContribNbextensionsApp] Copying: /home/ubuntu/anaconda3/envs/tensorflow_p36/lib/python3.6/site-packages/jupyter_contrib_nbextensions/nbextensions/code_prettify/README_2to3.md -> /home/ubuntu/anaconda3/envs/tensorflow_p36/share/jupyter/nbextensions/code_prettify/README_2to3.md\n",
      "[I 01:15:33 InstallContribNbextensionsApp] Copying: /home/ubuntu/anaconda3/envs/tensorflow_p36/lib/python3.6/site-packages/jupyter_contrib_nbextensions/nbextensions/code_prettify/2to3.yaml -> /home/ubuntu/anaconda3/envs/tensorflow_p36/share/jupyter/nbextensions/code_prettify/2to3.yaml\n",
      "[I 01:15:33 InstallContribNbextensionsApp] Copying: /home/ubuntu/anaconda3/envs/tensorflow_p36/lib/python3.6/site-packages/jupyter_contrib_nbextensions/nbextensions/code_prettify/demo_2to3.gif -> /home/ubuntu/anaconda3/envs/tensorflow_p36/share/jupyter/nbextensions/code_prettify/demo_2to3.gif\n",
      "[I 01:15:33 InstallContribNbextensionsApp] Copying: /home/ubuntu/anaconda3/envs/tensorflow_p36/lib/python3.6/site-packages/jupyter_contrib_nbextensions/nbextensions/code_prettify/README.md -> /home/ubuntu/anaconda3/envs/tensorflow_p36/share/jupyter/nbextensions/code_prettify/README.md\n",
      "[I 01:15:33 InstallContribNbextensionsApp] Copying: /home/ubuntu/anaconda3/envs/tensorflow_p36/lib/python3.6/site-packages/jupyter_contrib_nbextensions/nbextensions/code_prettify/isort.js -> /home/ubuntu/anaconda3/envs/tensorflow_p36/share/jupyter/nbextensions/code_prettify/isort.js\n",
      "[I 01:15:33 InstallContribNbextensionsApp] Copying: /home/ubuntu/anaconda3/envs/tensorflow_p36/lib/python3.6/site-packages/jupyter_contrib_nbextensions/nbextensions/code_prettify/isort.yaml -> /home/ubuntu/anaconda3/envs/tensorflow_p36/share/jupyter/nbextensions/code_prettify/isort.yaml\n",
      "[I 01:15:33 InstallContribNbextensionsApp] - Validating: \u001b[32mOK\u001b[0m\n",
      "[I 01:15:33 InstallContribNbextensionsApp] Installing /home/ubuntu/anaconda3/envs/tensorflow_p36/lib/python3.6/site-packages/jupyter_contrib_nbextensions/nbextensions/code_prettify -> code_prettify\n",
      "[I 01:15:33 InstallContribNbextensionsApp] Up to date: /home/ubuntu/anaconda3/envs/tensorflow_p36/share/jupyter/nbextensions/code_prettify/README_isort.md\n",
      "[I 01:15:33 InstallContribNbextensionsApp] Up to date: /home/ubuntu/anaconda3/envs/tensorflow_p36/share/jupyter/nbextensions/code_prettify/demo-jv.gif\n",
      "[I 01:15:33 InstallContribNbextensionsApp] Up to date: /home/ubuntu/anaconda3/envs/tensorflow_p36/share/jupyter/nbextensions/code_prettify/kernel_exec_on_cell.js\n",
      "[I 01:15:33 InstallContribNbextensionsApp] Up to date: /home/ubuntu/anaconda3/envs/tensorflow_p36/share/jupyter/nbextensions/code_prettify/demo-py.gif\n",
      "[I 01:15:33 InstallContribNbextensionsApp] Up to date: /home/ubuntu/anaconda3/envs/tensorflow_p36/share/jupyter/nbextensions/code_prettify/code_prettify.js\n",
      "[I 01:15:33 InstallContribNbextensionsApp] Up to date: /home/ubuntu/anaconda3/envs/tensorflow_p36/share/jupyter/nbextensions/code_prettify/README_autopep8.md\n",
      "[I 01:15:33 InstallContribNbextensionsApp] Up to date: /home/ubuntu/anaconda3/envs/tensorflow_p36/share/jupyter/nbextensions/code_prettify/autopep8.yaml\n",
      "[I 01:15:33 InstallContribNbextensionsApp] Up to date: /home/ubuntu/anaconda3/envs/tensorflow_p36/share/jupyter/nbextensions/code_prettify/2to3.js\n",
      "[I 01:15:33 InstallContribNbextensionsApp] Up to date: /home/ubuntu/anaconda3/envs/tensorflow_p36/share/jupyter/nbextensions/code_prettify/code_prettify.yaml\n",
      "[I 01:15:33 InstallContribNbextensionsApp] Up to date: /home/ubuntu/anaconda3/envs/tensorflow_p36/share/jupyter/nbextensions/code_prettify/autopep8.js\n",
      "[I 01:15:33 InstallContribNbextensionsApp] Up to date: /home/ubuntu/anaconda3/envs/tensorflow_p36/share/jupyter/nbextensions/code_prettify/demo-R.gif\n",
      "[I 01:15:33 InstallContribNbextensionsApp] Up to date: /home/ubuntu/anaconda3/envs/tensorflow_p36/share/jupyter/nbextensions/code_prettify/README_code_prettify.md\n",
      "[I 01:15:33 InstallContribNbextensionsApp] Up to date: /home/ubuntu/anaconda3/envs/tensorflow_p36/share/jupyter/nbextensions/code_prettify/README_2to3.md\n",
      "[I 01:15:33 InstallContribNbextensionsApp] Up to date: /home/ubuntu/anaconda3/envs/tensorflow_p36/share/jupyter/nbextensions/code_prettify/2to3.yaml\n",
      "[I 01:15:33 InstallContribNbextensionsApp] Up to date: /home/ubuntu/anaconda3/envs/tensorflow_p36/share/jupyter/nbextensions/code_prettify/demo_2to3.gif\n",
      "[I 01:15:33 InstallContribNbextensionsApp] Up to date: /home/ubuntu/anaconda3/envs/tensorflow_p36/share/jupyter/nbextensions/code_prettify/README.md\n",
      "[I 01:15:33 InstallContribNbextensionsApp] Up to date: /home/ubuntu/anaconda3/envs/tensorflow_p36/share/jupyter/nbextensions/code_prettify/isort.js\n",
      "[I 01:15:33 InstallContribNbextensionsApp] Up to date: /home/ubuntu/anaconda3/envs/tensorflow_p36/share/jupyter/nbextensions/code_prettify/isort.yaml\n",
      "[I 01:15:33 InstallContribNbextensionsApp] - Validating: \u001b[32mOK\u001b[0m\n",
      "[I 01:15:33 InstallContribNbextensionsApp] Installing /home/ubuntu/anaconda3/envs/tensorflow_p36/lib/python3.6/site-packages/jupyter_contrib_nbextensions/nbextensions/code_prettify -> code_prettify\n",
      "[I 01:15:33 InstallContribNbextensionsApp] Up to date: /home/ubuntu/anaconda3/envs/tensorflow_p36/share/jupyter/nbextensions/code_prettify/README_isort.md\n",
      "[I 01:15:33 InstallContribNbextensionsApp] Up to date: /home/ubuntu/anaconda3/envs/tensorflow_p36/share/jupyter/nbextensions/code_prettify/demo-jv.gif\n",
      "[I 01:15:33 InstallContribNbextensionsApp] Up to date: /home/ubuntu/anaconda3/envs/tensorflow_p36/share/jupyter/nbextensions/code_prettify/kernel_exec_on_cell.js\n",
      "[I 01:15:33 InstallContribNbextensionsApp] Up to date: /home/ubuntu/anaconda3/envs/tensorflow_p36/share/jupyter/nbextensions/code_prettify/demo-py.gif\n",
      "[I 01:15:33 InstallContribNbextensionsApp] Up to date: /home/ubuntu/anaconda3/envs/tensorflow_p36/share/jupyter/nbextensions/code_prettify/code_prettify.js\n",
      "[I 01:15:33 InstallContribNbextensionsApp] Up to date: /home/ubuntu/anaconda3/envs/tensorflow_p36/share/jupyter/nbextensions/code_prettify/README_autopep8.md\n",
      "[I 01:15:33 InstallContribNbextensionsApp] Up to date: /home/ubuntu/anaconda3/envs/tensorflow_p36/share/jupyter/nbextensions/code_prettify/autopep8.yaml\n",
      "[I 01:15:33 InstallContribNbextensionsApp] Up to date: /home/ubuntu/anaconda3/envs/tensorflow_p36/share/jupyter/nbextensions/code_prettify/2to3.js\n",
      "[I 01:15:33 InstallContribNbextensionsApp] Up to date: /home/ubuntu/anaconda3/envs/tensorflow_p36/share/jupyter/nbextensions/code_prettify/code_prettify.yaml\n",
      "[I 01:15:33 InstallContribNbextensionsApp] Up to date: /home/ubuntu/anaconda3/envs/tensorflow_p36/share/jupyter/nbextensions/code_prettify/autopep8.js\n",
      "[I 01:15:33 InstallContribNbextensionsApp] Up to date: /home/ubuntu/anaconda3/envs/tensorflow_p36/share/jupyter/nbextensions/code_prettify/demo-R.gif\n",
      "[I 01:15:33 InstallContribNbextensionsApp] Up to date: /home/ubuntu/anaconda3/envs/tensorflow_p36/share/jupyter/nbextensions/code_prettify/README_code_prettify.md\n",
      "[I 01:15:33 InstallContribNbextensionsApp] Up to date: /home/ubuntu/anaconda3/envs/tensorflow_p36/share/jupyter/nbextensions/code_prettify/README_2to3.md\n",
      "[I 01:15:33 InstallContribNbextensionsApp] Up to date: /home/ubuntu/anaconda3/envs/tensorflow_p36/share/jupyter/nbextensions/code_prettify/2to3.yaml\n",
      "[I 01:15:33 InstallContribNbextensionsApp] Up to date: /home/ubuntu/anaconda3/envs/tensorflow_p36/share/jupyter/nbextensions/code_prettify/demo_2to3.gif\n",
      "[I 01:15:33 InstallContribNbextensionsApp] Up to date: /home/ubuntu/anaconda3/envs/tensorflow_p36/share/jupyter/nbextensions/code_prettify/README.md\n",
      "[I 01:15:33 InstallContribNbextensionsApp] Up to date: /home/ubuntu/anaconda3/envs/tensorflow_p36/share/jupyter/nbextensions/code_prettify/isort.js\n",
      "[I 01:15:33 InstallContribNbextensionsApp] Up to date: /home/ubuntu/anaconda3/envs/tensorflow_p36/share/jupyter/nbextensions/code_prettify/isort.yaml\n",
      "[I 01:15:33 InstallContribNbextensionsApp] - Validating: \u001b[32mOK\u001b[0m\n",
      "[I 01:15:33 InstallContribNbextensionsApp] Installing /home/ubuntu/anaconda3/envs/tensorflow_p36/lib/python3.6/site-packages/jupyter_contrib_nbextensions/nbextensions/code_prettify -> code_prettify\n",
      "[I 01:15:33 InstallContribNbextensionsApp] Up to date: /home/ubuntu/anaconda3/envs/tensorflow_p36/share/jupyter/nbextensions/code_prettify/README_isort.md\n",
      "[I 01:15:33 InstallContribNbextensionsApp] Up to date: /home/ubuntu/anaconda3/envs/tensorflow_p36/share/jupyter/nbextensions/code_prettify/demo-jv.gif\n",
      "[I 01:15:33 InstallContribNbextensionsApp] Up to date: /home/ubuntu/anaconda3/envs/tensorflow_p36/share/jupyter/nbextensions/code_prettify/kernel_exec_on_cell.js\n",
      "[I 01:15:33 InstallContribNbextensionsApp] Up to date: /home/ubuntu/anaconda3/envs/tensorflow_p36/share/jupyter/nbextensions/code_prettify/demo-py.gif\n",
      "[I 01:15:33 InstallContribNbextensionsApp] Up to date: /home/ubuntu/anaconda3/envs/tensorflow_p36/share/jupyter/nbextensions/code_prettify/code_prettify.js\n",
      "[I 01:15:33 InstallContribNbextensionsApp] Up to date: /home/ubuntu/anaconda3/envs/tensorflow_p36/share/jupyter/nbextensions/code_prettify/README_autopep8.md\n",
      "[I 01:15:33 InstallContribNbextensionsApp] Up to date: /home/ubuntu/anaconda3/envs/tensorflow_p36/share/jupyter/nbextensions/code_prettify/autopep8.yaml\n",
      "[I 01:15:33 InstallContribNbextensionsApp] Up to date: /home/ubuntu/anaconda3/envs/tensorflow_p36/share/jupyter/nbextensions/code_prettify/2to3.js\n",
      "[I 01:15:33 InstallContribNbextensionsApp] Up to date: /home/ubuntu/anaconda3/envs/tensorflow_p36/share/jupyter/nbextensions/code_prettify/code_prettify.yaml\n",
      "[I 01:15:33 InstallContribNbextensionsApp] Up to date: /home/ubuntu/anaconda3/envs/tensorflow_p36/share/jupyter/nbextensions/code_prettify/autopep8.js\n",
      "[I 01:15:33 InstallContribNbextensionsApp] Up to date: /home/ubuntu/anaconda3/envs/tensorflow_p36/share/jupyter/nbextensions/code_prettify/demo-R.gif\n",
      "[I 01:15:33 InstallContribNbextensionsApp] Up to date: /home/ubuntu/anaconda3/envs/tensorflow_p36/share/jupyter/nbextensions/code_prettify/README_code_prettify.md\n",
      "[I 01:15:33 InstallContribNbextensionsApp] Up to date: /home/ubuntu/anaconda3/envs/tensorflow_p36/share/jupyter/nbextensions/code_prettify/README_2to3.md\n",
      "[I 01:15:33 InstallContribNbextensionsApp] Up to date: /home/ubuntu/anaconda3/envs/tensorflow_p36/share/jupyter/nbextensions/code_prettify/2to3.yaml\n",
      "[I 01:15:33 InstallContribNbextensionsApp] Up to date: /home/ubuntu/anaconda3/envs/tensorflow_p36/share/jupyter/nbextensions/code_prettify/demo_2to3.gif\n",
      "[I 01:15:33 InstallContribNbextensionsApp] Up to date: /home/ubuntu/anaconda3/envs/tensorflow_p36/share/jupyter/nbextensions/code_prettify/README.md\n",
      "[I 01:15:33 InstallContribNbextensionsApp] Up to date: /home/ubuntu/anaconda3/envs/tensorflow_p36/share/jupyter/nbextensions/code_prettify/isort.js\n",
      "[I 01:15:33 InstallContribNbextensionsApp] Up to date: /home/ubuntu/anaconda3/envs/tensorflow_p36/share/jupyter/nbextensions/code_prettify/isort.yaml\n",
      "[I 01:15:33 InstallContribNbextensionsApp] - Validating: \u001b[32mOK\u001b[0m\n",
      "[I 01:15:33 InstallContribNbextensionsApp] Installing /home/ubuntu/anaconda3/envs/tensorflow_p36/lib/python3.6/site-packages/jupyter_contrib_nbextensions/nbextensions/runtools -> runtools\n",
      "[I 01:15:33 InstallContribNbextensionsApp] Making directory: /home/ubuntu/anaconda3/envs/tensorflow_p36/share/jupyter/nbextensions/runtools/\n",
      "[I 01:15:33 InstallContribNbextensionsApp] Copying: /home/ubuntu/anaconda3/envs/tensorflow_p36/lib/python3.6/site-packages/jupyter_contrib_nbextensions/nbextensions/runtools/cellstate.js -> /home/ubuntu/anaconda3/envs/tensorflow_p36/share/jupyter/nbextensions/runtools/cellstate.js\n",
      "[I 01:15:33 InstallContribNbextensionsApp] Copying: /home/ubuntu/anaconda3/envs/tensorflow_p36/lib/python3.6/site-packages/jupyter_contrib_nbextensions/nbextensions/runtools/runtools_execute.png -> /home/ubuntu/anaconda3/envs/tensorflow_p36/share/jupyter/nbextensions/runtools/runtools_execute.png\n",
      "[I 01:15:33 InstallContribNbextensionsApp] Copying: /home/ubuntu/anaconda3/envs/tensorflow_p36/lib/python3.6/site-packages/jupyter_contrib_nbextensions/nbextensions/runtools/runtools_show_hide.png -> /home/ubuntu/anaconda3/envs/tensorflow_p36/share/jupyter/nbextensions/runtools/runtools_show_hide.png\n",
      "[I 01:15:33 InstallContribNbextensionsApp] Copying: /home/ubuntu/anaconda3/envs/tensorflow_p36/lib/python3.6/site-packages/jupyter_contrib_nbextensions/nbextensions/runtools/runtools_nb.png -> /home/ubuntu/anaconda3/envs/tensorflow_p36/share/jupyter/nbextensions/runtools/runtools_nb.png\n",
      "[I 01:15:33 InstallContribNbextensionsApp] Copying: /home/ubuntu/anaconda3/envs/tensorflow_p36/lib/python3.6/site-packages/jupyter_contrib_nbextensions/nbextensions/runtools/runtools.yaml -> /home/ubuntu/anaconda3/envs/tensorflow_p36/share/jupyter/nbextensions/runtools/runtools.yaml\n",
      "[I 01:15:33 InstallContribNbextensionsApp] Copying: /home/ubuntu/anaconda3/envs/tensorflow_p36/lib/python3.6/site-packages/jupyter_contrib_nbextensions/nbextensions/runtools/annotations.odg -> /home/ubuntu/anaconda3/envs/tensorflow_p36/share/jupyter/nbextensions/runtools/annotations.odg\n",
      "[I 01:15:33 InstallContribNbextensionsApp] Copying: /home/ubuntu/anaconda3/envs/tensorflow_p36/lib/python3.6/site-packages/jupyter_contrib_nbextensions/nbextensions/runtools/demo.gif -> /home/ubuntu/anaconda3/envs/tensorflow_p36/share/jupyter/nbextensions/runtools/demo.gif\n",
      "[I 01:15:33 InstallContribNbextensionsApp] Copying: /home/ubuntu/anaconda3/envs/tensorflow_p36/lib/python3.6/site-packages/jupyter_contrib_nbextensions/nbextensions/runtools/runtools_marker.png -> /home/ubuntu/anaconda3/envs/tensorflow_p36/share/jupyter/nbextensions/runtools/runtools_marker.png\n",
      "[I 01:15:33 InstallContribNbextensionsApp] Copying: /home/ubuntu/anaconda3/envs/tensorflow_p36/lib/python3.6/site-packages/jupyter_contrib_nbextensions/nbextensions/runtools/gutter.css -> /home/ubuntu/anaconda3/envs/tensorflow_p36/share/jupyter/nbextensions/runtools/gutter.css\n",
      "[I 01:15:33 InstallContribNbextensionsApp] Copying: /home/ubuntu/anaconda3/envs/tensorflow_p36/lib/python3.6/site-packages/jupyter_contrib_nbextensions/nbextensions/runtools/main.css -> /home/ubuntu/anaconda3/envs/tensorflow_p36/share/jupyter/nbextensions/runtools/main.css\n",
      "[I 01:15:33 InstallContribNbextensionsApp] Copying: /home/ubuntu/anaconda3/envs/tensorflow_p36/lib/python3.6/site-packages/jupyter_contrib_nbextensions/nbextensions/runtools/main.js -> /home/ubuntu/anaconda3/envs/tensorflow_p36/share/jupyter/nbextensions/runtools/main.js\n",
      "[I 01:15:33 InstallContribNbextensionsApp] Copying: /home/ubuntu/anaconda3/envs/tensorflow_p36/lib/python3.6/site-packages/jupyter_contrib_nbextensions/nbextensions/runtools/readme.md -> /home/ubuntu/anaconda3/envs/tensorflow_p36/share/jupyter/nbextensions/runtools/readme.md\n",
      "[I 01:15:33 InstallContribNbextensionsApp] Copying: /home/ubuntu/anaconda3/envs/tensorflow_p36/lib/python3.6/site-packages/jupyter_contrib_nbextensions/nbextensions/runtools/runtools_lock.png -> /home/ubuntu/anaconda3/envs/tensorflow_p36/share/jupyter/nbextensions/runtools/runtools_lock.png\n",
      "[I 01:15:33 InstallContribNbextensionsApp] Copying: /home/ubuntu/anaconda3/envs/tensorflow_p36/lib/python3.6/site-packages/jupyter_contrib_nbextensions/nbextensions/runtools/icon.png -> /home/ubuntu/anaconda3/envs/tensorflow_p36/share/jupyter/nbextensions/runtools/icon.png\n",
      "[I 01:15:33 InstallContribNbextensionsApp] - Validating: \u001b[32mOK\u001b[0m\n",
      "[I 01:15:33 InstallContribNbextensionsApp] Installing /home/ubuntu/anaconda3/envs/tensorflow_p36/lib/python3.6/site-packages/jupyter_contrib_nbextensions/nbextensions/snippets_menu -> snippets_menu\n",
      "[I 01:15:33 InstallContribNbextensionsApp] Making directory: /home/ubuntu/anaconda3/envs/tensorflow_p36/share/jupyter/nbextensions/snippets_menu/\n",
      "[I 01:15:33 InstallContribNbextensionsApp] Copying: /home/ubuntu/anaconda3/envs/tensorflow_p36/lib/python3.6/site-packages/jupyter_contrib_nbextensions/nbextensions/snippets_menu/screenshot1.png -> /home/ubuntu/anaconda3/envs/tensorflow_p36/share/jupyter/nbextensions/snippets_menu/screenshot1.png\n",
      "[I 01:15:33 InstallContribNbextensionsApp] Copying: /home/ubuntu/anaconda3/envs/tensorflow_p36/lib/python3.6/site-packages/jupyter_contrib_nbextensions/nbextensions/snippets_menu/snippets_submenu_markdown.js -> /home/ubuntu/anaconda3/envs/tensorflow_p36/share/jupyter/nbextensions/snippets_menu/snippets_submenu_markdown.js\n",
      "[I 01:15:33 InstallContribNbextensionsApp] Copying: /home/ubuntu/anaconda3/envs/tensorflow_p36/lib/python3.6/site-packages/jupyter_contrib_nbextensions/nbextensions/snippets_menu/snippets_submenu_python.js -> /home/ubuntu/anaconda3/envs/tensorflow_p36/share/jupyter/nbextensions/snippets_menu/snippets_submenu_python.js\n",
      "[I 01:15:33 InstallContribNbextensionsApp] Copying: /home/ubuntu/anaconda3/envs/tensorflow_p36/lib/python3.6/site-packages/jupyter_contrib_nbextensions/nbextensions/snippets_menu/thumbnail.png -> /home/ubuntu/anaconda3/envs/tensorflow_p36/share/jupyter/nbextensions/snippets_menu/thumbnail.png\n",
      "[I 01:15:33 InstallContribNbextensionsApp] Copying: /home/ubuntu/anaconda3/envs/tensorflow_p36/lib/python3.6/site-packages/jupyter_contrib_nbextensions/nbextensions/snippets_menu/config.yaml -> /home/ubuntu/anaconda3/envs/tensorflow_p36/share/jupyter/nbextensions/snippets_menu/config.yaml\n",
      "[I 01:15:33 InstallContribNbextensionsApp] Copying: /home/ubuntu/anaconda3/envs/tensorflow_p36/lib/python3.6/site-packages/jupyter_contrib_nbextensions/nbextensions/snippets_menu/screenshot2.png -> /home/ubuntu/anaconda3/envs/tensorflow_p36/share/jupyter/nbextensions/snippets_menu/screenshot2.png\n",
      "[I 01:15:33 InstallContribNbextensionsApp] Copying: /home/ubuntu/anaconda3/envs/tensorflow_p36/lib/python3.6/site-packages/jupyter_contrib_nbextensions/nbextensions/snippets_menu/examples_for_custom.js -> /home/ubuntu/anaconda3/envs/tensorflow_p36/share/jupyter/nbextensions/snippets_menu/examples_for_custom.js\n",
      "[I 01:15:33 InstallContribNbextensionsApp] Copying: /home/ubuntu/anaconda3/envs/tensorflow_p36/lib/python3.6/site-packages/jupyter_contrib_nbextensions/nbextensions/snippets_menu/screenshot3.png -> /home/ubuntu/anaconda3/envs/tensorflow_p36/share/jupyter/nbextensions/snippets_menu/screenshot3.png\n",
      "[I 01:15:33 InstallContribNbextensionsApp] Copying: /home/ubuntu/anaconda3/envs/tensorflow_p36/lib/python3.6/site-packages/jupyter_contrib_nbextensions/nbextensions/snippets_menu/main.js -> /home/ubuntu/anaconda3/envs/tensorflow_p36/share/jupyter/nbextensions/snippets_menu/main.js\n",
      "[I 01:15:33 InstallContribNbextensionsApp] Copying: /home/ubuntu/anaconda3/envs/tensorflow_p36/lib/python3.6/site-packages/jupyter_contrib_nbextensions/nbextensions/snippets_menu/readme.md -> /home/ubuntu/anaconda3/envs/tensorflow_p36/share/jupyter/nbextensions/snippets_menu/readme.md\n",
      "[I 01:15:33 InstallContribNbextensionsApp] Copying: /home/ubuntu/anaconda3/envs/tensorflow_p36/lib/python3.6/site-packages/jupyter_contrib_nbextensions/nbextensions/snippets_menu/snippets_menu.css -> /home/ubuntu/anaconda3/envs/tensorflow_p36/share/jupyter/nbextensions/snippets_menu/snippets_menu.css\n",
      "[I 01:15:33 InstallContribNbextensionsApp] Making directory: /home/ubuntu/anaconda3/envs/tensorflow_p36/share/jupyter/nbextensions/snippets_menu/snippets_submenus_python\n",
      "[I 01:15:33 InstallContribNbextensionsApp] Copying: /home/ubuntu/anaconda3/envs/tensorflow_p36/lib/python3.6/site-packages/jupyter_contrib_nbextensions/nbextensions/snippets_menu/snippets_submenus_python/h5py.js -> /home/ubuntu/anaconda3/envs/tensorflow_p36/share/jupyter/nbextensions/snippets_menu/snippets_submenus_python/h5py.js\n",
      "[I 01:15:33 InstallContribNbextensionsApp] Copying: /home/ubuntu/anaconda3/envs/tensorflow_p36/lib/python3.6/site-packages/jupyter_contrib_nbextensions/nbextensions/snippets_menu/snippets_submenus_python/sympy_assumptions.js -> /home/ubuntu/anaconda3/envs/tensorflow_p36/share/jupyter/nbextensions/snippets_menu/snippets_submenus_python/sympy_assumptions.js\n",
      "[I 01:15:33 InstallContribNbextensionsApp] Copying: /home/ubuntu/anaconda3/envs/tensorflow_p36/lib/python3.6/site-packages/jupyter_contrib_nbextensions/nbextensions/snippets_menu/snippets_submenus_python/astropy.js -> /home/ubuntu/anaconda3/envs/tensorflow_p36/share/jupyter/nbextensions/snippets_menu/snippets_submenus_python/astropy.js\n",
      "[I 01:15:33 InstallContribNbextensionsApp] Copying: /home/ubuntu/anaconda3/envs/tensorflow_p36/lib/python3.6/site-packages/jupyter_contrib_nbextensions/nbextensions/snippets_menu/snippets_submenus_python/sympy_functions.js -> /home/ubuntu/anaconda3/envs/tensorflow_p36/share/jupyter/nbextensions/snippets_menu/snippets_submenus_python/sympy_functions.js\n",
      "[I 01:15:33 InstallContribNbextensionsApp] Copying: /home/ubuntu/anaconda3/envs/tensorflow_p36/lib/python3.6/site-packages/jupyter_contrib_nbextensions/nbextensions/snippets_menu/snippets_submenus_python/scipy_constants.js -> /home/ubuntu/anaconda3/envs/tensorflow_p36/share/jupyter/nbextensions/snippets_menu/snippets_submenus_python/scipy_constants.js\n",
      "[I 01:15:33 InstallContribNbextensionsApp] Copying: /home/ubuntu/anaconda3/envs/tensorflow_p36/lib/python3.6/site-packages/jupyter_contrib_nbextensions/nbextensions/snippets_menu/snippets_submenus_python/numba.js -> /home/ubuntu/anaconda3/envs/tensorflow_p36/share/jupyter/nbextensions/snippets_menu/snippets_submenus_python/numba.js\n",
      "[I 01:15:33 InstallContribNbextensionsApp] Copying: /home/ubuntu/anaconda3/envs/tensorflow_p36/lib/python3.6/site-packages/jupyter_contrib_nbextensions/nbextensions/snippets_menu/snippets_submenus_python/python_regex.js -> /home/ubuntu/anaconda3/envs/tensorflow_p36/share/jupyter/nbextensions/snippets_menu/snippets_submenus_python/python_regex.js\n",
      "[I 01:15:33 InstallContribNbextensionsApp] Copying: /home/ubuntu/anaconda3/envs/tensorflow_p36/lib/python3.6/site-packages/jupyter_contrib_nbextensions/nbextensions/snippets_menu/snippets_submenus_python/python.js -> /home/ubuntu/anaconda3/envs/tensorflow_p36/share/jupyter/nbextensions/snippets_menu/snippets_submenus_python/python.js\n",
      "[I 01:15:33 InstallContribNbextensionsApp] Copying: /home/ubuntu/anaconda3/envs/tensorflow_p36/lib/python3.6/site-packages/jupyter_contrib_nbextensions/nbextensions/snippets_menu/snippets_submenus_python/matplotlib.js -> /home/ubuntu/anaconda3/envs/tensorflow_p36/share/jupyter/nbextensions/snippets_menu/snippets_submenus_python/matplotlib.js\n",
      "[I 01:15:33 InstallContribNbextensionsApp] Copying: /home/ubuntu/anaconda3/envs/tensorflow_p36/lib/python3.6/site-packages/jupyter_contrib_nbextensions/nbextensions/snippets_menu/snippets_submenus_python/scipy.js -> /home/ubuntu/anaconda3/envs/tensorflow_p36/share/jupyter/nbextensions/snippets_menu/snippets_submenus_python/scipy.js\n",
      "[I 01:15:33 InstallContribNbextensionsApp] Copying: /home/ubuntu/anaconda3/envs/tensorflow_p36/lib/python3.6/site-packages/jupyter_contrib_nbextensions/nbextensions/snippets_menu/snippets_submenus_python/scipy_special.js -> /home/ubuntu/anaconda3/envs/tensorflow_p36/share/jupyter/nbextensions/snippets_menu/snippets_submenus_python/scipy_special.js\n",
      "[I 01:15:33 InstallContribNbextensionsApp] Copying: /home/ubuntu/anaconda3/envs/tensorflow_p36/lib/python3.6/site-packages/jupyter_contrib_nbextensions/nbextensions/snippets_menu/snippets_submenus_python/sympy.js -> /home/ubuntu/anaconda3/envs/tensorflow_p36/share/jupyter/nbextensions/snippets_menu/snippets_submenus_python/sympy.js\n",
      "[I 01:15:33 InstallContribNbextensionsApp] Copying: /home/ubuntu/anaconda3/envs/tensorflow_p36/lib/python3.6/site-packages/jupyter_contrib_nbextensions/nbextensions/snippets_menu/snippets_submenus_python/numpy_ufuncs.js -> /home/ubuntu/anaconda3/envs/tensorflow_p36/share/jupyter/nbextensions/snippets_menu/snippets_submenus_python/numpy_ufuncs.js\n",
      "[I 01:15:33 InstallContribNbextensionsApp] Copying: /home/ubuntu/anaconda3/envs/tensorflow_p36/lib/python3.6/site-packages/jupyter_contrib_nbextensions/nbextensions/snippets_menu/snippets_submenus_python/numpy.js -> /home/ubuntu/anaconda3/envs/tensorflow_p36/share/jupyter/nbextensions/snippets_menu/snippets_submenus_python/numpy.js\n",
      "[I 01:15:33 InstallContribNbextensionsApp] Copying: /home/ubuntu/anaconda3/envs/tensorflow_p36/lib/python3.6/site-packages/jupyter_contrib_nbextensions/nbextensions/snippets_menu/snippets_submenus_python/pandas.js -> /home/ubuntu/anaconda3/envs/tensorflow_p36/share/jupyter/nbextensions/snippets_menu/snippets_submenus_python/pandas.js\n",
      "[I 01:15:33 InstallContribNbextensionsApp] Copying: /home/ubuntu/anaconda3/envs/tensorflow_p36/lib/python3.6/site-packages/jupyter_contrib_nbextensions/nbextensions/snippets_menu/snippets_submenus_python/numpy_polynomial.js -> /home/ubuntu/anaconda3/envs/tensorflow_p36/share/jupyter/nbextensions/snippets_menu/snippets_submenus_python/numpy_polynomial.js\n",
      "[I 01:15:33 InstallContribNbextensionsApp] - Validating: \u001b[32mOK\u001b[0m\n",
      "[I 01:15:33 InstallContribNbextensionsApp] Installing /home/ubuntu/anaconda3/envs/tensorflow_p36/lib/python3.6/site-packages/jupyter_contrib_nbextensions/nbextensions/python-markdown -> python-markdown\n",
      "[I 01:15:33 InstallContribNbextensionsApp] Making directory: /home/ubuntu/anaconda3/envs/tensorflow_p36/share/jupyter/nbextensions/python-markdown/\n",
      "[I 01:15:33 InstallContribNbextensionsApp] Copying: /home/ubuntu/anaconda3/envs/tensorflow_p36/lib/python3.6/site-packages/jupyter_contrib_nbextensions/nbextensions/python-markdown/trusted.png -> /home/ubuntu/anaconda3/envs/tensorflow_p36/share/jupyter/nbextensions/python-markdown/trusted.png\n",
      "[I 01:15:33 InstallContribNbextensionsApp] Copying: /home/ubuntu/anaconda3/envs/tensorflow_p36/lib/python3.6/site-packages/jupyter_contrib_nbextensions/nbextensions/python-markdown/python-markdown-post.png -> /home/ubuntu/anaconda3/envs/tensorflow_p36/share/jupyter/nbextensions/python-markdown/python-markdown-post.png\n",
      "[I 01:15:33 InstallContribNbextensionsApp] Copying: /home/ubuntu/anaconda3/envs/tensorflow_p36/lib/python3.6/site-packages/jupyter_contrib_nbextensions/nbextensions/python-markdown/python-markdown-pre.png -> /home/ubuntu/anaconda3/envs/tensorflow_p36/share/jupyter/nbextensions/python-markdown/python-markdown-pre.png\n",
      "[I 01:15:33 InstallContribNbextensionsApp] Copying: /home/ubuntu/anaconda3/envs/tensorflow_p36/lib/python3.6/site-packages/jupyter_contrib_nbextensions/nbextensions/python-markdown/untrusted.png -> /home/ubuntu/anaconda3/envs/tensorflow_p36/share/jupyter/nbextensions/python-markdown/untrusted.png\n",
      "[I 01:15:33 InstallContribNbextensionsApp] Copying: /home/ubuntu/anaconda3/envs/tensorflow_p36/lib/python3.6/site-packages/jupyter_contrib_nbextensions/nbextensions/python-markdown/main.css -> /home/ubuntu/anaconda3/envs/tensorflow_p36/share/jupyter/nbextensions/python-markdown/main.css\n",
      "[I 01:15:33 InstallContribNbextensionsApp] Copying: /home/ubuntu/anaconda3/envs/tensorflow_p36/lib/python3.6/site-packages/jupyter_contrib_nbextensions/nbextensions/python-markdown/python-markdown.png -> /home/ubuntu/anaconda3/envs/tensorflow_p36/share/jupyter/nbextensions/python-markdown/python-markdown.png\n",
      "[I 01:15:33 InstallContribNbextensionsApp] Copying: /home/ubuntu/anaconda3/envs/tensorflow_p36/lib/python3.6/site-packages/jupyter_contrib_nbextensions/nbextensions/python-markdown/python-markdown.yaml -> /home/ubuntu/anaconda3/envs/tensorflow_p36/share/jupyter/nbextensions/python-markdown/python-markdown.yaml\n",
      "[I 01:15:33 InstallContribNbextensionsApp] Copying: /home/ubuntu/anaconda3/envs/tensorflow_p36/lib/python3.6/site-packages/jupyter_contrib_nbextensions/nbextensions/python-markdown/main.js -> /home/ubuntu/anaconda3/envs/tensorflow_p36/share/jupyter/nbextensions/python-markdown/main.js\n",
      "[I 01:15:33 InstallContribNbextensionsApp] Copying: /home/ubuntu/anaconda3/envs/tensorflow_p36/lib/python3.6/site-packages/jupyter_contrib_nbextensions/nbextensions/python-markdown/readme.md -> /home/ubuntu/anaconda3/envs/tensorflow_p36/share/jupyter/nbextensions/python-markdown/readme.md\n",
      "[I 01:15:33 InstallContribNbextensionsApp] - Validating: \u001b[32mOK\u001b[0m\n",
      "[I 01:15:33 InstallContribNbextensionsApp] Installing /home/ubuntu/anaconda3/envs/tensorflow_p36/lib/python3.6/site-packages/jupyter_contrib_nbextensions/nbextensions/move_selected_cells -> move_selected_cells\n",
      "[I 01:15:33 InstallContribNbextensionsApp] Making directory: /home/ubuntu/anaconda3/envs/tensorflow_p36/share/jupyter/nbextensions/move_selected_cells/\n",
      "[I 01:15:33 InstallContribNbextensionsApp] Copying: /home/ubuntu/anaconda3/envs/tensorflow_p36/lib/python3.6/site-packages/jupyter_contrib_nbextensions/nbextensions/move_selected_cells/move_selected_cells.yaml -> /home/ubuntu/anaconda3/envs/tensorflow_p36/share/jupyter/nbextensions/move_selected_cells/move_selected_cells.yaml\n",
      "[I 01:15:33 InstallContribNbextensionsApp] Copying: /home/ubuntu/anaconda3/envs/tensorflow_p36/lib/python3.6/site-packages/jupyter_contrib_nbextensions/nbextensions/move_selected_cells/main.js -> /home/ubuntu/anaconda3/envs/tensorflow_p36/share/jupyter/nbextensions/move_selected_cells/main.js\n",
      "[I 01:15:33 InstallContribNbextensionsApp] Copying: /home/ubuntu/anaconda3/envs/tensorflow_p36/lib/python3.6/site-packages/jupyter_contrib_nbextensions/nbextensions/move_selected_cells/README.md -> /home/ubuntu/anaconda3/envs/tensorflow_p36/share/jupyter/nbextensions/move_selected_cells/README.md\n",
      "[I 01:15:33 InstallContribNbextensionsApp] - Validating: \u001b[32mOK\u001b[0m\n",
      "[I 01:15:33 InstallContribNbextensionsApp] Installing /home/ubuntu/anaconda3/envs/tensorflow_p36/lib/python3.6/site-packages/jupyter_contrib_nbextensions/nbextensions/skill -> skill\n",
      "[I 01:15:33 InstallContribNbextensionsApp] Making directory: /home/ubuntu/anaconda3/envs/tensorflow_p36/share/jupyter/nbextensions/skill/\n",
      "[I 01:15:33 InstallContribNbextensionsApp] Copying: /home/ubuntu/anaconda3/envs/tensorflow_p36/lib/python3.6/site-packages/jupyter_contrib_nbextensions/nbextensions/skill/skill.yaml -> /home/ubuntu/anaconda3/envs/tensorflow_p36/share/jupyter/nbextensions/skill/skill.yaml\n",
      "[I 01:15:33 InstallContribNbextensionsApp] Copying: /home/ubuntu/anaconda3/envs/tensorflow_p36/lib/python3.6/site-packages/jupyter_contrib_nbextensions/nbextensions/skill/main.js -> /home/ubuntu/anaconda3/envs/tensorflow_p36/share/jupyter/nbextensions/skill/main.js\n",
      "[I 01:15:33 InstallContribNbextensionsApp] Copying: /home/ubuntu/anaconda3/envs/tensorflow_p36/lib/python3.6/site-packages/jupyter_contrib_nbextensions/nbextensions/skill/README.md -> /home/ubuntu/anaconda3/envs/tensorflow_p36/share/jupyter/nbextensions/skill/README.md\n",
      "[I 01:15:33 InstallContribNbextensionsApp] Copying: /home/ubuntu/anaconda3/envs/tensorflow_p36/lib/python3.6/site-packages/jupyter_contrib_nbextensions/nbextensions/skill/skill.js -> /home/ubuntu/anaconda3/envs/tensorflow_p36/share/jupyter/nbextensions/skill/skill.js\n",
      "[I 01:15:33 InstallContribNbextensionsApp] - Validating: \u001b[32mOK\u001b[0m\n",
      "[I 01:15:33 InstallContribNbextensionsApp] Installing /home/ubuntu/anaconda3/envs/tensorflow_p36/lib/python3.6/site-packages/jupyter_contrib_nbextensions/nbextensions/cell_filter -> cell_filter\n",
      "[I 01:15:33 InstallContribNbextensionsApp] Making directory: /home/ubuntu/anaconda3/envs/tensorflow_p36/share/jupyter/nbextensions/cell_filter/\n",
      "[I 01:15:33 InstallContribNbextensionsApp] Copying: /home/ubuntu/anaconda3/envs/tensorflow_p36/lib/python3.6/site-packages/jupyter_contrib_nbextensions/nbextensions/cell_filter/cell_filter.js -> /home/ubuntu/anaconda3/envs/tensorflow_p36/share/jupyter/nbextensions/cell_filter/cell_filter.js\n",
      "[I 01:15:33 InstallContribNbextensionsApp] Copying: /home/ubuntu/anaconda3/envs/tensorflow_p36/lib/python3.6/site-packages/jupyter_contrib_nbextensions/nbextensions/cell_filter/cell_filter.yml -> /home/ubuntu/anaconda3/envs/tensorflow_p36/share/jupyter/nbextensions/cell_filter/cell_filter.yml\n",
      "[I 01:15:33 InstallContribNbextensionsApp] Copying: /home/ubuntu/anaconda3/envs/tensorflow_p36/lib/python3.6/site-packages/jupyter_contrib_nbextensions/nbextensions/cell_filter/README.md -> /home/ubuntu/anaconda3/envs/tensorflow_p36/share/jupyter/nbextensions/cell_filter/README.md\n",
      "[I 01:15:33 InstallContribNbextensionsApp] - Validating: \u001b[32mOK\u001b[0m\n",
      "[I 01:15:33 InstallContribNbextensionsApp] Installing /home/ubuntu/anaconda3/envs/tensorflow_p36/lib/python3.6/site-packages/jupyter_contrib_nbextensions/nbextensions/exercise2 -> exercise2\n",
      "[I 01:15:33 InstallContribNbextensionsApp] Making directory: /home/ubuntu/anaconda3/envs/tensorflow_p36/share/jupyter/nbextensions/exercise2/\n",
      "[I 01:15:33 InstallContribNbextensionsApp] Copying: /home/ubuntu/anaconda3/envs/tensorflow_p36/lib/python3.6/site-packages/jupyter_contrib_nbextensions/nbextensions/exercise2/image.gif -> /home/ubuntu/anaconda3/envs/tensorflow_p36/share/jupyter/nbextensions/exercise2/image.gif\n",
      "[I 01:15:33 InstallContribNbextensionsApp] Copying: /home/ubuntu/anaconda3/envs/tensorflow_p36/lib/python3.6/site-packages/jupyter_contrib_nbextensions/nbextensions/exercise2/main.css -> /home/ubuntu/anaconda3/envs/tensorflow_p36/share/jupyter/nbextensions/exercise2/main.css\n",
      "[I 01:15:33 InstallContribNbextensionsApp] Copying: /home/ubuntu/anaconda3/envs/tensorflow_p36/lib/python3.6/site-packages/jupyter_contrib_nbextensions/nbextensions/exercise2/main.js -> /home/ubuntu/anaconda3/envs/tensorflow_p36/share/jupyter/nbextensions/exercise2/main.js\n",
      "[I 01:15:33 InstallContribNbextensionsApp] Copying: /home/ubuntu/anaconda3/envs/tensorflow_p36/lib/python3.6/site-packages/jupyter_contrib_nbextensions/nbextensions/exercise2/readme.md -> /home/ubuntu/anaconda3/envs/tensorflow_p36/share/jupyter/nbextensions/exercise2/readme.md\n",
      "[I 01:15:33 InstallContribNbextensionsApp] Copying: /home/ubuntu/anaconda3/envs/tensorflow_p36/lib/python3.6/site-packages/jupyter_contrib_nbextensions/nbextensions/exercise2/icon.png -> /home/ubuntu/anaconda3/envs/tensorflow_p36/share/jupyter/nbextensions/exercise2/icon.png\n",
      "[I 01:15:33 InstallContribNbextensionsApp] Copying: /home/ubuntu/anaconda3/envs/tensorflow_p36/lib/python3.6/site-packages/jupyter_contrib_nbextensions/nbextensions/exercise2/exercise2.yaml -> /home/ubuntu/anaconda3/envs/tensorflow_p36/share/jupyter/nbextensions/exercise2/exercise2.yaml\n",
      "[I 01:15:33 InstallContribNbextensionsApp] - Validating: \u001b[32mOK\u001b[0m\n",
      "[I 01:15:33 InstallContribNbextensionsApp] Installing /home/ubuntu/anaconda3/envs/tensorflow_p36/lib/python3.6/site-packages/jupyter_contrib_nbextensions/nbextensions/init_cell -> init_cell\n",
      "[I 01:15:33 InstallContribNbextensionsApp] Making directory: /home/ubuntu/anaconda3/envs/tensorflow_p36/share/jupyter/nbextensions/init_cell/\n",
      "[I 01:15:33 InstallContribNbextensionsApp] Copying: /home/ubuntu/anaconda3/envs/tensorflow_p36/lib/python3.6/site-packages/jupyter_contrib_nbextensions/nbextensions/init_cell/init_cell.yaml -> /home/ubuntu/anaconda3/envs/tensorflow_p36/share/jupyter/nbextensions/init_cell/init_cell.yaml\n",
      "[I 01:15:33 InstallContribNbextensionsApp] Copying: /home/ubuntu/anaconda3/envs/tensorflow_p36/lib/python3.6/site-packages/jupyter_contrib_nbextensions/nbextensions/init_cell/main.js -> /home/ubuntu/anaconda3/envs/tensorflow_p36/share/jupyter/nbextensions/init_cell/main.js\n",
      "[I 01:15:33 InstallContribNbextensionsApp] Copying: /home/ubuntu/anaconda3/envs/tensorflow_p36/lib/python3.6/site-packages/jupyter_contrib_nbextensions/nbextensions/init_cell/README.md -> /home/ubuntu/anaconda3/envs/tensorflow_p36/share/jupyter/nbextensions/init_cell/README.md\n",
      "[I 01:15:33 InstallContribNbextensionsApp] Copying: /home/ubuntu/anaconda3/envs/tensorflow_p36/lib/python3.6/site-packages/jupyter_contrib_nbextensions/nbextensions/init_cell/icon.png -> /home/ubuntu/anaconda3/envs/tensorflow_p36/share/jupyter/nbextensions/init_cell/icon.png\n",
      "[I 01:15:33 InstallContribNbextensionsApp] - Validating: \u001b[32mOK\u001b[0m\n",
      "[I 01:15:33 InstallContribNbextensionsApp] Installing /home/ubuntu/anaconda3/envs/tensorflow_p36/lib/python3.6/site-packages/jupyter_contrib_nbextensions/nbextensions/printview -> printview\n",
      "[I 01:15:33 InstallContribNbextensionsApp] Making directory: /home/ubuntu/anaconda3/envs/tensorflow_p36/share/jupyter/nbextensions/printview/\n",
      "[I 01:15:33 InstallContribNbextensionsApp] Copying: /home/ubuntu/anaconda3/envs/tensorflow_p36/lib/python3.6/site-packages/jupyter_contrib_nbextensions/nbextensions/printview/printview-button.png -> /home/ubuntu/anaconda3/envs/tensorflow_p36/share/jupyter/nbextensions/printview/printview-button.png\n",
      "[I 01:15:33 InstallContribNbextensionsApp] Copying: /home/ubuntu/anaconda3/envs/tensorflow_p36/lib/python3.6/site-packages/jupyter_contrib_nbextensions/nbextensions/printview/main.js -> /home/ubuntu/anaconda3/envs/tensorflow_p36/share/jupyter/nbextensions/printview/main.js\n",
      "[I 01:15:33 InstallContribNbextensionsApp] Copying: /home/ubuntu/anaconda3/envs/tensorflow_p36/lib/python3.6/site-packages/jupyter_contrib_nbextensions/nbextensions/printview/readme.md -> /home/ubuntu/anaconda3/envs/tensorflow_p36/share/jupyter/nbextensions/printview/readme.md\n",
      "[I 01:15:33 InstallContribNbextensionsApp] Copying: /home/ubuntu/anaconda3/envs/tensorflow_p36/lib/python3.6/site-packages/jupyter_contrib_nbextensions/nbextensions/printview/printview.yaml -> /home/ubuntu/anaconda3/envs/tensorflow_p36/share/jupyter/nbextensions/printview/printview.yaml\n",
      "[I 01:15:33 InstallContribNbextensionsApp] Copying: /home/ubuntu/anaconda3/envs/tensorflow_p36/lib/python3.6/site-packages/jupyter_contrib_nbextensions/nbextensions/printview/icon.png -> /home/ubuntu/anaconda3/envs/tensorflow_p36/share/jupyter/nbextensions/printview/icon.png\n",
      "[I 01:15:33 InstallContribNbextensionsApp] - Validating: \u001b[32mOK\u001b[0m\n",
      "[I 01:15:33 InstallContribNbextensionsApp] Installing /home/ubuntu/anaconda3/envs/tensorflow_p36/lib/python3.6/site-packages/jupyter_contrib_nbextensions/nbextensions/hide_input -> hide_input\n",
      "[I 01:15:33 InstallContribNbextensionsApp] Making directory: /home/ubuntu/anaconda3/envs/tensorflow_p36/share/jupyter/nbextensions/hide_input/\n",
      "[I 01:15:33 InstallContribNbextensionsApp] Copying: /home/ubuntu/anaconda3/envs/tensorflow_p36/lib/python3.6/site-packages/jupyter_contrib_nbextensions/nbextensions/hide_input/hide-input.yaml -> /home/ubuntu/anaconda3/envs/tensorflow_p36/share/jupyter/nbextensions/hide_input/hide-input.yaml\n",
      "[I 01:15:33 InstallContribNbextensionsApp] Copying: /home/ubuntu/anaconda3/envs/tensorflow_p36/lib/python3.6/site-packages/jupyter_contrib_nbextensions/nbextensions/hide_input/main.js -> /home/ubuntu/anaconda3/envs/tensorflow_p36/share/jupyter/nbextensions/hide_input/main.js\n",
      "[I 01:15:33 InstallContribNbextensionsApp] Copying: /home/ubuntu/anaconda3/envs/tensorflow_p36/lib/python3.6/site-packages/jupyter_contrib_nbextensions/nbextensions/hide_input/readme.md -> /home/ubuntu/anaconda3/envs/tensorflow_p36/share/jupyter/nbextensions/hide_input/readme.md\n",
      "[I 01:15:33 InstallContribNbextensionsApp] Copying: /home/ubuntu/anaconda3/envs/tensorflow_p36/lib/python3.6/site-packages/jupyter_contrib_nbextensions/nbextensions/hide_input/icon.png -> /home/ubuntu/anaconda3/envs/tensorflow_p36/share/jupyter/nbextensions/hide_input/icon.png\n",
      "[I 01:15:33 InstallContribNbextensionsApp] - Validating: \u001b[32mOK\u001b[0m\n",
      "[I 01:15:33 InstallContribNbextensionsApp] Installing /home/ubuntu/anaconda3/envs/tensorflow_p36/lib/python3.6/site-packages/jupyter_contrib_nbextensions/nbextensions/snippets -> snippets\n",
      "[I 01:15:33 InstallContribNbextensionsApp] Making directory: /home/ubuntu/anaconda3/envs/tensorflow_p36/share/jupyter/nbextensions/snippets/\n",
      "[I 01:15:33 InstallContribNbextensionsApp] Copying: /home/ubuntu/anaconda3/envs/tensorflow_p36/lib/python3.6/site-packages/jupyter_contrib_nbextensions/nbextensions/snippets/snippets-demo.gif -> /home/ubuntu/anaconda3/envs/tensorflow_p36/share/jupyter/nbextensions/snippets/snippets-demo.gif\n",
      "[I 01:15:33 InstallContribNbextensionsApp] Copying: /home/ubuntu/anaconda3/envs/tensorflow_p36/lib/python3.6/site-packages/jupyter_contrib_nbextensions/nbextensions/snippets/snippets.yaml -> /home/ubuntu/anaconda3/envs/tensorflow_p36/share/jupyter/nbextensions/snippets/snippets.yaml\n",
      "[I 01:15:33 InstallContribNbextensionsApp] Copying: /home/ubuntu/anaconda3/envs/tensorflow_p36/lib/python3.6/site-packages/jupyter_contrib_nbextensions/nbextensions/snippets/main.js -> /home/ubuntu/anaconda3/envs/tensorflow_p36/share/jupyter/nbextensions/snippets/main.js\n",
      "[I 01:15:33 InstallContribNbextensionsApp] Copying: /home/ubuntu/anaconda3/envs/tensorflow_p36/lib/python3.6/site-packages/jupyter_contrib_nbextensions/nbextensions/snippets/README.md -> /home/ubuntu/anaconda3/envs/tensorflow_p36/share/jupyter/nbextensions/snippets/README.md\n",
      "[I 01:15:33 InstallContribNbextensionsApp] Copying: /home/ubuntu/anaconda3/envs/tensorflow_p36/lib/python3.6/site-packages/jupyter_contrib_nbextensions/nbextensions/snippets/snippets.json -> /home/ubuntu/anaconda3/envs/tensorflow_p36/share/jupyter/nbextensions/snippets/snippets.json\n",
      "[I 01:15:33 InstallContribNbextensionsApp] - Validating: \u001b[32mOK\u001b[0m\n",
      "[I 01:15:33 InstallContribNbextensionsApp] Installing /home/ubuntu/anaconda3/envs/tensorflow_p36/lib/python3.6/site-packages/jupyter_contrib_nbextensions/nbextensions/select_keymap -> select_keymap\n",
      "[I 01:15:33 InstallContribNbextensionsApp] Making directory: /home/ubuntu/anaconda3/envs/tensorflow_p36/share/jupyter/nbextensions/select_keymap/\n",
      "[I 01:15:33 InstallContribNbextensionsApp] Copying: /home/ubuntu/anaconda3/envs/tensorflow_p36/lib/python3.6/site-packages/jupyter_contrib_nbextensions/nbextensions/select_keymap/select_keymap.yaml -> /home/ubuntu/anaconda3/envs/tensorflow_p36/share/jupyter/nbextensions/select_keymap/select_keymap.yaml\n",
      "[I 01:15:33 InstallContribNbextensionsApp] Copying: /home/ubuntu/anaconda3/envs/tensorflow_p36/lib/python3.6/site-packages/jupyter_contrib_nbextensions/nbextensions/select_keymap/select_keymap.png -> /home/ubuntu/anaconda3/envs/tensorflow_p36/share/jupyter/nbextensions/select_keymap/select_keymap.png\n",
      "[I 01:15:33 InstallContribNbextensionsApp] Copying: /home/ubuntu/anaconda3/envs/tensorflow_p36/lib/python3.6/site-packages/jupyter_contrib_nbextensions/nbextensions/select_keymap/main.js -> /home/ubuntu/anaconda3/envs/tensorflow_p36/share/jupyter/nbextensions/select_keymap/main.js\n",
      "[I 01:15:33 InstallContribNbextensionsApp] Copying: /home/ubuntu/anaconda3/envs/tensorflow_p36/lib/python3.6/site-packages/jupyter_contrib_nbextensions/nbextensions/select_keymap/README.md -> /home/ubuntu/anaconda3/envs/tensorflow_p36/share/jupyter/nbextensions/select_keymap/README.md\n",
      "[I 01:15:33 InstallContribNbextensionsApp] - Validating: \u001b[32mOK\u001b[0m\n",
      "[I 01:15:33 InstallContribNbextensionsApp] Installing /home/ubuntu/anaconda3/envs/tensorflow_p36/lib/python3.6/site-packages/jupyter_contrib_nbextensions/nbextensions/limit_output -> limit_output\n",
      "[I 01:15:33 InstallContribNbextensionsApp] Making directory: /home/ubuntu/anaconda3/envs/tensorflow_p36/share/jupyter/nbextensions/limit_output/\n",
      "[I 01:15:33 InstallContribNbextensionsApp] Copying: /home/ubuntu/anaconda3/envs/tensorflow_p36/lib/python3.6/site-packages/jupyter_contrib_nbextensions/nbextensions/limit_output/limit-output.yaml -> /home/ubuntu/anaconda3/envs/tensorflow_p36/share/jupyter/nbextensions/limit_output/limit-output.yaml\n",
      "[I 01:15:33 InstallContribNbextensionsApp] Copying: /home/ubuntu/anaconda3/envs/tensorflow_p36/lib/python3.6/site-packages/jupyter_contrib_nbextensions/nbextensions/limit_output/main.js -> /home/ubuntu/anaconda3/envs/tensorflow_p36/share/jupyter/nbextensions/limit_output/main.js\n",
      "[I 01:15:33 InstallContribNbextensionsApp] Copying: /home/ubuntu/anaconda3/envs/tensorflow_p36/lib/python3.6/site-packages/jupyter_contrib_nbextensions/nbextensions/limit_output/readme.md -> /home/ubuntu/anaconda3/envs/tensorflow_p36/share/jupyter/nbextensions/limit_output/readme.md\n",
      "[I 01:15:33 InstallContribNbextensionsApp] Copying: /home/ubuntu/anaconda3/envs/tensorflow_p36/lib/python3.6/site-packages/jupyter_contrib_nbextensions/nbextensions/limit_output/icon.png -> /home/ubuntu/anaconda3/envs/tensorflow_p36/share/jupyter/nbextensions/limit_output/icon.png\n",
      "[I 01:15:33 InstallContribNbextensionsApp] - Validating: \u001b[32mOK\u001b[0m\n",
      "[I 01:15:33 InstallContribNbextensionsApp] Installing /home/ubuntu/anaconda3/envs/tensorflow_p36/lib/python3.6/site-packages/jupyter_contrib_nbextensions/nbextensions/tree-filter -> tree-filter\n",
      "[I 01:15:33 InstallContribNbextensionsApp] Making directory: /home/ubuntu/anaconda3/envs/tensorflow_p36/share/jupyter/nbextensions/tree-filter/\n",
      "[I 01:15:33 InstallContribNbextensionsApp] Copying: /home/ubuntu/anaconda3/envs/tensorflow_p36/lib/python3.6/site-packages/jupyter_contrib_nbextensions/nbextensions/tree-filter/tree-filter.yaml -> /home/ubuntu/anaconda3/envs/tensorflow_p36/share/jupyter/nbextensions/tree-filter/tree-filter.yaml\n",
      "[I 01:15:33 InstallContribNbextensionsApp] Copying: /home/ubuntu/anaconda3/envs/tensorflow_p36/lib/python3.6/site-packages/jupyter_contrib_nbextensions/nbextensions/tree-filter/demo.gif -> /home/ubuntu/anaconda3/envs/tensorflow_p36/share/jupyter/nbextensions/tree-filter/demo.gif\n",
      "[I 01:15:33 InstallContribNbextensionsApp] Copying: /home/ubuntu/anaconda3/envs/tensorflow_p36/lib/python3.6/site-packages/jupyter_contrib_nbextensions/nbextensions/tree-filter/readme.md -> /home/ubuntu/anaconda3/envs/tensorflow_p36/share/jupyter/nbextensions/tree-filter/readme.md\n",
      "[I 01:15:33 InstallContribNbextensionsApp] Copying: /home/ubuntu/anaconda3/envs/tensorflow_p36/lib/python3.6/site-packages/jupyter_contrib_nbextensions/nbextensions/tree-filter/index.js -> /home/ubuntu/anaconda3/envs/tensorflow_p36/share/jupyter/nbextensions/tree-filter/index.js\n",
      "[I 01:15:33 InstallContribNbextensionsApp] - Validating: \u001b[32mOK\u001b[0m\n",
      "[I 01:15:33 InstallContribNbextensionsApp] Installing /home/ubuntu/anaconda3/envs/tensorflow_p36/lib/python3.6/site-packages/jupyter_contrib_nbextensions/nbextensions/navigation-hotkeys -> navigation-hotkeys\n",
      "[I 01:15:33 InstallContribNbextensionsApp] Making directory: /home/ubuntu/anaconda3/envs/tensorflow_p36/share/jupyter/nbextensions/navigation-hotkeys/\n",
      "[I 01:15:33 InstallContribNbextensionsApp] Copying: /home/ubuntu/anaconda3/envs/tensorflow_p36/lib/python3.6/site-packages/jupyter_contrib_nbextensions/nbextensions/navigation-hotkeys/hotkeys.yaml -> /home/ubuntu/anaconda3/envs/tensorflow_p36/share/jupyter/nbextensions/navigation-hotkeys/hotkeys.yaml\n",
      "[I 01:15:33 InstallContribNbextensionsApp] Copying: /home/ubuntu/anaconda3/envs/tensorflow_p36/lib/python3.6/site-packages/jupyter_contrib_nbextensions/nbextensions/navigation-hotkeys/main.js -> /home/ubuntu/anaconda3/envs/tensorflow_p36/share/jupyter/nbextensions/navigation-hotkeys/main.js\n",
      "[I 01:15:33 InstallContribNbextensionsApp] Copying: /home/ubuntu/anaconda3/envs/tensorflow_p36/lib/python3.6/site-packages/jupyter_contrib_nbextensions/nbextensions/navigation-hotkeys/readme.md -> /home/ubuntu/anaconda3/envs/tensorflow_p36/share/jupyter/nbextensions/navigation-hotkeys/readme.md\n",
      "[I 01:15:33 InstallContribNbextensionsApp] Copying: /home/ubuntu/anaconda3/envs/tensorflow_p36/lib/python3.6/site-packages/jupyter_contrib_nbextensions/nbextensions/navigation-hotkeys/icon.png -> /home/ubuntu/anaconda3/envs/tensorflow_p36/share/jupyter/nbextensions/navigation-hotkeys/icon.png\n",
      "[I 01:15:33 InstallContribNbextensionsApp] - Validating: \u001b[32mOK\u001b[0m\n",
      "[I 01:15:33 InstallContribNbextensionsApp] Installing /home/ubuntu/anaconda3/envs/tensorflow_p36/lib/python3.6/site-packages/jupyter_contrib_nbextensions/nbextensions/comment-uncomment -> comment-uncomment\n",
      "[I 01:15:33 InstallContribNbextensionsApp] Making directory: /home/ubuntu/anaconda3/envs/tensorflow_p36/share/jupyter/nbextensions/comment-uncomment/\n",
      "[I 01:15:33 InstallContribNbextensionsApp] Copying: /home/ubuntu/anaconda3/envs/tensorflow_p36/lib/python3.6/site-packages/jupyter_contrib_nbextensions/nbextensions/comment-uncomment/comment-uncomment.yaml -> /home/ubuntu/anaconda3/envs/tensorflow_p36/share/jupyter/nbextensions/comment-uncomment/comment-uncomment.yaml\n",
      "[I 01:15:33 InstallContribNbextensionsApp] Copying: /home/ubuntu/anaconda3/envs/tensorflow_p36/lib/python3.6/site-packages/jupyter_contrib_nbextensions/nbextensions/comment-uncomment/main.js -> /home/ubuntu/anaconda3/envs/tensorflow_p36/share/jupyter/nbextensions/comment-uncomment/main.js\n",
      "[I 01:15:33 InstallContribNbextensionsApp] Copying: /home/ubuntu/anaconda3/envs/tensorflow_p36/lib/python3.6/site-packages/jupyter_contrib_nbextensions/nbextensions/comment-uncomment/readme.md -> /home/ubuntu/anaconda3/envs/tensorflow_p36/share/jupyter/nbextensions/comment-uncomment/readme.md\n",
      "[I 01:15:33 InstallContribNbextensionsApp] Copying: /home/ubuntu/anaconda3/envs/tensorflow_p36/lib/python3.6/site-packages/jupyter_contrib_nbextensions/nbextensions/comment-uncomment/icon.png -> /home/ubuntu/anaconda3/envs/tensorflow_p36/share/jupyter/nbextensions/comment-uncomment/icon.png\n",
      "[I 01:15:33 InstallContribNbextensionsApp] - Validating: \u001b[32mOK\u001b[0m\n",
      "[I 01:15:33 InstallContribNbextensionsApp] Installing /home/ubuntu/anaconda3/envs/tensorflow_p36/lib/python3.6/site-packages/jupyter_contrib_nbextensions/nbextensions/scratchpad -> scratchpad\n",
      "[I 01:15:33 InstallContribNbextensionsApp] Making directory: /home/ubuntu/anaconda3/envs/tensorflow_p36/share/jupyter/nbextensions/scratchpad/\n",
      "[I 01:15:33 InstallContribNbextensionsApp] Copying: /home/ubuntu/anaconda3/envs/tensorflow_p36/lib/python3.6/site-packages/jupyter_contrib_nbextensions/nbextensions/scratchpad/scratchpad.yaml -> /home/ubuntu/anaconda3/envs/tensorflow_p36/share/jupyter/nbextensions/scratchpad/scratchpad.yaml\n",
      "[I 01:15:33 InstallContribNbextensionsApp] Copying: /home/ubuntu/anaconda3/envs/tensorflow_p36/lib/python3.6/site-packages/jupyter_contrib_nbextensions/nbextensions/scratchpad/demo.gif -> /home/ubuntu/anaconda3/envs/tensorflow_p36/share/jupyter/nbextensions/scratchpad/demo.gif\n",
      "[I 01:15:33 InstallContribNbextensionsApp] Copying: /home/ubuntu/anaconda3/envs/tensorflow_p36/lib/python3.6/site-packages/jupyter_contrib_nbextensions/nbextensions/scratchpad/main.js -> /home/ubuntu/anaconda3/envs/tensorflow_p36/share/jupyter/nbextensions/scratchpad/main.js\n",
      "[I 01:15:33 InstallContribNbextensionsApp] Copying: /home/ubuntu/anaconda3/envs/tensorflow_p36/lib/python3.6/site-packages/jupyter_contrib_nbextensions/nbextensions/scratchpad/README.md -> /home/ubuntu/anaconda3/envs/tensorflow_p36/share/jupyter/nbextensions/scratchpad/README.md\n",
      "[I 01:15:33 InstallContribNbextensionsApp] Copying: /home/ubuntu/anaconda3/envs/tensorflow_p36/lib/python3.6/site-packages/jupyter_contrib_nbextensions/nbextensions/scratchpad/LICENSE -> /home/ubuntu/anaconda3/envs/tensorflow_p36/share/jupyter/nbextensions/scratchpad/LICENSE\n",
      "[I 01:15:33 InstallContribNbextensionsApp] Copying: /home/ubuntu/anaconda3/envs/tensorflow_p36/lib/python3.6/site-packages/jupyter_contrib_nbextensions/nbextensions/scratchpad/scratchpad.css -> /home/ubuntu/anaconda3/envs/tensorflow_p36/share/jupyter/nbextensions/scratchpad/scratchpad.css\n",
      "[I 01:15:33 InstallContribNbextensionsApp] - Validating: \u001b[32mOK\u001b[0m\n",
      "[I 01:15:33 InstallContribNbextensionsApp] Installing /home/ubuntu/anaconda3/envs/tensorflow_p36/lib/python3.6/site-packages/jupyter_contrib_nbextensions/nbextensions/contrib_nbextensions_help_item -> contrib_nbextensions_help_item\n",
      "[I 01:15:33 InstallContribNbextensionsApp] Making directory: /home/ubuntu/anaconda3/envs/tensorflow_p36/share/jupyter/nbextensions/contrib_nbextensions_help_item/\n",
      "[I 01:15:33 InstallContribNbextensionsApp] Copying: /home/ubuntu/anaconda3/envs/tensorflow_p36/lib/python3.6/site-packages/jupyter_contrib_nbextensions/nbextensions/contrib_nbextensions_help_item/contrib_nbextensions_help_item.yaml -> /home/ubuntu/anaconda3/envs/tensorflow_p36/share/jupyter/nbextensions/contrib_nbextensions_help_item/contrib_nbextensions_help_item.yaml\n",
      "[I 01:15:33 InstallContribNbextensionsApp] Copying: /home/ubuntu/anaconda3/envs/tensorflow_p36/lib/python3.6/site-packages/jupyter_contrib_nbextensions/nbextensions/contrib_nbextensions_help_item/main.js -> /home/ubuntu/anaconda3/envs/tensorflow_p36/share/jupyter/nbextensions/contrib_nbextensions_help_item/main.js\n",
      "[I 01:15:33 InstallContribNbextensionsApp] Copying: /home/ubuntu/anaconda3/envs/tensorflow_p36/lib/python3.6/site-packages/jupyter_contrib_nbextensions/nbextensions/contrib_nbextensions_help_item/README.md -> /home/ubuntu/anaconda3/envs/tensorflow_p36/share/jupyter/nbextensions/contrib_nbextensions_help_item/README.md\n",
      "[I 01:15:33 InstallContribNbextensionsApp] - Validating: \u001b[32mOK\u001b[0m\n",
      "[I 01:15:33 InstallContribNbextensionsApp] Installing /home/ubuntu/anaconda3/envs/tensorflow_p36/lib/python3.6/site-packages/jupyter_contrib_nbextensions/nbextensions/ruler -> ruler\n",
      "[I 01:15:33 InstallContribNbextensionsApp] Making directory: /home/ubuntu/anaconda3/envs/tensorflow_p36/share/jupyter/nbextensions/ruler/\n",
      "[I 01:15:33 InstallContribNbextensionsApp] Copying: /home/ubuntu/anaconda3/envs/tensorflow_p36/lib/python3.6/site-packages/jupyter_contrib_nbextensions/nbextensions/ruler/ruler.yaml -> /home/ubuntu/anaconda3/envs/tensorflow_p36/share/jupyter/nbextensions/ruler/ruler.yaml\n",
      "[I 01:15:33 InstallContribNbextensionsApp] Copying: /home/ubuntu/anaconda3/envs/tensorflow_p36/lib/python3.6/site-packages/jupyter_contrib_nbextensions/nbextensions/ruler/main.js -> /home/ubuntu/anaconda3/envs/tensorflow_p36/share/jupyter/nbextensions/ruler/main.js\n",
      "[I 01:15:33 InstallContribNbextensionsApp] Copying: /home/ubuntu/anaconda3/envs/tensorflow_p36/lib/python3.6/site-packages/jupyter_contrib_nbextensions/nbextensions/ruler/readme.md -> /home/ubuntu/anaconda3/envs/tensorflow_p36/share/jupyter/nbextensions/ruler/readme.md\n",
      "[I 01:15:33 InstallContribNbextensionsApp] Copying: /home/ubuntu/anaconda3/envs/tensorflow_p36/lib/python3.6/site-packages/jupyter_contrib_nbextensions/nbextensions/ruler/icon.png -> /home/ubuntu/anaconda3/envs/tensorflow_p36/share/jupyter/nbextensions/ruler/icon.png\n",
      "[I 01:15:33 InstallContribNbextensionsApp] - Validating: \u001b[32mOK\u001b[0m\n",
      "[I 01:15:33 InstallContribNbextensionsApp] Installing /home/ubuntu/anaconda3/envs/tensorflow_p36/lib/python3.6/site-packages/jupyter_contrib_nbextensions/nbextensions/qtconsole -> qtconsole\n",
      "[I 01:15:33 InstallContribNbextensionsApp] Making directory: /home/ubuntu/anaconda3/envs/tensorflow_p36/share/jupyter/nbextensions/qtconsole/\n",
      "[I 01:15:33 InstallContribNbextensionsApp] Copying: /home/ubuntu/anaconda3/envs/tensorflow_p36/lib/python3.6/site-packages/jupyter_contrib_nbextensions/nbextensions/qtconsole/qtconsole.js -> /home/ubuntu/anaconda3/envs/tensorflow_p36/share/jupyter/nbextensions/qtconsole/qtconsole.js\n",
      "[I 01:15:33 InstallContribNbextensionsApp] Copying: /home/ubuntu/anaconda3/envs/tensorflow_p36/lib/python3.6/site-packages/jupyter_contrib_nbextensions/nbextensions/qtconsole/qtconsole.yaml -> /home/ubuntu/anaconda3/envs/tensorflow_p36/share/jupyter/nbextensions/qtconsole/qtconsole.yaml\n",
      "[I 01:15:33 InstallContribNbextensionsApp] Copying: /home/ubuntu/anaconda3/envs/tensorflow_p36/lib/python3.6/site-packages/jupyter_contrib_nbextensions/nbextensions/qtconsole/README.md -> /home/ubuntu/anaconda3/envs/tensorflow_p36/share/jupyter/nbextensions/qtconsole/README.md\n",
      "[I 01:15:33 InstallContribNbextensionsApp] - Validating: \u001b[32mOK\u001b[0m\n",
      "[I 01:15:33 InstallContribNbextensionsApp] Installing /home/ubuntu/anaconda3/envs/tensorflow_p36/lib/python3.6/site-packages/jupyter_contrib_nbextensions/nbextensions/codemirror_mode_extensions -> codemirror_mode_extensions\n",
      "[I 01:15:33 InstallContribNbextensionsApp] Making directory: /home/ubuntu/anaconda3/envs/tensorflow_p36/share/jupyter/nbextensions/codemirror_mode_extensions/\n",
      "[I 01:15:33 InstallContribNbextensionsApp] Copying: /home/ubuntu/anaconda3/envs/tensorflow_p36/lib/python3.6/site-packages/jupyter_contrib_nbextensions/nbextensions/codemirror_mode_extensions/main.js -> /home/ubuntu/anaconda3/envs/tensorflow_p36/share/jupyter/nbextensions/codemirror_mode_extensions/main.js\n",
      "[I 01:15:33 InstallContribNbextensionsApp] Copying: /home/ubuntu/anaconda3/envs/tensorflow_p36/lib/python3.6/site-packages/jupyter_contrib_nbextensions/nbextensions/codemirror_mode_extensions/codemirror_mode_extensions.yaml -> /home/ubuntu/anaconda3/envs/tensorflow_p36/share/jupyter/nbextensions/codemirror_mode_extensions/codemirror_mode_extensions.yaml\n",
      "[I 01:15:33 InstallContribNbextensionsApp] - Validating: \u001b[32mOK\u001b[0m\n",
      "[I 01:15:33 InstallContribNbextensionsApp] Installing /home/ubuntu/anaconda3/envs/tensorflow_p36/lib/python3.6/site-packages/jupyter_contrib_nbextensions/nbextensions/notify -> notify\n",
      "[I 01:15:33 InstallContribNbextensionsApp] Making directory: /home/ubuntu/anaconda3/envs/tensorflow_p36/share/jupyter/nbextensions/notify/\n",
      "[I 01:15:33 InstallContribNbextensionsApp] Copying: /home/ubuntu/anaconda3/envs/tensorflow_p36/lib/python3.6/site-packages/jupyter_contrib_nbextensions/nbextensions/notify/notify.js -> /home/ubuntu/anaconda3/envs/tensorflow_p36/share/jupyter/nbextensions/notify/notify.js\n",
      "[I 01:15:33 InstallContribNbextensionsApp] Copying: /home/ubuntu/anaconda3/envs/tensorflow_p36/lib/python3.6/site-packages/jupyter_contrib_nbextensions/nbextensions/notify/notification.png -> /home/ubuntu/anaconda3/envs/tensorflow_p36/share/jupyter/nbextensions/notify/notification.png\n",
      "[I 01:15:33 InstallContribNbextensionsApp] Copying: /home/ubuntu/anaconda3/envs/tensorflow_p36/lib/python3.6/site-packages/jupyter_contrib_nbextensions/nbextensions/notify/notify.mp3 -> /home/ubuntu/anaconda3/envs/tensorflow_p36/share/jupyter/nbextensions/notify/notify.mp3\n",
      "[I 01:15:33 InstallContribNbextensionsApp] Copying: /home/ubuntu/anaconda3/envs/tensorflow_p36/lib/python3.6/site-packages/jupyter_contrib_nbextensions/nbextensions/notify/notify.yaml -> /home/ubuntu/anaconda3/envs/tensorflow_p36/share/jupyter/nbextensions/notify/notify.yaml\n",
      "[I 01:15:33 InstallContribNbextensionsApp] Copying: /home/ubuntu/anaconda3/envs/tensorflow_p36/lib/python3.6/site-packages/jupyter_contrib_nbextensions/nbextensions/notify/readme.md -> /home/ubuntu/anaconda3/envs/tensorflow_p36/share/jupyter/nbextensions/notify/readme.md\n",
      "[I 01:15:33 InstallContribNbextensionsApp] - Validating: \u001b[32mOK\u001b[0m\n",
      "[I 01:15:33 InstallContribNbextensionsApp] Installing /home/ubuntu/anaconda3/envs/tensorflow_p36/lib/python3.6/site-packages/jupyter_contrib_nbextensions/nbextensions/autoscroll -> autoscroll\n",
      "[I 01:15:33 InstallContribNbextensionsApp] Making directory: /home/ubuntu/anaconda3/envs/tensorflow_p36/share/jupyter/nbextensions/autoscroll/\n",
      "[I 01:15:33 InstallContribNbextensionsApp] Copying: /home/ubuntu/anaconda3/envs/tensorflow_p36/lib/python3.6/site-packages/jupyter_contrib_nbextensions/nbextensions/autoscroll/autoscroll.yaml -> /home/ubuntu/anaconda3/envs/tensorflow_p36/share/jupyter/nbextensions/autoscroll/autoscroll.yaml\n",
      "[I 01:15:33 InstallContribNbextensionsApp] Copying: /home/ubuntu/anaconda3/envs/tensorflow_p36/lib/python3.6/site-packages/jupyter_contrib_nbextensions/nbextensions/autoscroll/main.js -> /home/ubuntu/anaconda3/envs/tensorflow_p36/share/jupyter/nbextensions/autoscroll/main.js\n",
      "[I 01:15:33 InstallContribNbextensionsApp] Copying: /home/ubuntu/anaconda3/envs/tensorflow_p36/lib/python3.6/site-packages/jupyter_contrib_nbextensions/nbextensions/autoscroll/README.md -> /home/ubuntu/anaconda3/envs/tensorflow_p36/share/jupyter/nbextensions/autoscroll/README.md\n",
      "[I 01:15:33 InstallContribNbextensionsApp] Copying: /home/ubuntu/anaconda3/envs/tensorflow_p36/lib/python3.6/site-packages/jupyter_contrib_nbextensions/nbextensions/autoscroll/icon.png -> /home/ubuntu/anaconda3/envs/tensorflow_p36/share/jupyter/nbextensions/autoscroll/icon.png\n",
      "[I 01:15:33 InstallContribNbextensionsApp] - Validating: \u001b[32mOK\u001b[0m\n",
      "[I 01:15:33 InstallContribNbextensionsApp] Installing /home/ubuntu/anaconda3/envs/tensorflow_p36/lib/python3.6/site-packages/jupyter_contrib_nbextensions/nbextensions/exercise -> exercise\n",
      "[I 01:15:33 InstallContribNbextensionsApp] Making directory: /home/ubuntu/anaconda3/envs/tensorflow_p36/share/jupyter/nbextensions/exercise/\n",
      "[I 01:15:33 InstallContribNbextensionsApp] Copying: /home/ubuntu/anaconda3/envs/tensorflow_p36/lib/python3.6/site-packages/jupyter_contrib_nbextensions/nbextensions/exercise/exercise.yaml -> /home/ubuntu/anaconda3/envs/tensorflow_p36/share/jupyter/nbextensions/exercise/exercise.yaml\n",
      "[I 01:15:33 InstallContribNbextensionsApp] Copying: /home/ubuntu/anaconda3/envs/tensorflow_p36/lib/python3.6/site-packages/jupyter_contrib_nbextensions/nbextensions/exercise/history.md -> /home/ubuntu/anaconda3/envs/tensorflow_p36/share/jupyter/nbextensions/exercise/history.md\n",
      "[I 01:15:33 InstallContribNbextensionsApp] Copying: /home/ubuntu/anaconda3/envs/tensorflow_p36/lib/python3.6/site-packages/jupyter_contrib_nbextensions/nbextensions/exercise/image.gif -> /home/ubuntu/anaconda3/envs/tensorflow_p36/share/jupyter/nbextensions/exercise/image.gif\n",
      "[I 01:15:33 InstallContribNbextensionsApp] Copying: /home/ubuntu/anaconda3/envs/tensorflow_p36/lib/python3.6/site-packages/jupyter_contrib_nbextensions/nbextensions/exercise/main.css -> /home/ubuntu/anaconda3/envs/tensorflow_p36/share/jupyter/nbextensions/exercise/main.css\n",
      "[I 01:15:33 InstallContribNbextensionsApp] Copying: /home/ubuntu/anaconda3/envs/tensorflow_p36/lib/python3.6/site-packages/jupyter_contrib_nbextensions/nbextensions/exercise/main.js -> /home/ubuntu/anaconda3/envs/tensorflow_p36/share/jupyter/nbextensions/exercise/main.js\n",
      "[I 01:15:33 InstallContribNbextensionsApp] Copying: /home/ubuntu/anaconda3/envs/tensorflow_p36/lib/python3.6/site-packages/jupyter_contrib_nbextensions/nbextensions/exercise/readme.md -> /home/ubuntu/anaconda3/envs/tensorflow_p36/share/jupyter/nbextensions/exercise/readme.md\n",
      "[I 01:15:33 InstallContribNbextensionsApp] Copying: /home/ubuntu/anaconda3/envs/tensorflow_p36/lib/python3.6/site-packages/jupyter_contrib_nbextensions/nbextensions/exercise/icon.png -> /home/ubuntu/anaconda3/envs/tensorflow_p36/share/jupyter/nbextensions/exercise/icon.png\n",
      "[I 01:15:33 InstallContribNbextensionsApp] - Validating: \u001b[32mOK\u001b[0m\n",
      "[I 01:15:33 InstallContribNbextensionsApp] Installing /home/ubuntu/anaconda3/envs/tensorflow_p36/lib/python3.6/site-packages/jupyter_contrib_nbextensions/nbextensions/addbefore -> addbefore\n",
      "[I 01:15:33 InstallContribNbextensionsApp] Making directory: /home/ubuntu/anaconda3/envs/tensorflow_p36/share/jupyter/nbextensions/addbefore/\n",
      "[I 01:15:33 InstallContribNbextensionsApp] Copying: /home/ubuntu/anaconda3/envs/tensorflow_p36/lib/python3.6/site-packages/jupyter_contrib_nbextensions/nbextensions/addbefore/addbefore.yaml -> /home/ubuntu/anaconda3/envs/tensorflow_p36/share/jupyter/nbextensions/addbefore/addbefore.yaml\n",
      "[I 01:15:33 InstallContribNbextensionsApp] Copying: /home/ubuntu/anaconda3/envs/tensorflow_p36/lib/python3.6/site-packages/jupyter_contrib_nbextensions/nbextensions/addbefore/main.js -> /home/ubuntu/anaconda3/envs/tensorflow_p36/share/jupyter/nbextensions/addbefore/main.js\n",
      "[I 01:15:33 InstallContribNbextensionsApp] Copying: /home/ubuntu/anaconda3/envs/tensorflow_p36/lib/python3.6/site-packages/jupyter_contrib_nbextensions/nbextensions/addbefore/readme.md -> /home/ubuntu/anaconda3/envs/tensorflow_p36/share/jupyter/nbextensions/addbefore/readme.md\n",
      "[I 01:15:33 InstallContribNbextensionsApp] Copying: /home/ubuntu/anaconda3/envs/tensorflow_p36/lib/python3.6/site-packages/jupyter_contrib_nbextensions/nbextensions/addbefore/icon.png -> /home/ubuntu/anaconda3/envs/tensorflow_p36/share/jupyter/nbextensions/addbefore/icon.png\n",
      "[I 01:15:33 InstallContribNbextensionsApp] - Validating: \u001b[32mOK\u001b[0m\n",
      "[I 01:15:33 InstallContribNbextensionsApp] Installing /home/ubuntu/anaconda3/envs/tensorflow_p36/lib/python3.6/site-packages/jupyter_contrib_nbextensions/nbextensions/rubberband -> rubberband\n",
      "[I 01:15:33 InstallContribNbextensionsApp] Making directory: /home/ubuntu/anaconda3/envs/tensorflow_p36/share/jupyter/nbextensions/rubberband/\n",
      "[I 01:15:33 InstallContribNbextensionsApp] Copying: /home/ubuntu/anaconda3/envs/tensorflow_p36/lib/python3.6/site-packages/jupyter_contrib_nbextensions/nbextensions/rubberband/main.css -> /home/ubuntu/anaconda3/envs/tensorflow_p36/share/jupyter/nbextensions/rubberband/main.css\n",
      "[I 01:15:33 InstallContribNbextensionsApp] Copying: /home/ubuntu/anaconda3/envs/tensorflow_p36/lib/python3.6/site-packages/jupyter_contrib_nbextensions/nbextensions/rubberband/main.js -> /home/ubuntu/anaconda3/envs/tensorflow_p36/share/jupyter/nbextensions/rubberband/main.js\n",
      "[I 01:15:33 InstallContribNbextensionsApp] Copying: /home/ubuntu/anaconda3/envs/tensorflow_p36/lib/python3.6/site-packages/jupyter_contrib_nbextensions/nbextensions/rubberband/readme.md -> /home/ubuntu/anaconda3/envs/tensorflow_p36/share/jupyter/nbextensions/rubberband/readme.md\n",
      "[I 01:15:33 InstallContribNbextensionsApp] Copying: /home/ubuntu/anaconda3/envs/tensorflow_p36/lib/python3.6/site-packages/jupyter_contrib_nbextensions/nbextensions/rubberband/rubberband.yaml -> /home/ubuntu/anaconda3/envs/tensorflow_p36/share/jupyter/nbextensions/rubberband/rubberband.yaml\n",
      "[I 01:15:33 InstallContribNbextensionsApp] Copying: /home/ubuntu/anaconda3/envs/tensorflow_p36/lib/python3.6/site-packages/jupyter_contrib_nbextensions/nbextensions/rubberband/icon.png -> /home/ubuntu/anaconda3/envs/tensorflow_p36/share/jupyter/nbextensions/rubberband/icon.png\n",
      "[I 01:15:33 InstallContribNbextensionsApp] - Validating: \u001b[32mOK\u001b[0m\n",
      "[I 01:15:33 InstallContribNbextensionsApp] Installing /home/ubuntu/anaconda3/envs/tensorflow_p36/lib/python3.6/site-packages/jupyter_contrib_nbextensions/nbextensions/execution_dependencies -> execution_dependencies\n",
      "[I 01:15:33 InstallContribNbextensionsApp] Making directory: /home/ubuntu/anaconda3/envs/tensorflow_p36/share/jupyter/nbextensions/execution_dependencies/\n",
      "[I 01:15:33 InstallContribNbextensionsApp] Copying: /home/ubuntu/anaconda3/envs/tensorflow_p36/lib/python3.6/site-packages/jupyter_contrib_nbextensions/nbextensions/execution_dependencies/execution_dependencies.js -> /home/ubuntu/anaconda3/envs/tensorflow_p36/share/jupyter/nbextensions/execution_dependencies/execution_dependencies.js\n",
      "[I 01:15:33 InstallContribNbextensionsApp] Copying: /home/ubuntu/anaconda3/envs/tensorflow_p36/lib/python3.6/site-packages/jupyter_contrib_nbextensions/nbextensions/execution_dependencies/execution_dependencies.yml -> /home/ubuntu/anaconda3/envs/tensorflow_p36/share/jupyter/nbextensions/execution_dependencies/execution_dependencies.yml\n",
      "[I 01:15:33 InstallContribNbextensionsApp] Copying: /home/ubuntu/anaconda3/envs/tensorflow_p36/lib/python3.6/site-packages/jupyter_contrib_nbextensions/nbextensions/execution_dependencies/README.md -> /home/ubuntu/anaconda3/envs/tensorflow_p36/share/jupyter/nbextensions/execution_dependencies/README.md\n",
      "[I 01:15:33 InstallContribNbextensionsApp] - Validating: \u001b[32mOK\u001b[0m\n",
      "[I 01:15:33 InstallContribNbextensionsApp] Installing /home/ubuntu/anaconda3/envs/tensorflow_p36/lib/python3.6/site-packages/jupyter_contrib_nbextensions/nbextensions/nbTranslate -> nbTranslate\n",
      "[I 01:15:33 InstallContribNbextensionsApp] Making directory: /home/ubuntu/anaconda3/envs/tensorflow_p36/share/jupyter/nbextensions/nbTranslate/\n",
      "[I 01:15:33 InstallContribNbextensionsApp] Copying: /home/ubuntu/anaconda3/envs/tensorflow_p36/lib/python3.6/site-packages/jupyter_contrib_nbextensions/nbextensions/nbTranslate/nbTranslate.js -> /home/ubuntu/anaconda3/envs/tensorflow_p36/share/jupyter/nbextensions/nbTranslate/nbTranslate.js\n",
      "[I 01:15:33 InstallContribNbextensionsApp] Copying: /home/ubuntu/anaconda3/envs/tensorflow_p36/lib/python3.6/site-packages/jupyter_contrib_nbextensions/nbextensions/nbTranslate/demo2.gif -> /home/ubuntu/anaconda3/envs/tensorflow_p36/share/jupyter/nbextensions/nbTranslate/demo2.gif\n",
      "[I 01:15:33 InstallContribNbextensionsApp] Copying: /home/ubuntu/anaconda3/envs/tensorflow_p36/lib/python3.6/site-packages/jupyter_contrib_nbextensions/nbextensions/nbTranslate/nbTranslate.yaml -> /home/ubuntu/anaconda3/envs/tensorflow_p36/share/jupyter/nbextensions/nbTranslate/nbTranslate.yaml\n",
      "[I 01:15:33 InstallContribNbextensionsApp] Copying: /home/ubuntu/anaconda3/envs/tensorflow_p36/lib/python3.6/site-packages/jupyter_contrib_nbextensions/nbextensions/nbTranslate/demo1.gif -> /home/ubuntu/anaconda3/envs/tensorflow_p36/share/jupyter/nbextensions/nbTranslate/demo1.gif\n",
      "[I 01:15:33 InstallContribNbextensionsApp] Copying: /home/ubuntu/anaconda3/envs/tensorflow_p36/lib/python3.6/site-packages/jupyter_contrib_nbextensions/nbextensions/nbTranslate/languages.js -> /home/ubuntu/anaconda3/envs/tensorflow_p36/share/jupyter/nbextensions/nbTranslate/languages.js\n",
      "[I 01:15:33 InstallContribNbextensionsApp] Copying: /home/ubuntu/anaconda3/envs/tensorflow_p36/lib/python3.6/site-packages/jupyter_contrib_nbextensions/nbextensions/nbTranslate/main.js -> /home/ubuntu/anaconda3/envs/tensorflow_p36/share/jupyter/nbextensions/nbTranslate/main.js\n",
      "[I 01:15:33 InstallContribNbextensionsApp] Copying: /home/ubuntu/anaconda3/envs/tensorflow_p36/lib/python3.6/site-packages/jupyter_contrib_nbextensions/nbextensions/nbTranslate/README.md -> /home/ubuntu/anaconda3/envs/tensorflow_p36/share/jupyter/nbextensions/nbTranslate/README.md\n",
      "[I 01:15:33 InstallContribNbextensionsApp] Copying: /home/ubuntu/anaconda3/envs/tensorflow_p36/lib/python3.6/site-packages/jupyter_contrib_nbextensions/nbextensions/nbTranslate/mutils.js -> /home/ubuntu/anaconda3/envs/tensorflow_p36/share/jupyter/nbextensions/nbTranslate/mutils.js\n",
      "[I 01:15:33 InstallContribNbextensionsApp] - Validating: \u001b[32mOK\u001b[0m\n",
      "[I 01:15:33 InstallContribNbextensionsApp] Installing /home/ubuntu/anaconda3/envs/tensorflow_p36/lib/python3.6/site-packages/jupyter_contrib_nbextensions/nbextensions/help_panel -> help_panel\n",
      "[I 01:15:33 InstallContribNbextensionsApp] Making directory: /home/ubuntu/anaconda3/envs/tensorflow_p36/share/jupyter/nbextensions/help_panel/\n",
      "[I 01:15:33 InstallContribNbextensionsApp] Copying: /home/ubuntu/anaconda3/envs/tensorflow_p36/lib/python3.6/site-packages/jupyter_contrib_nbextensions/nbextensions/help_panel/help_panel_ext.png -> /home/ubuntu/anaconda3/envs/tensorflow_p36/share/jupyter/nbextensions/help_panel/help_panel_ext.png\n",
      "[I 01:15:33 InstallContribNbextensionsApp] Copying: /home/ubuntu/anaconda3/envs/tensorflow_p36/lib/python3.6/site-packages/jupyter_contrib_nbextensions/nbextensions/help_panel/help_panel.yaml -> /home/ubuntu/anaconda3/envs/tensorflow_p36/share/jupyter/nbextensions/help_panel/help_panel.yaml\n",
      "[I 01:15:33 InstallContribNbextensionsApp] Copying: /home/ubuntu/anaconda3/envs/tensorflow_p36/lib/python3.6/site-packages/jupyter_contrib_nbextensions/nbextensions/help_panel/help_panel_ext_fullscreen.png -> /home/ubuntu/anaconda3/envs/tensorflow_p36/share/jupyter/nbextensions/help_panel/help_panel_ext_fullscreen.png\n",
      "[I 01:15:33 InstallContribNbextensionsApp] Copying: /home/ubuntu/anaconda3/envs/tensorflow_p36/lib/python3.6/site-packages/jupyter_contrib_nbextensions/nbextensions/help_panel/help_panel.js -> /home/ubuntu/anaconda3/envs/tensorflow_p36/share/jupyter/nbextensions/help_panel/help_panel.js\n",
      "[I 01:15:33 InstallContribNbextensionsApp] Copying: /home/ubuntu/anaconda3/envs/tensorflow_p36/lib/python3.6/site-packages/jupyter_contrib_nbextensions/nbextensions/help_panel/readme.md -> /home/ubuntu/anaconda3/envs/tensorflow_p36/share/jupyter/nbextensions/help_panel/readme.md\n",
      "[I 01:15:33 InstallContribNbextensionsApp] Copying: /home/ubuntu/anaconda3/envs/tensorflow_p36/lib/python3.6/site-packages/jupyter_contrib_nbextensions/nbextensions/help_panel/icon.png -> /home/ubuntu/anaconda3/envs/tensorflow_p36/share/jupyter/nbextensions/help_panel/icon.png\n",
      "[I 01:15:33 InstallContribNbextensionsApp] Copying: /home/ubuntu/anaconda3/envs/tensorflow_p36/lib/python3.6/site-packages/jupyter_contrib_nbextensions/nbextensions/help_panel/help_panel.css -> /home/ubuntu/anaconda3/envs/tensorflow_p36/share/jupyter/nbextensions/help_panel/help_panel.css\n",
      "[I 01:15:33 InstallContribNbextensionsApp] Making directory: /home/ubuntu/anaconda3/envs/tensorflow_p36/share/jupyter/nbextensions/help_panel/img\n",
      "[I 01:15:33 InstallContribNbextensionsApp] Copying: /home/ubuntu/anaconda3/envs/tensorflow_p36/lib/python3.6/site-packages/jupyter_contrib_nbextensions/nbextensions/help_panel/img/handle-v.png -> /home/ubuntu/anaconda3/envs/tensorflow_p36/share/jupyter/nbextensions/help_panel/img/handle-v.png\n",
      "[I 01:15:33 InstallContribNbextensionsApp] - Validating: \u001b[32mOK\u001b[0m\n",
      "[I 01:15:33 InstallContribNbextensionsApp] Installing /home/ubuntu/anaconda3/envs/tensorflow_p36/lib/python3.6/site-packages/jupyter_contrib_nbextensions/nbextensions/skip-traceback -> skip-traceback\n",
      "[I 01:15:33 InstallContribNbextensionsApp] Making directory: /home/ubuntu/anaconda3/envs/tensorflow_p36/share/jupyter/nbextensions/skip-traceback/\n",
      "[I 01:15:33 InstallContribNbextensionsApp] Copying: /home/ubuntu/anaconda3/envs/tensorflow_p36/lib/python3.6/site-packages/jupyter_contrib_nbextensions/nbextensions/skip-traceback/skip-traceback.png -> /home/ubuntu/anaconda3/envs/tensorflow_p36/share/jupyter/nbextensions/skip-traceback/skip-traceback.png\n",
      "[I 01:15:33 InstallContribNbextensionsApp] Copying: /home/ubuntu/anaconda3/envs/tensorflow_p36/lib/python3.6/site-packages/jupyter_contrib_nbextensions/nbextensions/skip-traceback/main.js -> /home/ubuntu/anaconda3/envs/tensorflow_p36/share/jupyter/nbextensions/skip-traceback/main.js\n",
      "[I 01:15:33 InstallContribNbextensionsApp] Copying: /home/ubuntu/anaconda3/envs/tensorflow_p36/lib/python3.6/site-packages/jupyter_contrib_nbextensions/nbextensions/skip-traceback/readme.md -> /home/ubuntu/anaconda3/envs/tensorflow_p36/share/jupyter/nbextensions/skip-traceback/readme.md\n",
      "[I 01:15:33 InstallContribNbextensionsApp] Copying: /home/ubuntu/anaconda3/envs/tensorflow_p36/lib/python3.6/site-packages/jupyter_contrib_nbextensions/nbextensions/skip-traceback/skip-traceback.yaml -> /home/ubuntu/anaconda3/envs/tensorflow_p36/share/jupyter/nbextensions/skip-traceback/skip-traceback.yaml\n",
      "[I 01:15:33 InstallContribNbextensionsApp] Copying: /home/ubuntu/anaconda3/envs/tensorflow_p36/lib/python3.6/site-packages/jupyter_contrib_nbextensions/nbextensions/skip-traceback/icon.png -> /home/ubuntu/anaconda3/envs/tensorflow_p36/share/jupyter/nbextensions/skip-traceback/icon.png\n",
      "[I 01:15:33 InstallContribNbextensionsApp] Copying: /home/ubuntu/anaconda3/envs/tensorflow_p36/lib/python3.6/site-packages/jupyter_contrib_nbextensions/nbextensions/skip-traceback/traceback.png -> /home/ubuntu/anaconda3/envs/tensorflow_p36/share/jupyter/nbextensions/skip-traceback/traceback.png\n",
      "[I 01:15:33 InstallContribNbextensionsApp] - Validating: \u001b[32mOK\u001b[0m\n",
      "[I 01:15:33 InstallContribNbextensionsApp] Installing /home/ubuntu/anaconda3/envs/tensorflow_p36/lib/python3.6/site-packages/jupyter_contrib_nbextensions/nbextensions/load_tex_macros -> load_tex_macros\n",
      "[I 01:15:33 InstallContribNbextensionsApp] Making directory: /home/ubuntu/anaconda3/envs/tensorflow_p36/share/jupyter/nbextensions/load_tex_macros/\n",
      "[I 01:15:33 InstallContribNbextensionsApp] Copying: /home/ubuntu/anaconda3/envs/tensorflow_p36/lib/python3.6/site-packages/jupyter_contrib_nbextensions/nbextensions/load_tex_macros/load_tex_macros.yaml -> /home/ubuntu/anaconda3/envs/tensorflow_p36/share/jupyter/nbextensions/load_tex_macros/load_tex_macros.yaml\n",
      "[I 01:15:33 InstallContribNbextensionsApp] Copying: /home/ubuntu/anaconda3/envs/tensorflow_p36/lib/python3.6/site-packages/jupyter_contrib_nbextensions/nbextensions/load_tex_macros/main.js -> /home/ubuntu/anaconda3/envs/tensorflow_p36/share/jupyter/nbextensions/load_tex_macros/main.js\n",
      "[I 01:15:33 InstallContribNbextensionsApp] Copying: /home/ubuntu/anaconda3/envs/tensorflow_p36/lib/python3.6/site-packages/jupyter_contrib_nbextensions/nbextensions/load_tex_macros/readme.md -> /home/ubuntu/anaconda3/envs/tensorflow_p36/share/jupyter/nbextensions/load_tex_macros/readme.md\n",
      "[I 01:15:33 InstallContribNbextensionsApp] Copying: /home/ubuntu/anaconda3/envs/tensorflow_p36/lib/python3.6/site-packages/jupyter_contrib_nbextensions/nbextensions/load_tex_macros/icon.png -> /home/ubuntu/anaconda3/envs/tensorflow_p36/share/jupyter/nbextensions/load_tex_macros/icon.png\n",
      "[I 01:15:33 InstallContribNbextensionsApp] - Validating: \u001b[32mOK\u001b[0m\n",
      "[I 01:15:33 InstallContribNbextensionsApp] Installing /home/ubuntu/anaconda3/envs/tensorflow_p36/lib/python3.6/site-packages/jupyter_contrib_nbextensions/nbextensions/livemdpreview -> livemdpreview\n",
      "[I 01:15:33 InstallContribNbextensionsApp] Making directory: /home/ubuntu/anaconda3/envs/tensorflow_p36/share/jupyter/nbextensions/livemdpreview/\n",
      "[I 01:15:33 InstallContribNbextensionsApp] Copying: /home/ubuntu/anaconda3/envs/tensorflow_p36/lib/python3.6/site-packages/jupyter_contrib_nbextensions/nbextensions/livemdpreview/livemdpreview.yml -> /home/ubuntu/anaconda3/envs/tensorflow_p36/share/jupyter/nbextensions/livemdpreview/livemdpreview.yml\n",
      "[I 01:15:33 InstallContribNbextensionsApp] Copying: /home/ubuntu/anaconda3/envs/tensorflow_p36/lib/python3.6/site-packages/jupyter_contrib_nbextensions/nbextensions/livemdpreview/livemdpreview.js -> /home/ubuntu/anaconda3/envs/tensorflow_p36/share/jupyter/nbextensions/livemdpreview/livemdpreview.js\n",
      "[I 01:15:33 InstallContribNbextensionsApp] - Validating: \u001b[32mOK\u001b[0m\n",
      "[I 01:15:33 InstallContribNbextensionsApp] Installing /home/ubuntu/anaconda3/envs/tensorflow_p36/lib/python3.6/site-packages/jupyter_contrib_nbextensions/nbextensions/datestamper -> datestamper\n",
      "[I 01:15:33 InstallContribNbextensionsApp] Making directory: /home/ubuntu/anaconda3/envs/tensorflow_p36/share/jupyter/nbextensions/datestamper/\n",
      "[I 01:15:33 InstallContribNbextensionsApp] Copying: /home/ubuntu/anaconda3/envs/tensorflow_p36/lib/python3.6/site-packages/jupyter_contrib_nbextensions/nbextensions/datestamper/main.yaml -> /home/ubuntu/anaconda3/envs/tensorflow_p36/share/jupyter/nbextensions/datestamper/main.yaml\n",
      "[I 01:15:33 InstallContribNbextensionsApp] Copying: /home/ubuntu/anaconda3/envs/tensorflow_p36/lib/python3.6/site-packages/jupyter_contrib_nbextensions/nbextensions/datestamper/main.js -> /home/ubuntu/anaconda3/envs/tensorflow_p36/share/jupyter/nbextensions/datestamper/main.js\n",
      "[I 01:15:33 InstallContribNbextensionsApp] Copying: /home/ubuntu/anaconda3/envs/tensorflow_p36/lib/python3.6/site-packages/jupyter_contrib_nbextensions/nbextensions/datestamper/readme.md -> /home/ubuntu/anaconda3/envs/tensorflow_p36/share/jupyter/nbextensions/datestamper/readme.md\n",
      "[I 01:15:33 InstallContribNbextensionsApp] Copying: /home/ubuntu/anaconda3/envs/tensorflow_p36/lib/python3.6/site-packages/jupyter_contrib_nbextensions/nbextensions/datestamper/icon.png -> /home/ubuntu/anaconda3/envs/tensorflow_p36/share/jupyter/nbextensions/datestamper/icon.png\n",
      "[I 01:15:33 InstallContribNbextensionsApp] - Validating: \u001b[32mOK\u001b[0m\n",
      "[I 01:15:33 InstallContribNbextensionsApp] Installing /home/ubuntu/anaconda3/envs/tensorflow_p36/lib/python3.6/site-packages/jupyter_contrib_nbextensions/nbextensions/spellchecker -> spellchecker\n",
      "[I 01:15:33 InstallContribNbextensionsApp] Making directory: /home/ubuntu/anaconda3/envs/tensorflow_p36/share/jupyter/nbextensions/spellchecker/\n",
      "[I 01:15:33 InstallContribNbextensionsApp] Copying: /home/ubuntu/anaconda3/envs/tensorflow_p36/lib/python3.6/site-packages/jupyter_contrib_nbextensions/nbextensions/spellchecker/config.yaml -> /home/ubuntu/anaconda3/envs/tensorflow_p36/share/jupyter/nbextensions/spellchecker/config.yaml\n",
      "[I 01:15:33 InstallContribNbextensionsApp] Copying: /home/ubuntu/anaconda3/envs/tensorflow_p36/lib/python3.6/site-packages/jupyter_contrib_nbextensions/nbextensions/spellchecker/screenshot.png -> /home/ubuntu/anaconda3/envs/tensorflow_p36/share/jupyter/nbextensions/spellchecker/screenshot.png\n",
      "[I 01:15:33 InstallContribNbextensionsApp] Copying: /home/ubuntu/anaconda3/envs/tensorflow_p36/lib/python3.6/site-packages/jupyter_contrib_nbextensions/nbextensions/spellchecker/main.css -> /home/ubuntu/anaconda3/envs/tensorflow_p36/share/jupyter/nbextensions/spellchecker/main.css\n",
      "[I 01:15:33 InstallContribNbextensionsApp] Copying: /home/ubuntu/anaconda3/envs/tensorflow_p36/lib/python3.6/site-packages/jupyter_contrib_nbextensions/nbextensions/spellchecker/main.js -> /home/ubuntu/anaconda3/envs/tensorflow_p36/share/jupyter/nbextensions/spellchecker/main.js\n",
      "[I 01:15:33 InstallContribNbextensionsApp] Copying: /home/ubuntu/anaconda3/envs/tensorflow_p36/lib/python3.6/site-packages/jupyter_contrib_nbextensions/nbextensions/spellchecker/README.md -> /home/ubuntu/anaconda3/envs/tensorflow_p36/share/jupyter/nbextensions/spellchecker/README.md\n",
      "[I 01:15:33 InstallContribNbextensionsApp] Copying: /home/ubuntu/anaconda3/envs/tensorflow_p36/lib/python3.6/site-packages/jupyter_contrib_nbextensions/nbextensions/spellchecker/download_new_dict.py -> /home/ubuntu/anaconda3/envs/tensorflow_p36/share/jupyter/nbextensions/spellchecker/download_new_dict.py\n",
      "[I 01:15:33 InstallContribNbextensionsApp] Making directory: /home/ubuntu/anaconda3/envs/tensorflow_p36/share/jupyter/nbextensions/spellchecker/typo\n",
      "[I 01:15:33 InstallContribNbextensionsApp] Copying: /home/ubuntu/anaconda3/envs/tensorflow_p36/lib/python3.6/site-packages/jupyter_contrib_nbextensions/nbextensions/spellchecker/typo/LICENSE.txt -> /home/ubuntu/anaconda3/envs/tensorflow_p36/share/jupyter/nbextensions/spellchecker/typo/LICENSE.txt\n",
      "[I 01:15:33 InstallContribNbextensionsApp] Copying: /home/ubuntu/anaconda3/envs/tensorflow_p36/lib/python3.6/site-packages/jupyter_contrib_nbextensions/nbextensions/spellchecker/typo/typo.js -> /home/ubuntu/anaconda3/envs/tensorflow_p36/share/jupyter/nbextensions/spellchecker/typo/typo.js\n",
      "[I 01:15:33 InstallContribNbextensionsApp] Making directory: /home/ubuntu/anaconda3/envs/tensorflow_p36/share/jupyter/nbextensions/spellchecker/__pycache__\n",
      "[I 01:15:33 InstallContribNbextensionsApp] Copying: /home/ubuntu/anaconda3/envs/tensorflow_p36/lib/python3.6/site-packages/jupyter_contrib_nbextensions/nbextensions/spellchecker/__pycache__/download_new_dict.cpython-36.pyc -> /home/ubuntu/anaconda3/envs/tensorflow_p36/share/jupyter/nbextensions/spellchecker/__pycache__/download_new_dict.cpython-36.pyc\n",
      "[I 01:15:33 InstallContribNbextensionsApp] - Validating: \u001b[32mOK\u001b[0m\n",
      "[I 01:15:33 InstallContribNbextensionsApp] Installing /home/ubuntu/anaconda3/envs/tensorflow_p36/lib/python3.6/site-packages/jupyter_contrib_nbextensions/nbextensions/freeze -> freeze\n",
      "[I 01:15:33 InstallContribNbextensionsApp] Making directory: /home/ubuntu/anaconda3/envs/tensorflow_p36/share/jupyter/nbextensions/freeze/\n",
      "[I 01:15:33 InstallContribNbextensionsApp] Copying: /home/ubuntu/anaconda3/envs/tensorflow_p36/lib/python3.6/site-packages/jupyter_contrib_nbextensions/nbextensions/freeze/config.yaml -> /home/ubuntu/anaconda3/envs/tensorflow_p36/share/jupyter/nbextensions/freeze/config.yaml\n",
      "[I 01:15:33 InstallContribNbextensionsApp] Copying: /home/ubuntu/anaconda3/envs/tensorflow_p36/lib/python3.6/site-packages/jupyter_contrib_nbextensions/nbextensions/freeze/main.js -> /home/ubuntu/anaconda3/envs/tensorflow_p36/share/jupyter/nbextensions/freeze/main.js\n",
      "[I 01:15:33 InstallContribNbextensionsApp] Copying: /home/ubuntu/anaconda3/envs/tensorflow_p36/lib/python3.6/site-packages/jupyter_contrib_nbextensions/nbextensions/freeze/readme.md -> /home/ubuntu/anaconda3/envs/tensorflow_p36/share/jupyter/nbextensions/freeze/readme.md\n",
      "[I 01:15:33 InstallContribNbextensionsApp] Copying: /home/ubuntu/anaconda3/envs/tensorflow_p36/lib/python3.6/site-packages/jupyter_contrib_nbextensions/nbextensions/freeze/icon.png -> /home/ubuntu/anaconda3/envs/tensorflow_p36/share/jupyter/nbextensions/freeze/icon.png\n",
      "[I 01:15:33 InstallContribNbextensionsApp] - Validating: \u001b[32mOK\u001b[0m\n",
      "[I 01:15:33 InstallContribNbextensionsApp] Installing /home/ubuntu/anaconda3/envs/tensorflow_p36/lib/python3.6/site-packages/jupyter_contrib_nbextensions/nbextensions/scroll_down -> scroll_down\n",
      "[I 01:15:33 InstallContribNbextensionsApp] Making directory: /home/ubuntu/anaconda3/envs/tensorflow_p36/share/jupyter/nbextensions/scroll_down/\n",
      "[I 01:15:33 InstallContribNbextensionsApp] Copying: /home/ubuntu/anaconda3/envs/tensorflow_p36/lib/python3.6/site-packages/jupyter_contrib_nbextensions/nbextensions/scroll_down/config.yaml -> /home/ubuntu/anaconda3/envs/tensorflow_p36/share/jupyter/nbextensions/scroll_down/config.yaml\n",
      "[I 01:15:33 InstallContribNbextensionsApp] Copying: /home/ubuntu/anaconda3/envs/tensorflow_p36/lib/python3.6/site-packages/jupyter_contrib_nbextensions/nbextensions/scroll_down/main.js -> /home/ubuntu/anaconda3/envs/tensorflow_p36/share/jupyter/nbextensions/scroll_down/main.js\n",
      "[I 01:15:33 InstallContribNbextensionsApp] Copying: /home/ubuntu/anaconda3/envs/tensorflow_p36/lib/python3.6/site-packages/jupyter_contrib_nbextensions/nbextensions/scroll_down/readme.md -> /home/ubuntu/anaconda3/envs/tensorflow_p36/share/jupyter/nbextensions/scroll_down/readme.md\n",
      "[I 01:15:33 InstallContribNbextensionsApp] Copying: /home/ubuntu/anaconda3/envs/tensorflow_p36/lib/python3.6/site-packages/jupyter_contrib_nbextensions/nbextensions/scroll_down/icon.png -> /home/ubuntu/anaconda3/envs/tensorflow_p36/share/jupyter/nbextensions/scroll_down/icon.png\n",
      "[I 01:15:33 InstallContribNbextensionsApp] - Validating: \u001b[32mOK\u001b[0m\n",
      "[I 01:15:33 InstallContribNbextensionsApp] Installing /home/ubuntu/anaconda3/envs/tensorflow_p36/lib/python3.6/site-packages/jupyter_highlight_selected_word/static/highlight_selected_word -> highlight_selected_word\n",
      "[I 01:15:33 InstallContribNbextensionsApp] Up to date: /home/ubuntu/anaconda3/envs/tensorflow_p36/share/jupyter/nbextensions/highlight_selected_word/configurator.yaml\n",
      "[I 01:15:33 InstallContribNbextensionsApp] Up to date: /home/ubuntu/anaconda3/envs/tensorflow_p36/share/jupyter/nbextensions/highlight_selected_word/main.js\n",
      "[I 01:15:33 InstallContribNbextensionsApp] Up to date: /home/ubuntu/anaconda3/envs/tensorflow_p36/share/jupyter/nbextensions/highlight_selected_word/README.md\n",
      "[I 01:15:33 InstallContribNbextensionsApp] - Validating: \u001b[32mOK\u001b[0m\n",
      "[I 01:15:33 InstallContribNbextensionsApp] Installing /home/ubuntu/anaconda3/envs/tensorflow_p36/lib/python3.6/site-packages/latex_envs/static -> latex_envs\n",
      "[I 01:15:33 InstallContribNbextensionsApp] Up to date: /home/ubuntu/anaconda3/envs/tensorflow_p36/share/jupyter/nbextensions/latex_envs/bibtex2.js\n",
      "[I 01:15:33 InstallContribNbextensionsApp] Up to date: /home/ubuntu/anaconda3/envs/tensorflow_p36/share/jupyter/nbextensions/latex_envs/latex_envs.css\n",
      "[I 01:15:33 InstallContribNbextensionsApp] Up to date: /home/ubuntu/anaconda3/envs/tensorflow_p36/share/jupyter/nbextensions/latex_envs/thmsInNb4.js\n",
      "[I 01:15:33 InstallContribNbextensionsApp] Up to date: /home/ubuntu/anaconda3/envs/tensorflow_p36/share/jupyter/nbextensions/latex_envs/bibInNb4.js\n",
      "[I 01:15:33 InstallContribNbextensionsApp] Up to date: /home/ubuntu/anaconda3/envs/tensorflow_p36/share/jupyter/nbextensions/latex_envs/latex_envs.yaml\n",
      "[I 01:15:33 InstallContribNbextensionsApp] Up to date: /home/ubuntu/anaconda3/envs/tensorflow_p36/share/jupyter/nbextensions/latex_envs/latex_envs.js\n",
      "[I 01:15:33 InstallContribNbextensionsApp] Up to date: /home/ubuntu/anaconda3/envs/tensorflow_p36/share/jupyter/nbextensions/latex_envs/initNb.js\n",
      "[I 01:15:33 InstallContribNbextensionsApp] Up to date: /home/ubuntu/anaconda3/envs/tensorflow_p36/share/jupyter/nbextensions/latex_envs/main_toolbar.png\n",
      "[I 01:15:33 InstallContribNbextensionsApp] Up to date: /home/ubuntu/anaconda3/envs/tensorflow_p36/share/jupyter/nbextensions/latex_envs/example.png\n",
      "[I 01:15:33 InstallContribNbextensionsApp] Up to date: /home/ubuntu/anaconda3/envs/tensorflow_p36/share/jupyter/nbextensions/latex_envs/envsLatex.json\n",
      "[I 01:15:33 InstallContribNbextensionsApp] Up to date: /home/ubuntu/anaconda3/envs/tensorflow_p36/share/jupyter/nbextensions/latex_envs/example_user_envs.json\n",
      "[I 01:15:33 InstallContribNbextensionsApp] Up to date: /home/ubuntu/anaconda3/envs/tensorflow_p36/share/jupyter/nbextensions/latex_envs/README.md\n",
      "[I 01:15:33 InstallContribNbextensionsApp] Up to date: /home/ubuntu/anaconda3/envs/tensorflow_p36/share/jupyter/nbextensions/latex_envs/icon.png\n",
      "[I 01:15:33 InstallContribNbextensionsApp] Up to date: /home/ubuntu/anaconda3/envs/tensorflow_p36/share/jupyter/nbextensions/latex_envs/envsLatex.js\n",
      "[I 01:15:33 InstallContribNbextensionsApp] Up to date: /home/ubuntu/anaconda3/envs/tensorflow_p36/share/jupyter/nbextensions/latex_envs/configuration_toolbar.png\n",
      "[I 01:15:33 InstallContribNbextensionsApp] Up to date: /home/ubuntu/anaconda3/envs/tensorflow_p36/share/jupyter/nbextensions/latex_envs/doc/documentation.tex\n",
      "[I 01:15:33 InstallContribNbextensionsApp] Up to date: /home/ubuntu/anaconda3/envs/tensorflow_p36/share/jupyter/nbextensions/latex_envs/doc/config_toolbar.png\n",
      "[I 01:15:33 InstallContribNbextensionsApp] Up to date: /home/ubuntu/anaconda3/envs/tensorflow_p36/share/jupyter/nbextensions/latex_envs/doc/latex_env_doc.ipynb\n",
      "[I 01:15:33 InstallContribNbextensionsApp] Up to date: /home/ubuntu/anaconda3/envs/tensorflow_p36/share/jupyter/nbextensions/latex_envs/doc/latex_env_doc.tex\n",
      "[I 01:15:33 InstallContribNbextensionsApp] Up to date: /home/ubuntu/anaconda3/envs/tensorflow_p36/share/jupyter/nbextensions/latex_envs/doc/latex_env_doc.html\n",
      "[I 01:15:33 InstallContribNbextensionsApp] Up to date: /home/ubuntu/anaconda3/envs/tensorflow_p36/share/jupyter/nbextensions/latex_envs/doc/biblio_ipython.bib\n",
      "[I 01:15:33 InstallContribNbextensionsApp] Up to date: /home/ubuntu/anaconda3/envs/tensorflow_p36/share/jupyter/nbextensions/latex_envs/doc/main_toolbar.png\n",
      "[I 01:15:33 InstallContribNbextensionsApp] Up to date: /home/ubuntu/anaconda3/envs/tensorflow_p36/share/jupyter/nbextensions/latex_envs/doc/example.png\n",
      "[I 01:15:33 InstallContribNbextensionsApp] Up to date: /home/ubuntu/anaconda3/envs/tensorflow_p36/share/jupyter/nbextensions/latex_envs/doc/header.tex\n",
      "[I 01:15:33 InstallContribNbextensionsApp] Up to date: /home/ubuntu/anaconda3/envs/tensorflow_p36/share/jupyter/nbextensions/latex_envs/doc/README.md\n",
      "[I 01:15:33 InstallContribNbextensionsApp] Up to date: /home/ubuntu/anaconda3/envs/tensorflow_p36/share/jupyter/nbextensions/latex_envs/doc/documentation.pdf\n",
      "[I 01:15:33 InstallContribNbextensionsApp] Up to date: /home/ubuntu/anaconda3/envs/tensorflow_p36/share/jupyter/nbextensions/latex_envs/doc/Toggles.png\n",
      "[I 01:15:33 InstallContribNbextensionsApp] Up to date: /home/ubuntu/anaconda3/envs/tensorflow_p36/share/jupyter/nbextensions/latex_envs/doc/IEEEtran.bst\n",
      "[I 01:15:33 InstallContribNbextensionsApp] Up to date: /home/ubuntu/anaconda3/envs/tensorflow_p36/share/jupyter/nbextensions/latex_envs/doc/configuration_toolbar.png\n",
      "[I 01:15:33 InstallContribNbextensionsApp] Up to date: /home/ubuntu/anaconda3/envs/tensorflow_p36/share/jupyter/nbextensions/latex_envs/doc/LaTeX_envs_menu.png\n",
      "[I 01:15:33 InstallContribNbextensionsApp] Up to date: /home/ubuntu/anaconda3/envs/tensorflow_p36/share/jupyter/nbextensions/latex_envs/doc/.ipynb_checkpoints/latex_env_doc-checkpoint.ipynb\n",
      "[I 01:15:33 InstallContribNbextensionsApp] Up to date: /home/ubuntu/anaconda3/envs/tensorflow_p36/share/jupyter/nbextensions/latex_envs/doc/latex_env_doc_files/latex_env_doc_47_0.png\n",
      "[I 01:15:33 InstallContribNbextensionsApp] Up to date: /home/ubuntu/anaconda3/envs/tensorflow_p36/share/jupyter/nbextensions/latex_envs/doc/latex_env_doc_files/latex_env_doc_45_0.png\n",
      "[I 01:15:33 InstallContribNbextensionsApp] Up to date: /home/ubuntu/anaconda3/envs/tensorflow_p36/share/jupyter/nbextensions/latex_envs/doc/latex_env_doc_files/latex_env_doc_50_0.png\n",
      "[I 01:15:33 InstallContribNbextensionsApp] Up to date: /home/ubuntu/anaconda3/envs/tensorflow_p36/share/jupyter/nbextensions/latex_envs/doc/latex_env_doc_files/latex_env_doc_42_0.png\n",
      "[I 01:15:33 InstallContribNbextensionsApp] Up to date: /home/ubuntu/anaconda3/envs/tensorflow_p36/share/jupyter/nbextensions/latex_envs/doc/latex_env_doc_files/latex_env_doc_51_0.png\n",
      "[I 01:15:33 InstallContribNbextensionsApp] Up to date: /home/ubuntu/anaconda3/envs/tensorflow_p36/share/jupyter/nbextensions/latex_envs/doc/latex_env_doc_files/latex_env_doc_24_2.png\n",
      "[I 01:15:33 InstallContribNbextensionsApp] Up to date: /home/ubuntu/anaconda3/envs/tensorflow_p36/share/jupyter/nbextensions/latex_envs/doc/latex_env_doc_files/latex_env_doc_41_0.png\n",
      "[I 01:15:33 InstallContribNbextensionsApp] Up to date: /home/ubuntu/anaconda3/envs/tensorflow_p36/share/jupyter/nbextensions/latex_envs/doc/latex_env_doc_files/latex_env_doc_23_2.png\n",
      "[I 01:15:33 InstallContribNbextensionsApp] Up to date: /home/ubuntu/anaconda3/envs/tensorflow_p36/share/jupyter/nbextensions/latex_envs/doc/latex_env_doc_files/latex_env_doc_49_0.png\n",
      "[I 01:15:33 InstallContribNbextensionsApp] Up to date: /home/ubuntu/anaconda3/envs/tensorflow_p36/share/jupyter/nbextensions/latex_envs/doc/latex_env_doc_files/latex_env_doc_44_0.png\n",
      "[I 01:15:33 InstallContribNbextensionsApp] Up to date: /home/ubuntu/anaconda3/envs/tensorflow_p36/share/jupyter/nbextensions/latex_envs/doc/latex_env_doc_files/latex_env_doc_46_0.png\n",
      "[I 01:15:33 InstallContribNbextensionsApp] Up to date: /home/ubuntu/anaconda3/envs/tensorflow_p36/share/jupyter/nbextensions/latex_envs/doc/latex_env_doc_files/latex_env_doc_48_0.png\n",
      "[I 01:15:33 InstallContribNbextensionsApp] Up to date: /home/ubuntu/anaconda3/envs/tensorflow_p36/share/jupyter/nbextensions/latex_envs/doc/latex_env_doc_files/latex_env_doc_43_0.png\n",
      "[I 01:15:33 InstallContribNbextensionsApp] Up to date: /home/ubuntu/anaconda3/envs/tensorflow_p36/share/jupyter/nbextensions/latex_envs/doc/latex_env_doc_files/latex_env_doc_27_2.png\n",
      "[I 01:15:33 InstallContribNbextensionsApp] Up to date: /home/ubuntu/anaconda3/envs/tensorflow_p36/share/jupyter/nbextensions/latex_envs/doc/latex_env_doc_files/latex_env_doc_26_2.png\n",
      "[I 01:15:33 InstallContribNbextensionsApp] Up to date: /home/ubuntu/anaconda3/envs/tensorflow_p36/share/jupyter/nbextensions/latex_envs/doc/latex_env_doc_files/latex_env_doc_52_0.png\n",
      "[I 01:15:33 InstallContribNbextensionsApp] - Validating: \u001b[32mOK\u001b[0m\n",
      "[I 01:15:33 InstallContribNbextensionsApp] Installing jupyter_contrib_nbextensions items to config in /home/ubuntu/anaconda3/envs/tensorflow_p36/etc/jupyter\n",
      "Enabling: jupyter_nbextensions_configurator\n",
      "- Writing config: /home/ubuntu/anaconda3/envs/tensorflow_p36/etc/jupyter\n",
      "    - Validating...\n",
      "      jupyter_nbextensions_configurator 0.4.0 \u001b[32mOK\u001b[0m\n",
      "Enabling notebook nbextension nbextensions_configurator/config_menu/main...\n",
      "Enabling tree nbextension nbextensions_configurator/tree_tab/main...\n",
      "[I 01:15:33 InstallContribNbextensionsApp] Enabling notebook extension contrib_nbextensions_help_item/main...\n",
      "[I 01:15:33 InstallContribNbextensionsApp]       - Validating: \u001b[32mOK\u001b[0m\n",
      "[I 01:15:33 InstallContribNbextensionsApp] - Editing config: /home/ubuntu/anaconda3/envs/tensorflow_p36/etc/jupyter/jupyter_nbconvert_config.json\n",
      "[I 01:15:33 InstallContribNbextensionsApp] --  Configuring nbconvert template path\n",
      "[I 01:15:33 InstallContribNbextensionsApp] --  Configuring nbconvert preprocessors\n",
      "[I 01:15:33 InstallContribNbextensionsApp] - Writing config: /home/ubuntu/anaconda3/envs/tensorflow_p36/etc/jupyter/jupyter_nbconvert_config.json\n",
      "[I 01:15:33 InstallContribNbextensionsApp] --  Writing updated config file /home/ubuntu/anaconda3/envs/tensorflow_p36/etc/jupyter/jupyter_nbconvert_config.json\n",
      "\n"
     ]
    },
    {
     "name": "stdout",
     "output_type": "stream",
     "text": [
      "done\n"
     ]
    }
   ],
   "source": [
    "!conda install -c conda-forge jupyter_contrib_nbextensions -y"
   ]
  },
  {
   "cell_type": "code",
   "execution_count": 47,
   "metadata": {},
   "outputs": [
    {
     "name": "stdout",
     "output_type": "stream",
     "text": [
      "Enabling notebook extension toc2/main...\r\n",
      "      - Validating: \u001b[32mOK\u001b[0m\r\n"
     ]
    }
   ],
   "source": [
    "!jupyter nbextension enable toc2/main"
   ]
  },
  {
   "cell_type": "code",
   "execution_count": 30,
   "metadata": {},
   "outputs": [
    {
     "name": "stdout",
     "output_type": "stream",
     "text": [
      "Step   0 loss 97.542419434\n",
      "Step   1 loss 32.184158325\n",
      "Step   2 loss 31.059148788\n",
      "Step   3 loss 30.073652267\n",
      "Step   4 loss 28.751443863\n",
      "Step   5 loss 28.019514084\n",
      "Step   6 loss 27.574556351\n",
      "Step   7 loss 27.251935959\n",
      "Step   8 loss 27.024276733\n",
      "Step   9 loss 26.863996506\n",
      "Step  10 loss 26.753099442\n",
      "Step  11 loss 26.676715851\n",
      "Step  12 loss 26.622249603\n",
      "Step  13 loss 26.582139969\n",
      "Step  14 loss 26.552206039\n",
      "Step  15 loss 26.529737473\n",
      "Step  16 loss 26.512924194\n",
      "Step  17 loss 26.500053406\n",
      "Step  18 loss 26.490005493\n",
      "Step  19 loss 26.481859207\n",
      "Times: min: 45.80, median: 46.06, mean: 94.61\n"
     ]
    }
   ],
   "source": [
    "losses_adam, vlosses_adam, model = kfac_lib.train(iters=20, kfac=False, print_interval=1)\n",
    "u.summarize_time()"
   ]
  },
  {
   "cell_type": "code",
   "execution_count": 23,
   "metadata": {},
   "outputs": [],
   "source": [
    "from torch.autograd import Variable"
   ]
  },
  {
   "cell_type": "code",
   "execution_count": 26,
   "metadata": {},
   "outputs": [],
   "source": [
    "import torch\n",
    "a = Variable(torch.ones((10)))"
   ]
  },
  {
   "cell_type": "code",
   "execution_count": 28,
   "metadata": {},
   "outputs": [],
   "source": [
    "a.register_hook?"
   ]
  },
  {
   "cell_type": "markdown",
   "metadata": {},
   "source": [
    "# Long run"
   ]
  },
  {
   "cell_type": "markdown",
   "metadata": {},
   "source": [
    "python run_experiments.py"
   ]
  },
  {
   "cell_type": "code",
   "execution_count": 109,
   "metadata": {},
   "outputs": [
    {
     "data": {
      "text/plain": [
       "<matplotlib.figure.Figure at 0x7fb2c206bcc0>"
      ]
     },
     "metadata": {},
     "output_type": "display_data"
    },
    {
     "data": {
      "image/png": "[encoded data removed]",
      "text/plain": [
       "<matplotlib.figure.Figure at 0x7fb2c42b1e10>"
      ]
     },
     "metadata": {},
     "output_type": "display_data"
    }
   ],
   "source": [
    "def plotit(fn, label, subsample=1):\n",
    "  vals = np.loadtxt('data/'+fn+\".csv\", delimiter=\",\")\n",
    "  vals = vals[::subsample]\n",
    "  plt.plot(vals, label=label)\n",
    "  \n",
    "import numpy as np\n",
    "import matplotlib.pyplot as plt\n",
    "\n",
    "plt.figure()\n",
    "plotit('losses_sgd_kfac', 'kfac')\n",
    "plotit('losses_sgd', 'sgd', 4)\n",
    "plotit('losses_adam', 'adam', 4)\n",
    "\n",
    "plt.xlabel('time')\n",
    "plt.ylabel('loss')\n",
    "plt.title('train loss')\n",
    "\n",
    "plt.legend()\n",
    "plt.show()"
   ]
  },
  {
   "cell_type": "code",
   "execution_count": 110,
   "metadata": {},
   "outputs": [
    {
     "data": {
      "image/png": "[encoded data removed]",
      "text/plain": [
       "<matplotlib.figure.Figure at 0x7fb2c1fdc0b8>"
      ]
     },
     "metadata": {},
     "output_type": "display_data"
    }
   ],
   "source": [
    "plt.figure()\n",
    "plotit('vlosses_sgd_kfac', 'kfac')\n",
    "plotit('vlosses_sgd', 'sgd', 4)\n",
    "plotit('vlosses_adam', 'adam', 4)\n",
    "\n",
    "plt.xlabel('time')\n",
    "plt.ylabel('loss')\n",
    "plt.title('test loss')\n",
    "\n",
    "plt.legend()\n",
    "plt.show()"
   ]
  },
  {
   "cell_type": "markdown",
   "metadata": {},
   "source": [
    "- final test loss is higher for KFAC (8.48 Adam vs 9.4 KFAC)\n",
    "- KFAC takes 100x less iteration\n",
    "- KFAC takes 25x less wall-clock time"
   ]
  },
  {
   "cell_type": "markdown",
   "metadata": {},
   "source": [
    "# Line-search"
   ]
  },
  {
   "cell_type": "code",
   "execution_count": 18,
   "metadata": {},
   "outputs": [],
   "source": [
    "# globals: train_data, model\n",
    "def copy_parameters():\n",
    "    original_param_data_list = []\n",
    "    for p in model.parameters():\n",
    "        param_data = p.data.new(p.size())\n",
    "        param_data.copy_(p.data)\n",
    "        original_param_data_list.append(param_data)\n",
    "    return original_param_data_list\n",
    "\n",
    "def reset_parameters():\n",
    "    original_param_data_list = []\n",
    "    for current_param, param0 in zip(model.parameters(), parameters0):\n",
    "        current_param.data.copy_(param0)\n",
    "\n",
    "def zero_grad():\n",
    "    for p in model.parameters():\n",
    "        if p.grad is not None:\n",
    "            p.grad.detach_()\n",
    "            p.grad.zero_()\n",
    "            \n",
    "def compute_loss():\n",
    "    error = model(train_data)-train_data\n",
    "    return torch.sum(error*error).detach().cpu().numpy()/2/dsize\n",
    "\n",
    "def advance(lr, layer_idx=-1):\n",
    "    \"\"\"Advances model parameters in direction of gradient by fraction lr\"\"\"\n",
    "    params = list(model.parameters())\n",
    "    if layer_idx == -1:\n",
    "        pass\n",
    "    elif isinstance(layer_idx, collections.Iterable):\n",
    "        params = [params[k] for k in layer_idx]\n",
    "    else:\n",
    "        params = [params[layer_idx]]\n",
    "    for p in params:\n",
    "        p.data.add_(lr, p.grad.data)\n",
    "        #p.data.copy_(p.data + lr*p.grad.data)\n",
    "        \n",
    "dsize=10000\n",
    "dtype=np.float32\n",
    "fs = [dsize, 28*28, 1024, 1024, 1024, 196, 1024, 1024, 1024, 28*28]\n",
    "n = len(fs) - 2   # number of matmuls\n",
    "\n",
    "images = u.get_mnist_images()\n",
    "train_data0 = images[:, :dsize].astype(dtype)\n",
    "train_data = torch.from_numpy(train_data0).cuda()"
   ]
  },
  {
   "cell_type": "code",
   "execution_count": 44,
   "metadata": {},
   "outputs": [
    {
     "name": "stdout",
     "output_type": "stream",
     "text": [
      "333.07138 16.215998 0.003562413\n",
      "333.11588 213.80965 0.0054814345\n",
      "332.8337 317.73743 0.01835288\n",
      "331.43625 332.5502 -0.017879274\n",
      "331.50504 333.22778 0.011754902\n",
      "323.35406 333.33163 -8.210582e-05\n",
      "292.7636 333.33325 -0.000106892345\n",
      "333.33334 333.33334 0.0\n",
      "Step   0 loss 97.542419434\n",
      "333.07138 16.459383 0.004446621\n",
      "333.11588 214.2757 0.0043577813\n",
      "332.8337 317.4351 0.019629562\n",
      "331.43625 332.55252 0.0029117898\n",
      "331.50504 333.20096 -0.14913012\n",
      "323.35406 333.33112 -0.0022334666\n",
      "292.7636 333.33322 -0.0005690639\n",
      "333.33334 333.33334 0.0\n",
      "Step   1 loss 97.542419434\n",
      "333.22577 20.615538 0.00080219563\n",
      "333.20184 240.48346 0.0075333323\n",
      "332.861 322.14603 0.023042805\n",
      "331.46686 332.59506 0.022067953\n",
      "331.4227 332.9161 -0.61164653\n",
      "323.35437 333.29144 0.058548294\n",
      "292.7667 333.33267 -0.0036975553\n",
      "333.33334 333.33224 0.0\n",
      "Step   2 loss 62.600799561\n",
      "333.30945 41.07547 -0.004107486\n",
      "333.18222 295.42734 0.057969157\n",
      "332.77432 327.06195 0.1961581\n",
      "329.5681 332.81116 0.5207624\n",
      "331.42923 332.6697 -0.32648948\n",
      "323.30383 332.04117 0.13922429\n",
      "292.77258 333.10284 0.008895822\n",
      "333.33334 332.04373 0.0\n",
      "Step   3 loss 41.328300476\n",
      "333.02896 57.17275 0.031110782\n",
      "330.99698 320.23523 -0.06552468\n",
      "332.3125 326.5971 0.50337833\n",
      "321.28827 331.73288 -0.18800697\n",
      "330.45428 299.13345 0.22861871\n",
      "323.30258 352.84363 0.0828446\n",
      "292.83694 74.02492 67.13011\n",
      "333.33334 1.7020997 0.0\n",
      "Step   4 loss 32.074535370\n",
      "326.2587 67.4182 0.0548551\n",
      "325.8595 331.40793 -0.099907406\n",
      "328.31104 333.08817 0.03449688\n",
      "263.16907 332.62927 0.030551638\n",
      "328.4626 283.98676 0.5625572\n",
      "322.6115 329.22974 0.15413994\n",
      "299.19046 327.12335 -0.77700406\n",
      "333.33334 263.01996 0.0\n",
      "Step   5 loss 45.777751923\n",
      "301.58908 161.15529 0.03970612\n",
      "162.20438 325.70532 -0.14903651\n",
      "314.58707 329.217 0.06140153\n",
      "217.95558 332.04678 -0.20634902\n",
      "83.72818 289.6322 0.28288373\n",
      "53.546856 193.87975 0.5362382\n",
      "299.051 276.0974 -0.33063042\n",
      "333.33334 129.38788 0.0\n",
      "Step   6 loss 53.924335480\n",
      "260.43625 220.94667 0.06898944\n",
      "120.81748 324.43427 0.57349825\n",
      "303.20618 329.57315 0.056381498\n",
      "156.11687 332.15692 -0.27237597\n",
      "66.61659 279.03607 0.9671493\n",
      "37.157803 196.52379 0.31224027\n",
      "116.23278 272.11032 -1.6438121\n",
      "333.33334 6.5598803 0.0\n",
      "Step   7 loss 52.908893585\n",
      "241.61098 244.99051 0.067595914\n",
      "115.65261 314.65814 -0.2176816\n",
      "297.75235 324.05905 -0.03211175\n",
      "107.38775 331.8643 -0.09408073\n",
      "32.205933 253.8663 0.31978267\n",
      "37.148804 192.35835 -0.39909193\n",
      "97.63619 270.65335 -0.55330706\n",
      "333.33334 7.4939814 0.0\n",
      "Step   8 loss 44.781101227\n",
      "191.18143 272.39917 -0.08039727\n",
      "135.98413 315.79596 0.18241505\n",
      "292.81708 323.28177 -0.10206771\n",
      "142.80821 330.70486 0.23259751\n",
      "26.829575 251.83907 -0.34988382\n",
      "39.00239 183.86469 1.4251118\n",
      "98.21653 272.04956 -0.29449794\n",
      "333.33334 6.4557652 0.0\n",
      "Step   9 loss 37.471977234\n",
      "Times: min: 512.24, median: 517.74, mean: 635.51\n",
      "35.115584375\n"
     ]
    }
   ],
   "source": [
    "dsize=10000\n",
    "losses_adam, vlosses_adam, model, optimizer = kfac_lib.train(iters=10, kfac=True, print_interval=1)\n",
    "lr=0.2\n",
    "parameters0=copy_parameters()\n",
    "u.summarize_time()\n",
    "print(compute_loss())"
   ]
  },
  {
   "cell_type": "code",
   "execution_count": 21,
   "metadata": {},
   "outputs": [
    {
     "name": "stdout",
     "output_type": "stream",
     "text": [
      "35.115584375\n",
      "32.303740625\n"
     ]
    }
   ],
   "source": [
    "reset_parameters()\n",
    "print(compute_loss())\n",
    "optimizer.step()\n",
    "print(compute_loss())"
   ]
  },
  {
   "cell_type": "code",
   "execution_count": 142,
   "metadata": {},
   "outputs": [
    {
     "name": "stdout",
     "output_type": "stream",
     "text": [
      "35.115584375\n",
      "32.303740625\n"
     ]
    }
   ],
   "source": [
    "reset_parameters()\n",
    "print(compute_loss())\n",
    "advance(-0.2, -1)\n",
    "print(compute_loss())"
   ]
  },
  {
   "cell_type": "code",
   "execution_count": 118,
   "metadata": {},
   "outputs": [
    {
     "name": "stdout",
     "output_type": "stream",
     "text": [
      "32.25153125 29\n"
     ]
    },
    {
     "data": {
      "image/png": "[encoded data removed]",
      "text/plain": [
       "<Figure size 432x288 with 1 Axes>"
      ]
     },
     "metadata": {},
     "output_type": "display_data"
    }
   ],
   "source": [
    "# update both\n",
    "reset_parameters()\n",
    "vals = []\n",
    "n=100\n",
    "lr=0.2\n",
    "for i in range(n):\n",
    "    advance(-4*lr/n, -1)\n",
    "    vals.append(compute_loss())\n",
    "    \n",
    "import matplotlib.pyplot as plt\n",
    "plt.plot(vals)\n",
    "print(min(vals), np.argmin(vals))"
   ]
  },
  {
   "cell_type": "code",
   "execution_count": 119,
   "metadata": {},
   "outputs": [
    {
     "name": "stdout",
     "output_type": "stream",
     "text": [
      "32.78886875 61\n"
     ]
    },
    {
     "data": {
      "image/png": "[encoded data removed]",
      "text/plain": [
       "<Figure size 432x288 with 1 Axes>"
      ]
     },
     "metadata": {},
     "output_type": "display_data"
    }
   ],
   "source": [
    "# update even\n",
    "reset_parameters()\n",
    "vals = []\n",
    "n=100\n",
    "lr=0.2\n",
    "for i in range(n):\n",
    "    advance(-4*lr/n, [0, 2, 4, 6])\n",
    "    vals.append(compute_loss())\n",
    "    \n",
    "plt.plot(vals)\n",
    "print(min(vals), np.argmin(vals))"
   ]
  },
  {
   "cell_type": "code",
   "execution_count": 120,
   "metadata": {},
   "outputs": [
    {
     "name": "stdout",
     "output_type": "stream",
     "text": [
      "32.172759375 57\n"
     ]
    },
    {
     "data": {
      "image/png": "[encoded data removed]",
      "text/plain": [
       "<Figure size 432x288 with 1 Axes>"
      ]
     },
     "metadata": {},
     "output_type": "display_data"
    }
   ],
   "source": [
    "# update odd\n",
    "reset_parameters()\n",
    "vals = []\n",
    "n=100\n",
    "lr=0.2\n",
    "for i in range(n):\n",
    "    advance(-4*lr/n, [1, 3, 5, 7])\n",
    "    vals.append(compute_loss())\n",
    "    \n",
    "plt.plot(vals)\n",
    "print(min(vals), np.argmin(vals))"
   ]
  },
  {
   "cell_type": "markdown",
   "metadata": {},
   "source": [
    "## Per-layer loss curves"
   ]
  },
  {
   "cell_type": "code",
   "execution_count": 143,
   "metadata": {},
   "outputs": [
    {
     "data": {
      "image/png": "[encoded data removed]",
      "text/plain": [
       "<Figure size 432x288 with 1 Axes>"
      ]
     },
     "metadata": {},
     "output_type": "display_data"
    }
   ],
   "source": [
    "n = 8\n",
    "num_points=20\n",
    "val_array = []\n",
    "for layer_idx in range(n):\n",
    "    vals = []\n",
    "    reset_parameters()\n",
    "    for i in range(num_points):\n",
    "        error = model(train_data)-train_data\n",
    "        vals.append(compute_loss())\n",
    "        advance(-8*lr/num_points, layer_idx)\n",
    "    plt.plot(vals)\n",
    "    val_array.append(vals)\n",
    "reset_parameters()"
   ]
  },
  {
   "cell_type": "code",
   "execution_count": 144,
   "metadata": {},
   "outputs": [
    {
     "name": "stdout",
     "output_type": "stream",
     "text": [
      "35.115584375\n",
      "\n",
      "0 343.39893\n",
      "1 805.7693\n",
      "2 592.3137\n",
      "3 263.5462\n",
      "4 93.90721\n",
      "5 239.44008\n",
      "6 317.31122\n",
      "7 204.03316\n"
     ]
    }
   ],
   "source": [
    "print(compute_loss())\n",
    "print()\n",
    "for i,param in enumerate(model.parameters()):\n",
    "    print(i, torch.norm(param.grad).detach().cpu().numpy())"
   ]
  },
  {
   "cell_type": "code",
   "execution_count": 103,
   "metadata": {},
   "outputs": [
    {
     "data": {
      "text/plain": [
       "1.6"
      ]
     },
     "execution_count": 103,
     "metadata": {},
     "output_type": "execute_result"
    }
   ],
   "source": [
    "8*lr"
   ]
  },
  {
   "cell_type": "code",
   "execution_count": 104,
   "metadata": {},
   "outputs": [
    {
     "data": {
      "image/png": "[encoded data removed]",
      "text/plain": [
       "<Figure size 432x288 with 1 Axes>"
      ]
     },
     "metadata": {},
     "output_type": "display_data"
    }
   ],
   "source": [
    "vals = []\n",
    "reset_parameters()\n",
    "position = 0\n",
    "xs = []\n",
    "ys = []\n",
    "for i in range(num_points):\n",
    "    xs.append(position)\n",
    "    error = model(train_data)-train_data\n",
    "    ys.append(compute_loss())\n",
    "    position-=2*lr/num_points\n",
    "    advance(-2*lr/num_points, 7)\n",
    "plt.plot(xs,ys)\n",
    "reset_parameters()"
   ]
  },
  {
   "cell_type": "markdown",
   "metadata": {},
   "source": [
    "## Predicted curves"
   ]
  },
  {
   "cell_type": "markdown",
   "metadata": {},
   "source": [
    "Sanity check, compute gradient manually, compare to grad"
   ]
  },
  {
   "cell_type": "code",
   "execution_count": 22,
   "metadata": {},
   "outputs": [],
   "source": [
    "all_params = list(model.parameters())"
   ]
  },
  {
   "cell_type": "code",
   "execution_count": 23,
   "metadata": {},
   "outputs": [
    {
     "data": {
      "text/plain": [
       "tensor([[-0.0804, -0.0025, -0.0008,  ..., -0.0196,  0.0151,  0.0230],\n",
       "        [ 0.0763, -0.0076, -0.0008,  ...,  0.0334,  0.0172,  0.0294],\n",
       "        [ 0.0370, -0.0068,  0.0081,  ...,  0.0792,  0.0704,  0.0148],\n",
       "        ...,\n",
       "        [-0.0071,  0.0030, -0.0007,  ...,  0.0024, -0.0247,  0.0536],\n",
       "        [ 0.0041,  0.0004,  0.0048,  ..., -0.0041, -0.0577, -0.0389],\n",
       "        [ 0.0125,  0.0034,  0.0097,  ...,  0.0688,  0.0830, -0.0124]],\n",
       "       device='cuda:0')"
      ]
     },
     "execution_count": 23,
     "metadata": {},
     "output_type": "execute_result"
    }
   ],
   "source": [
    "all_params[7].grad"
   ]
  },
  {
   "cell_type": "code",
   "execution_count": 228,
   "metadata": {},
   "outputs": [
    {
     "data": {
      "text/plain": [
       "[None, None, None, None, None, None, None, None]"
      ]
     },
     "execution_count": 228,
     "metadata": {},
     "output_type": "execute_result"
    }
   ],
   "source": [
    "kfac_lib.B_saved"
   ]
  },
  {
   "cell_type": "code",
   "execution_count": 156,
   "metadata": {},
   "outputs": [],
   "source": [
    "A = kfac_lib.A_saved[7]\n",
    "B = kfac_lib.BB_saved[0].cuda()\n",
    "covA = kfac_lib.covA_saved[7]\n",
    "covB = kfac_lib.covB_saved[7]\n",
    "grad = B@A.t()\n",
    "grad_pre = inv(covB) @ grad @ inv(covA)"
   ]
  },
  {
   "cell_type": "code",
   "execution_count": 157,
   "metadata": {},
   "outputs": [
    {
     "data": {
      "text/plain": [
       "tensor([[-0.0050,  0.0086,  0.0053,  ..., -0.0068,  0.0127, -0.0055],\n",
       "        [-0.0069, -0.0022,  0.0021,  ..., -0.0055,  0.0014,  0.0130],\n",
       "        [-0.0035,  0.0145, -0.0003,  ...,  0.0001, -0.0082, -0.0018],\n",
       "        ...,\n",
       "        [ 0.0015, -0.0013, -0.0020,  ...,  0.0015, -0.0019,  0.0074],\n",
       "        [-0.0037,  0.0001,  0.0126,  ..., -0.0116, -0.0030, -0.0075],\n",
       "        [ 0.0076,  0.0005,  0.0051,  ...,  0.0037,  0.0013,  0.0003]],\n",
       "       device='cuda:0')"
      ]
     },
     "execution_count": 157,
     "metadata": {},
     "output_type": "execute_result"
    }
   ],
   "source": [
    "grad_pre"
   ]
  },
  {
   "cell_type": "code",
   "execution_count": 208,
   "metadata": {},
   "outputs": [
    {
     "data": {
      "text/plain": [
       "tensor([[-0.0804, -0.0025, -0.0008,  ..., -0.0196,  0.0151,  0.0230],\n",
       "        [ 0.0763, -0.0076, -0.0008,  ...,  0.0334,  0.0172,  0.0294],\n",
       "        [ 0.0370, -0.0068,  0.0081,  ...,  0.0792,  0.0704,  0.0148],\n",
       "        ...,\n",
       "        [-0.0071,  0.0030, -0.0007,  ...,  0.0024, -0.0247,  0.0536],\n",
       "        [ 0.0041,  0.0004,  0.0048,  ..., -0.0041, -0.0577, -0.0389],\n",
       "        [ 0.0125,  0.0034,  0.0097,  ...,  0.0688,  0.0830, -0.0124]],\n",
       "       device='cuda:0')"
      ]
     },
     "execution_count": 208,
     "metadata": {},
     "output_type": "execute_result"
    }
   ],
   "source": [
    "all_params[7].grad"
   ]
  },
  {
   "cell_type": "code",
   "execution_count": 171,
   "metadata": {},
   "outputs": [],
   "source": [
    "grad = B@A.t()\n",
    "term1=torch.sum((covB@grad_pre@covA)*grad).cpu().numpy()\n",
    "term2=torch.sum(grad*grad_pre).cpu().numpy()\n",
    "loss0 = compute_loss()"
   ]
  },
  {
   "cell_type": "code",
   "execution_count": 172,
   "metadata": {},
   "outputs": [
    {
     "data": {
      "text/plain": [
       "(array(314.05475, dtype=float32),\n",
       " array(14.792625, dtype=float32),\n",
       " 6.74078125,\n",
       " -0.04710206)"
      ]
     },
     "execution_count": 172,
     "metadata": {},
     "output_type": "execute_result"
    }
   ],
   "source": [
    "term1, term2, loss0, -term2/term1"
   ]
  },
  {
   "cell_type": "code",
   "execution_count": 173,
   "metadata": {},
   "outputs": [],
   "source": [
    "def curve_eval(eps):\n",
    "    return loss0+0.5*eps*term1*eps+eps*term2"
   ]
  },
  {
   "cell_type": "code",
   "execution_count": 174,
   "metadata": {},
   "outputs": [
    {
     "data": {
      "text/plain": [
       "-0.04710206"
      ]
     },
     "execution_count": 174,
     "metadata": {},
     "output_type": "execute_result"
    }
   ],
   "source": [
    "-term2/term1"
   ]
  },
  {
   "cell_type": "code",
   "execution_count": 175,
   "metadata": {},
   "outputs": [
    {
     "data": {
      "text/plain": [
       "[<matplotlib.lines.Line2D at 0x7fbbe0733fd0>]"
      ]
     },
     "execution_count": 175,
     "metadata": {},
     "output_type": "execute_result"
    },
    {
     "data": {
      "image/png": "[encoded data removed]",
      "text/plain": [
       "<Figure size 432x288 with 1 Axes>"
      ]
     },
     "metadata": {},
     "output_type": "display_data"
    }
   ],
   "source": [
    "num_points = 100\n",
    "cutoff = term2/term1\n",
    "xs2=np.arange(0, -cutoff, -cutoff/num_points)\n",
    "ys2=[curve_eval(x) for x in xs2]\n",
    "plt.plot(xs2, ys2)"
   ]
  },
  {
   "cell_type": "code",
   "execution_count": null,
   "metadata": {},
   "outputs": [],
   "source": [
    "num_points = 100\n",
    "cutoff = term2/term1\n",
    "xs2=np.arange(0, -cutoff, -cutoff/num_points)\n",
    "ys2=[curve_eval(x) for x in xs2]\n",
    "plt.plot(xs2, ys2)"
   ]
  },
  {
   "cell_type": "markdown",
   "metadata": {},
   "source": [
    "## Try with linear losses"
   ]
  },
  {
   "cell_type": "code",
   "execution_count": 263,
   "metadata": {},
   "outputs": [
    {
     "name": "stdout",
     "output_type": "stream",
     "text": [
      "Step   0 loss 66.862487793\n",
      "Step   1 loss 66.862487793\n",
      "Step   2 loss 52.893703461\n",
      "Step   3 loss 41.948528290\n",
      "Step   4 loss 31.875167847\n",
      "Step   5 loss 23.392860413\n",
      "Step   6 loss 17.248321533\n",
      "Step   7 loss 12.925563812\n",
      "Step   8 loss 9.896621704\n",
      "Step   9 loss 7.716422558\n",
      "Times: min: 533.94, median: 551.49, mean: 660.07\n",
      "6.125259375\n"
     ]
    }
   ],
   "source": [
    "dsize=10000\n",
    "def identity(x): return x\n",
    "\n",
    "lr = 0.02\n",
    "losses_adam, vlosses_adam, model, optimizer = kfac_lib.train(iters=10, kfac=True, nonlin=identity, print_interval=1, lr=lr)\n",
    "\n",
    "parameters0=copy_parameters()\n",
    "u.summarize_time()\n",
    "print(compute_loss())"
   ]
  },
  {
   "cell_type": "code",
   "execution_count": 240,
   "metadata": {},
   "outputs": [
    {
     "name": "stdout",
     "output_type": "stream",
     "text": [
      "Step   0 loss 66.862487793\n",
      "Step   1 loss 66.862487793\n",
      "Step   2 loss 52.972522736\n",
      "Step   3 loss 42.015956879\n",
      "Step   4 loss 31.953170776\n",
      "Step   5 loss 23.487474442\n",
      "Step   6 loss 17.305208206\n",
      "Step   7 loss 12.957129478\n",
      "Step   8 loss 9.876223564\n",
      "Step   9 loss 7.697070122\n",
      "Times: min: 528.46, median: 549.88, mean: 657.01\n",
      "6.103077734375\n"
     ]
    }
   ],
   "source": [
    "dsize=10000\n",
    "def identity(x): return x\n",
    "\n",
    "lr = 0.02\n",
    "losses_adam, vlosses_adam, model, optimizer = kfac_lib.train(iters=10, kfac=True, nonlin=identity, print_interval=1, lr=lr)\n",
    "\n",
    "parameters0=copy_parameters()\n",
    "u.summarize_time()\n",
    "print(compute_loss())"
   ]
  },
  {
   "cell_type": "code",
   "execution_count": 264,
   "metadata": {},
   "outputs": [],
   "source": [
    "all_params = list(model.parameters())\n",
    "loss0 = compute_loss()\n",
    "\n",
    "A = kfac_lib.A_saved[7]\n",
    "B = kfac_lib.BB_saved[0].cuda()\n",
    "covA = kfac_lib.covA_saved[7]\n",
    "covB = kfac_lib.covB_saved[7]\n",
    "\n",
    "grad = B@A.t()\n",
    "grad_pre = inv(covB, lambda_=1e-3) @ grad @ inv(covA, lambda_=1e-3)\n",
    "\n",
    "term1=torch.sum((covB@grad_pre@covA)*grad_pre).cpu().numpy()\n",
    "term2=torch.sum(grad*grad_pre).cpu().numpy()\n",
    "loss0 = compute_loss()"
   ]
  },
  {
   "cell_type": "code",
   "execution_count": 265,
   "metadata": {},
   "outputs": [
    {
     "data": {
      "text/plain": [
       "tensor([[1.0062, 0.9997, 1.0035,  ..., 0.9994, 0.9991, 0.9980],\n",
       "        [1.0168, 0.9545, 0.9020,  ..., 0.9927, 0.9905, 1.0024],\n",
       "        [0.9949, 1.0009, 0.9945,  ..., 0.9964, 0.9990, 1.0503],\n",
       "        ...,\n",
       "        [0.9978, 0.9761, 0.9954,  ..., 0.9974, 0.9989, 1.0000],\n",
       "        [1.0223, 1.0173, 1.0012,  ..., 0.9965, 1.0024, 1.0005],\n",
       "        [0.9973, 0.9973, 0.9985,  ..., 1.0019, 0.9972, 1.0041]],\n",
       "       device='cuda:0')"
      ]
     },
     "execution_count": 265,
     "metadata": {},
     "output_type": "execute_result"
    }
   ],
   "source": [
    "grad_pre/all_params[7].grad"
   ]
  },
  {
   "cell_type": "code",
   "execution_count": 266,
   "metadata": {},
   "outputs": [
    {
     "data": {
      "text/plain": [
       "(array(13.622598, dtype=float32),\n",
       " array(13.704137, dtype=float32),\n",
       " 6.125259375,\n",
       " -1.0059856)"
      ]
     },
     "execution_count": 266,
     "metadata": {},
     "output_type": "execute_result"
    }
   ],
   "source": [
    "term1, term2, loss0, -term2/term1"
   ]
  },
  {
   "cell_type": "markdown",
   "metadata": {},
   "source": [
    "### Observed curve on last layer"
   ]
  },
  {
   "cell_type": "code",
   "execution_count": 243,
   "metadata": {},
   "outputs": [
    {
     "data": {
      "text/plain": [
       "1.0211469"
      ]
     },
     "execution_count": 243,
     "metadata": {},
     "output_type": "execute_result"
    }
   ],
   "source": [
    "max_range"
   ]
  },
  {
   "cell_type": "code",
   "execution_count": 267,
   "metadata": {},
   "outputs": [
    {
     "data": {
      "image/png": "[encoded data removed]",
      "text/plain": [
       "<Figure size 432x288 with 1 Axes>"
      ]
     },
     "metadata": {},
     "output_type": "display_data"
    }
   ],
   "source": [
    "num_points=100\n",
    "vals = []\n",
    "reset_parameters()\n",
    "position = 0\n",
    "xs = []\n",
    "ys = []\n",
    "max_range=term2/term1\n",
    "increment=max_range/num_points\n",
    "for i in __builtins__.range(num_points):\n",
    "    xs.append(position)\n",
    "    ys.append(compute_loss())\n",
    "    position-=increment\n",
    "    advance(-increment, 7)\n",
    "plt.plot(xs,ys)\n",
    "reset_parameters()"
   ]
  },
  {
   "cell_type": "markdown",
   "metadata": {},
   "source": [
    "### Predicted curve on last layer"
   ]
  },
  {
   "cell_type": "code",
   "execution_count": 273,
   "metadata": {},
   "outputs": [
    {
     "data": {
      "text/plain": [
       "[<matplotlib.lines.Line2D at 0x7fbb9c745b38>]"
      ]
     },
     "execution_count": 273,
     "metadata": {},
     "output_type": "execute_result"
    },
    {
     "data": {
      "image/png": "[encoded data removed]",
      "text/plain": [
       "<Figure size 432x288 with 1 Axes>"
      ]
     },
     "metadata": {},
     "output_type": "display_data"
    }
   ],
   "source": [
    "num_points = 100\n",
    "cutoff = term2/term1\n",
    "xs2=np.arange(0, -cutoff, -cutoff/num_points)\n",
    "ys2=[curve_eval(x) for x in xs2]\n",
    "plt.plot(xs2, ys2)"
   ]
  },
  {
   "cell_type": "code",
   "execution_count": 274,
   "metadata": {},
   "outputs": [
    {
     "data": {
      "text/plain": [
       "[<matplotlib.lines.Line2D at 0x7fbb9c727080>,\n",
       " <matplotlib.lines.Line2D at 0x7fbb9c7271d0>]"
      ]
     },
     "execution_count": 274,
     "metadata": {},
     "output_type": "execute_result"
    },
    {
     "data": {
      "image/png": "[encoded data removed]",
      "text/plain": [
       "<Figure size 432x288 with 1 Axes>"
      ]
     },
     "metadata": {},
     "output_type": "display_data"
    }
   ],
   "source": [
    "plt.plot(xs, ys, xs2, ys2)"
   ]
  },
  {
   "cell_type": "code",
   "execution_count": 221,
   "metadata": {},
   "outputs": [
    {
     "data": {
      "text/plain": [
       "[<matplotlib.lines.Line2D at 0x7fbbe01277b8>,\n",
       " <matplotlib.lines.Line2D at 0x7fbbe0127978>]"
      ]
     },
     "execution_count": 221,
     "metadata": {},
     "output_type": "execute_result"
    },
    {
     "data": {
      "image/png": "[encoded data removed]",
      "text/plain": [
       "<Figure size 432x288 with 1 Axes>"
      ]
     },
     "metadata": {},
     "output_type": "display_data"
    }
   ],
   "source": [
    "plt.plot(xs, ys, xs2, ys2)"
   ]
  },
  {
   "cell_type": "markdown",
   "metadata": {},
   "source": [
    "### Tweaking"
   ]
  },
  {
   "cell_type": "code",
   "execution_count": 271,
   "metadata": {},
   "outputs": [
    {
     "data": {
      "text/plain": [
       "[<matplotlib.lines.Line2D at 0x7fbb9c81f1d0>,\n",
       " <matplotlib.lines.Line2D at 0x7fbb9c852668>]"
      ]
     },
     "execution_count": 271,
     "metadata": {},
     "output_type": "execute_result"
    },
    {
     "data": {
      "image/png": "[encoded data removed]",
      "text/plain": [
       "<Figure size 432x288 with 1 Axes>"
      ]
     },
     "metadata": {},
     "output_type": "display_data"
    }
   ],
   "source": [
    "def curve_eval2(eps):\n",
    "    return loss0+0.5*eps*term1*eps+eps*term2\n",
    "\n",
    "num_points = 100\n",
    "cutoff = term2/term1\n",
    "xs3=np.arange(0, -cutoff, -cutoff/num_points)\n",
    "ys3=[curve_eval2(x) for x in xs2]\n",
    "plt.plot(xs2, ys2)\n",
    "\n",
    "plt.plot(xs, ys, xs3, ys3)"
   ]
  },
  {
   "cell_type": "code",
   "execution_count": 272,
   "metadata": {},
   "outputs": [
    {
     "data": {
      "text/plain": [
       "[<matplotlib.lines.Line2D at 0x7fbb9c7e3d68>,\n",
       " <matplotlib.lines.Line2D at 0x7fbb9c7e3eb8>]"
      ]
     },
     "execution_count": 272,
     "metadata": {},
     "output_type": "execute_result"
    },
    {
     "data": {
      "image/png": "[encoded data removed]",
      "text/plain": [
       "<Figure size 432x288 with 1 Axes>"
      ]
     },
     "metadata": {},
     "output_type": "display_data"
    }
   ],
   "source": [
    "def curve_eval2(eps):\n",
    "    return loss0+0.5*eps*term1*eps+eps*term2\n",
    "\n",
    "num_points = 100\n",
    "cutoff = 6*term2/term1\n",
    "xs3=np.arange(0, -cutoff, -cutoff/num_points)\n",
    "ys3=[curve_eval2(x) for x in xs2]\n",
    "plt.plot(xs, ys, xs3, ys3)"
   ]
  },
  {
   "cell_type": "markdown",
   "metadata": {},
   "source": [
    "# Scratch"
   ]
  },
  {
   "cell_type": "code",
   "execution_count": 4,
   "metadata": {},
   "outputs": [
    {
     "name": "stdout",
     "output_type": "stream",
     "text": [
      "WARNING:tensorflow:From /ncluster/newton/util.py:1360: maybe_download (from tensorflow.contrib.learn.python.learn.datasets.base) is deprecated and will be removed in a future version.\n",
      "Instructions for updating:\n",
      "Please write your own downloading logic.\n",
      "WARNING:tensorflow:From /home/ubuntu/anaconda3/envs/tensorflow_p36/lib/python3.6/site-packages/tensorflow/contrib/learn/python/learn/datasets/base.py:252: _internal_retry.<locals>.wrap.<locals>.wrapped_fn (from tensorflow.contrib.learn.python.learn.datasets.base) is deprecated and will be removed in a future version.\n",
      "Instructions for updating:\n",
      "Please use urllib or similar directly.\n",
      "Successfully downloaded train-images-idx3-ubyte.gz 9912422 bytes.\n"
     ]
    }
   ],
   "source": [
    "images = u.get_mnist_images()"
   ]
  },
  {
   "cell_type": "code",
   "execution_count": 6,
   "metadata": {},
   "outputs": [],
   "source": [
    "im0=images"
   ]
  },
  {
   "cell_type": "code",
   "execution_count": 10,
   "metadata": {},
   "outputs": [
    {
     "data": {
      "text/plain": [
       "array([0.        , 0.        , 0.        , 0.        , 0.        ,\n",
       "       0.        , 0.        , 0.        , 0.        , 0.        ,\n",
       "       0.        , 0.        , 0.        , 0.        , 0.        ,\n",
       "       0.        , 0.        , 0.        , 0.        , 0.        ,\n",
       "       0.        , 0.        , 0.        , 0.        , 0.        ,\n",
       "       0.        , 0.        , 0.        , 0.        , 0.        ,\n",
       "       0.        , 0.        , 0.        , 0.        , 0.        ,\n",
       "       0.        , 0.        , 0.        , 0.        , 0.        ,\n",
       "       0.        , 0.        , 0.        , 0.        , 0.        ,\n",
       "       0.        , 0.        , 0.        , 0.        , 0.        ,\n",
       "       0.        , 0.        , 0.        , 0.        , 0.        ,\n",
       "       0.        , 0.        , 0.        , 0.        , 0.        ,\n",
       "       0.        , 0.        , 0.        , 0.        , 0.        ,\n",
       "       0.        , 0.        , 0.        , 0.        , 0.        ,\n",
       "       0.        , 0.        , 0.        , 0.        , 0.        ,\n",
       "       0.        , 0.        , 0.        , 0.        , 0.        ,\n",
       "       0.        , 0.        , 0.        , 0.        , 0.        ,\n",
       "       0.        , 0.        , 0.        , 0.        , 0.        ,\n",
       "       0.        , 0.        , 0.        , 0.        , 0.        ,\n",
       "       0.        , 0.        , 0.        , 0.        , 0.        ,\n",
       "       0.        , 0.        , 0.        , 0.        , 0.        ,\n",
       "       0.        , 0.        , 0.        , 0.        , 0.        ,\n",
       "       0.        , 0.        , 0.        , 0.        , 0.        ,\n",
       "       0.        , 0.        , 0.        , 0.        , 0.        ,\n",
       "       0.        , 0.        , 0.        , 0.        , 0.        ,\n",
       "       0.        , 0.        , 0.        , 0.        , 0.        ,\n",
       "       0.        , 0.        , 0.        , 0.        , 0.        ,\n",
       "       0.        , 0.        , 0.        , 0.        , 0.        ,\n",
       "       0.        , 0.        , 0.        , 0.        , 0.        ,\n",
       "       0.        , 0.        , 0.        , 0.        , 0.        ,\n",
       "       0.        , 0.        , 0.01176471, 0.07058824, 0.07058824,\n",
       "       0.07058824, 0.49411765, 0.53333336, 0.6862745 , 0.10196079,\n",
       "       0.6509804 , 1.        , 0.96862745, 0.49803922, 0.        ,\n",
       "       0.        , 0.        , 0.        , 0.        , 0.        ,\n",
       "       0.        , 0.        , 0.        , 0.        , 0.        ,\n",
       "       0.        , 0.11764706, 0.14117648, 0.36862746, 0.6039216 ,\n",
       "       0.6666667 , 0.99215686, 0.99215686, 0.99215686, 0.99215686,\n",
       "       0.99215686, 0.88235295, 0.6745098 , 0.99215686, 0.9490196 ,\n",
       "       0.7647059 , 0.2509804 , 0.        , 0.        , 0.        ,\n",
       "       0.        , 0.        , 0.        , 0.        , 0.        ,\n",
       "       0.        , 0.        , 0.        , 0.19215687, 0.93333334,\n",
       "       0.99215686, 0.99215686, 0.99215686, 0.99215686, 0.99215686,\n",
       "       0.99215686, 0.99215686, 0.99215686, 0.9843137 , 0.3647059 ,\n",
       "       0.32156864, 0.32156864, 0.21960784, 0.15294118, 0.        ,\n",
       "       0.        , 0.        , 0.        , 0.        , 0.        ,\n",
       "       0.        , 0.        , 0.        , 0.        , 0.        ,\n",
       "       0.        , 0.07058824, 0.85882354, 0.99215686, 0.99215686,\n",
       "       0.99215686, 0.99215686, 0.99215686, 0.7764706 , 0.7137255 ,\n",
       "       0.96862745, 0.94509804, 0.        , 0.        , 0.        ,\n",
       "       0.        , 0.        , 0.        , 0.        , 0.        ,\n",
       "       0.        , 0.        , 0.        , 0.        , 0.        ,\n",
       "       0.        , 0.        , 0.        , 0.        , 0.        ,\n",
       "       0.3137255 , 0.6117647 , 0.41960785, 0.99215686, 0.99215686,\n",
       "       0.8039216 , 0.04313726, 0.        , 0.16862746, 0.6039216 ,\n",
       "       0.        , 0.        , 0.        , 0.        , 0.        ,\n",
       "       0.        , 0.        , 0.        , 0.        , 0.        ,\n",
       "       0.        , 0.        , 0.        , 0.        , 0.        ,\n",
       "       0.        , 0.        , 0.        , 0.        , 0.05490196,\n",
       "       0.00392157, 0.6039216 , 0.99215686, 0.3529412 , 0.        ,\n",
       "       0.        , 0.        , 0.        , 0.        , 0.        ,\n",
       "       0.        , 0.        , 0.        , 0.        , 0.        ,\n",
       "       0.        , 0.        , 0.        , 0.        , 0.        ,\n",
       "       0.        , 0.        , 0.        , 0.        , 0.        ,\n",
       "       0.        , 0.        , 0.        , 0.        , 0.54509807,\n",
       "       0.99215686, 0.74509805, 0.00784314, 0.        , 0.        ,\n",
       "       0.        , 0.        , 0.        , 0.        , 0.        ,\n",
       "       0.        , 0.        , 0.        , 0.        , 0.        ,\n",
       "       0.        , 0.        , 0.        , 0.        , 0.        ,\n",
       "       0.        , 0.        , 0.        , 0.        , 0.        ,\n",
       "       0.        , 0.        , 0.04313726, 0.74509805, 0.99215686,\n",
       "       0.27450982, 0.        , 0.        , 0.        , 0.        ,\n",
       "       0.        , 0.        , 0.        , 0.        , 0.        ,\n",
       "       0.        , 0.        , 0.        , 0.        , 0.        ,\n",
       "       0.        , 0.        , 0.        , 0.        , 0.        ,\n",
       "       0.        , 0.        , 0.        , 0.        , 0.        ,\n",
       "       0.        , 0.13725491, 0.94509804, 0.88235295, 0.627451  ,\n",
       "       0.42352942, 0.00392157, 0.        , 0.        , 0.        ,\n",
       "       0.        , 0.        , 0.        , 0.        , 0.        ,\n",
       "       0.        , 0.        , 0.        , 0.        , 0.        ,\n",
       "       0.        , 0.        , 0.        , 0.        , 0.        ,\n",
       "       0.        , 0.        , 0.        , 0.        , 0.        ,\n",
       "       0.31764707, 0.9411765 , 0.99215686, 0.99215686, 0.46666667,\n",
       "       0.09803922, 0.        , 0.        , 0.        , 0.        ,\n",
       "       0.        , 0.        , 0.        , 0.        , 0.        ,\n",
       "       0.        , 0.        , 0.        , 0.        , 0.        ,\n",
       "       0.        , 0.        , 0.        , 0.        , 0.        ,\n",
       "       0.        , 0.        , 0.        , 0.        , 0.1764706 ,\n",
       "       0.7294118 , 0.99215686, 0.99215686, 0.5882353 , 0.10588235,\n",
       "       0.        , 0.        , 0.        , 0.        , 0.        ,\n",
       "       0.        , 0.        , 0.        , 0.        , 0.        ,\n",
       "       0.        , 0.        , 0.        , 0.        , 0.        ,\n",
       "       0.        , 0.        , 0.        , 0.        , 0.        ,\n",
       "       0.        , 0.        , 0.        , 0.0627451 , 0.3647059 ,\n",
       "       0.9882353 , 0.99215686, 0.73333335, 0.        , 0.        ,\n",
       "       0.        , 0.        , 0.        , 0.        , 0.        ,\n",
       "       0.        , 0.        , 0.        , 0.        , 0.        ,\n",
       "       0.        , 0.        , 0.        , 0.        , 0.        ,\n",
       "       0.        , 0.        , 0.        , 0.        , 0.        ,\n",
       "       0.        , 0.        , 0.        , 0.9764706 , 0.99215686,\n",
       "       0.9764706 , 0.2509804 , 0.        , 0.        , 0.        ,\n",
       "       0.        , 0.        , 0.        , 0.        , 0.        ,\n",
       "       0.        , 0.        , 0.        , 0.        , 0.        ,\n",
       "       0.        , 0.        , 0.        , 0.        , 0.        ,\n",
       "       0.        , 0.        , 0.        , 0.18039216, 0.50980395,\n",
       "       0.7176471 , 0.99215686, 0.99215686, 0.8117647 , 0.00784314,\n",
       "       0.        , 0.        , 0.        , 0.        , 0.        ,\n",
       "       0.        , 0.        , 0.        , 0.        , 0.        ,\n",
       "       0.        , 0.        , 0.        , 0.        , 0.        ,\n",
       "       0.        , 0.        , 0.        , 0.        , 0.15294118,\n",
       "       0.5803922 , 0.8980392 , 0.99215686, 0.99215686, 0.99215686,\n",
       "       0.98039216, 0.7137255 , 0.        , 0.        , 0.        ,\n",
       "       0.        , 0.        , 0.        , 0.        , 0.        ,\n",
       "       0.        , 0.        , 0.        , 0.        , 0.        ,\n",
       "       0.        , 0.        , 0.        , 0.        , 0.        ,\n",
       "       0.09411765, 0.44705883, 0.8666667 , 0.99215686, 0.99215686,\n",
       "       0.99215686, 0.99215686, 0.7882353 , 0.30588236, 0.        ,\n",
       "       0.        , 0.        , 0.        , 0.        , 0.        ,\n",
       "       0.        , 0.        , 0.        , 0.        , 0.        ,\n",
       "       0.        , 0.        , 0.        , 0.        , 0.        ,\n",
       "       0.        , 0.09019608, 0.25882354, 0.8352941 , 0.99215686,\n",
       "       0.99215686, 0.99215686, 0.99215686, 0.7764706 , 0.31764707,\n",
       "       0.00784314, 0.        , 0.        , 0.        , 0.        ,\n",
       "       0.        , 0.        , 0.        , 0.        , 0.        ,\n",
       "       0.        , 0.        , 0.        , 0.        , 0.        ,\n",
       "       0.        , 0.        , 0.07058824, 0.67058825, 0.85882354,\n",
       "       0.99215686, 0.99215686, 0.99215686, 0.99215686, 0.7647059 ,\n",
       "       0.3137255 , 0.03529412, 0.        , 0.        , 0.        ,\n",
       "       0.        , 0.        , 0.        , 0.        , 0.        ,\n",
       "       0.        , 0.        , 0.        , 0.        , 0.        ,\n",
       "       0.        , 0.        , 0.        , 0.21568628, 0.6745098 ,\n",
       "       0.8862745 , 0.99215686, 0.99215686, 0.99215686, 0.99215686,\n",
       "       0.95686275, 0.52156866, 0.04313726, 0.        , 0.        ,\n",
       "       0.        , 0.        , 0.        , 0.        , 0.        ,\n",
       "       0.        , 0.        , 0.        , 0.        , 0.        ,\n",
       "       0.        , 0.        , 0.        , 0.        , 0.        ,\n",
       "       0.        , 0.53333336, 0.99215686, 0.99215686, 0.99215686,\n",
       "       0.83137256, 0.5294118 , 0.5176471 , 0.0627451 , 0.        ,\n",
       "       0.        , 0.        , 0.        , 0.        , 0.        ,\n",
       "       0.        , 0.        , 0.        , 0.        , 0.        ,\n",
       "       0.        , 0.        , 0.        , 0.        , 0.        ,\n",
       "       0.        , 0.        , 0.        , 0.        , 0.        ,\n",
       "       0.        , 0.        , 0.        , 0.        , 0.        ,\n",
       "       0.        , 0.        , 0.        , 0.        , 0.        ,\n",
       "       0.        , 0.        , 0.        , 0.        , 0.        ,\n",
       "       0.        , 0.        , 0.        , 0.        , 0.        ,\n",
       "       0.        , 0.        , 0.        , 0.        , 0.        ,\n",
       "       0.        , 0.        , 0.        , 0.        , 0.        ,\n",
       "       0.        , 0.        , 0.        , 0.        , 0.        ,\n",
       "       0.        , 0.        , 0.        , 0.        , 0.        ,\n",
       "       0.        , 0.        , 0.        , 0.        , 0.        ,\n",
       "       0.        , 0.        , 0.        , 0.        , 0.        ,\n",
       "       0.        , 0.        , 0.        , 0.        , 0.        ,\n",
       "       0.        , 0.        , 0.        , 0.        , 0.        ,\n",
       "       0.        , 0.        , 0.        , 0.        , 0.        ,\n",
       "       0.        , 0.        , 0.        , 0.        , 0.        ,\n",
       "       0.        , 0.        , 0.        , 0.        , 0.        ,\n",
       "       0.        , 0.        , 0.        , 0.        ], dtype=float32)"
      ]
     },
     "execution_count": 10,
     "metadata": {},
     "output_type": "execute_result"
    }
   ],
   "source": [
    "images[:,0]"
   ]
  },
  {
   "cell_type": "code",
   "execution_count": 34,
   "metadata": {},
   "outputs": [],
   "source": [
    "im0=images[:,0].reshape((28,28))"
   ]
  },
  {
   "cell_type": "code",
   "execution_count": 35,
   "metadata": {},
   "outputs": [
    {
     "data": {
      "text/plain": [
       "array([0.        , 0.        , 0.        , 0.        , 0.        ,\n",
       "       0.        , 0.        , 0.        , 0.        , 0.        ,\n",
       "       0.        , 0.        , 0.        , 0.        , 0.        ,\n",
       "       0.        , 0.        , 0.        , 0.        , 0.        ,\n",
       "       0.        , 0.        , 0.        , 0.        , 0.        ,\n",
       "       0.        , 0.        , 0.        , 0.        , 0.        ,\n",
       "       0.        , 0.        , 0.        , 0.        , 0.        ,\n",
       "       0.        , 0.        , 0.        , 0.        , 0.        ,\n",
       "       0.        , 0.        , 0.        , 0.        , 0.        ,\n",
       "       0.        , 0.        , 0.        , 0.        , 0.        ,\n",
       "       0.        , 0.        , 0.        , 0.        , 0.        ,\n",
       "       0.        , 0.        , 0.        , 0.        , 0.        ,\n",
       "       0.        , 0.        , 0.        , 0.        , 0.        ,\n",
       "       0.        , 0.        , 0.        , 0.        , 0.        ,\n",
       "       0.        , 0.        , 0.        , 0.        , 0.        ,\n",
       "       0.        , 0.        , 0.        , 0.        , 0.        ,\n",
       "       0.        , 0.        , 0.        , 0.        , 0.        ,\n",
       "       0.        , 0.        , 0.        , 0.        , 0.        ,\n",
       "       0.        , 0.        , 0.        , 0.        , 0.        ,\n",
       "       0.        , 0.        , 0.        , 0.        , 0.        ,\n",
       "       0.        , 0.        , 0.        , 0.        , 0.        ,\n",
       "       0.        , 0.        , 0.        , 0.        , 0.        ,\n",
       "       0.        , 0.        , 0.        , 0.        , 0.        ,\n",
       "       0.        , 0.        , 0.        , 0.        , 0.        ,\n",
       "       0.        , 0.        , 0.        , 0.        , 0.        ,\n",
       "       0.        , 0.        , 0.2       , 0.62352943, 0.99215686,\n",
       "       0.62352943, 0.19607843, 0.        , 0.        , 0.        ,\n",
       "       0.        , 0.        , 0.        , 0.        , 0.        ,\n",
       "       0.        , 0.        , 0.        , 0.        , 0.        ,\n",
       "       0.        , 0.        , 0.        , 0.        , 0.        ,\n",
       "       0.        , 0.        , 0.        , 0.        , 0.1882353 ,\n",
       "       0.93333334, 0.9882353 , 0.9882353 , 0.9882353 , 0.92941177,\n",
       "       0.        , 0.        , 0.        , 0.        , 0.        ,\n",
       "       0.        , 0.        , 0.        , 0.        , 0.        ,\n",
       "       0.        , 0.        , 0.        , 0.        , 0.        ,\n",
       "       0.        , 0.        , 0.        , 0.        , 0.        ,\n",
       "       0.        , 0.21176471, 0.8901961 , 0.99215686, 0.9882353 ,\n",
       "       0.9372549 , 0.9137255 , 0.9882353 , 0.22352941, 0.02352941,\n",
       "       0.        , 0.        , 0.        , 0.        , 0.        ,\n",
       "       0.        , 0.        , 0.        , 0.        , 0.        ,\n",
       "       0.        , 0.        , 0.        , 0.        , 0.        ,\n",
       "       0.        , 0.        , 0.03921569, 0.23529412, 0.8784314 ,\n",
       "       0.9882353 , 0.99215686, 0.9882353 , 0.7921569 , 0.32941177,\n",
       "       0.9882353 , 0.99215686, 0.47843137, 0.        , 0.        ,\n",
       "       0.        , 0.        , 0.        , 0.        , 0.        ,\n",
       "       0.        , 0.        , 0.        , 0.        , 0.        ,\n",
       "       0.        , 0.        , 0.        , 0.        , 0.        ,\n",
       "       0.6392157 , 0.9882353 , 0.9882353 , 0.9882353 , 0.99215686,\n",
       "       0.9882353 , 0.9882353 , 0.3764706 , 0.7411765 , 0.99215686,\n",
       "       0.654902  , 0.        , 0.        , 0.        , 0.        ,\n",
       "       0.        , 0.        , 0.        , 0.        , 0.        ,\n",
       "       0.        , 0.        , 0.        , 0.        , 0.        ,\n",
       "       0.        , 0.        , 0.2       , 0.93333334, 0.99215686,\n",
       "       0.99215686, 0.74509805, 0.44705883, 0.99215686, 0.89411765,\n",
       "       0.18431373, 0.30980393, 1.        , 0.65882355, 0.        ,\n",
       "       0.        , 0.        , 0.        , 0.        , 0.        ,\n",
       "       0.        , 0.        , 0.        , 0.        , 0.        ,\n",
       "       0.        , 0.        , 0.        , 0.        , 0.1882353 ,\n",
       "       0.93333334, 0.9882353 , 0.9882353 , 0.7019608 , 0.04705882,\n",
       "       0.29411766, 0.4745098 , 0.08235294, 0.        , 0.        ,\n",
       "       0.99215686, 0.9529412 , 0.19607843, 0.        , 0.        ,\n",
       "       0.        , 0.        , 0.        , 0.        , 0.        ,\n",
       "       0.        , 0.        , 0.        , 0.        , 0.        ,\n",
       "       0.        , 0.14901961, 0.64705884, 0.99215686, 0.9137255 ,\n",
       "       0.8156863 , 0.32941177, 0.        , 0.        , 0.        ,\n",
       "       0.        , 0.        , 0.        , 0.99215686, 0.9882353 ,\n",
       "       0.64705884, 0.        , 0.        , 0.        , 0.        ,\n",
       "       0.        , 0.        , 0.        , 0.        , 0.        ,\n",
       "       0.        , 0.        , 0.        , 0.02745098, 0.69803923,\n",
       "       0.9882353 , 0.9411765 , 0.2784314 , 0.07450981, 0.10980392,\n",
       "       0.        , 0.        , 0.        , 0.        , 0.        ,\n",
       "       0.        , 0.99215686, 0.9882353 , 0.7647059 , 0.        ,\n",
       "       0.        , 0.        , 0.        , 0.        , 0.        ,\n",
       "       0.        , 0.        , 0.        , 0.        , 0.        ,\n",
       "       0.        , 0.22352941, 0.9882353 , 0.9882353 , 0.24705882,\n",
       "       0.        , 0.        , 0.        , 0.        , 0.        ,\n",
       "       0.        , 0.        , 0.        , 0.        , 0.99215686,\n",
       "       0.9882353 , 0.7647059 , 0.        , 0.        , 0.        ,\n",
       "       0.        , 0.        , 0.        , 0.        , 0.        ,\n",
       "       0.        , 0.        , 0.        , 0.        , 0.7764706 ,\n",
       "       0.99215686, 0.74509805, 0.        , 0.        , 0.        ,\n",
       "       0.        , 0.        , 0.        , 0.        , 0.        ,\n",
       "       0.        , 0.        , 1.        , 0.99215686, 0.76862746,\n",
       "       0.        , 0.        , 0.        , 0.        , 0.        ,\n",
       "       0.        , 0.        , 0.        , 0.        , 0.        ,\n",
       "       0.        , 0.29803923, 0.9647059 , 0.9882353 , 0.4392157 ,\n",
       "       0.        , 0.        , 0.        , 0.        , 0.        ,\n",
       "       0.        , 0.        , 0.        , 0.        , 0.        ,\n",
       "       0.99215686, 0.9882353 , 0.5803922 , 0.        , 0.        ,\n",
       "       0.        , 0.        , 0.        , 0.        , 0.        ,\n",
       "       0.        , 0.        , 0.        , 0.        , 0.33333334,\n",
       "       0.9882353 , 0.9019608 , 0.09803922, 0.        , 0.        ,\n",
       "       0.        , 0.        , 0.        , 0.        , 0.        ,\n",
       "       0.        , 0.02745098, 0.5294118 , 0.99215686, 0.7294118 ,\n",
       "       0.04705882, 0.        , 0.        , 0.        , 0.        ,\n",
       "       0.        , 0.        , 0.        , 0.        , 0.        ,\n",
       "       0.        , 0.        , 0.33333334, 0.9882353 , 0.8745098 ,\n",
       "       0.        , 0.        , 0.        , 0.        , 0.        ,\n",
       "       0.        , 0.        , 0.        , 0.02745098, 0.5137255 ,\n",
       "       0.9882353 , 0.88235295, 0.2784314 , 0.        , 0.        ,\n",
       "       0.        , 0.        , 0.        , 0.        , 0.        ,\n",
       "       0.        , 0.        , 0.        , 0.        , 0.        ,\n",
       "       0.33333334, 0.9882353 , 0.5686275 , 0.        , 0.        ,\n",
       "       0.        , 0.        , 0.        , 0.        , 0.        ,\n",
       "       0.1882353 , 0.64705884, 0.9882353 , 0.6784314 , 0.        ,\n",
       "       0.        , 0.        , 0.        , 0.        , 0.        ,\n",
       "       0.        , 0.        , 0.        , 0.        , 0.        ,\n",
       "       0.        , 0.        , 0.        , 0.3372549 , 0.99215686,\n",
       "       0.88235295, 0.        , 0.        , 0.        , 0.        ,\n",
       "       0.        , 0.        , 0.44705883, 0.93333334, 0.99215686,\n",
       "       0.63529414, 0.        , 0.        , 0.        , 0.        ,\n",
       "       0.        , 0.        , 0.        , 0.        , 0.        ,\n",
       "       0.        , 0.        , 0.        , 0.        , 0.        ,\n",
       "       0.        , 0.33333334, 0.9882353 , 0.9764706 , 0.57254905,\n",
       "       0.1882353 , 0.11372549, 0.33333334, 0.69803923, 0.88235295,\n",
       "       0.99215686, 0.8745098 , 0.654902  , 0.21960784, 0.        ,\n",
       "       0.        , 0.        , 0.        , 0.        , 0.        ,\n",
       "       0.        , 0.        , 0.        , 0.        , 0.        ,\n",
       "       0.        , 0.        , 0.        , 0.        , 0.33333334,\n",
       "       0.9882353 , 0.9882353 , 0.9882353 , 0.8980392 , 0.84313726,\n",
       "       0.9882353 , 0.9882353 , 0.9882353 , 0.76862746, 0.50980395,\n",
       "       0.        , 0.        , 0.        , 0.        , 0.        ,\n",
       "       0.        , 0.        , 0.        , 0.        , 0.        ,\n",
       "       0.        , 0.        , 0.        , 0.        , 0.        ,\n",
       "       0.        , 0.        , 0.10980392, 0.78039217, 0.9882353 ,\n",
       "       0.9882353 , 0.99215686, 0.9882353 , 0.9882353 , 0.9137255 ,\n",
       "       0.5686275 , 0.        , 0.        , 0.        , 0.        ,\n",
       "       0.        , 0.        , 0.        , 0.        , 0.        ,\n",
       "       0.        , 0.        , 0.        , 0.        , 0.        ,\n",
       "       0.        , 0.        , 0.        , 0.        , 0.        ,\n",
       "       0.        , 0.09803922, 0.5019608 , 0.9882353 , 0.99215686,\n",
       "       0.9882353 , 0.5529412 , 0.14509805, 0.        , 0.        ,\n",
       "       0.        , 0.        , 0.        , 0.        , 0.        ,\n",
       "       0.        , 0.        , 0.        , 0.        , 0.        ,\n",
       "       0.        , 0.        , 0.        , 0.        , 0.        ,\n",
       "       0.        , 0.        , 0.        , 0.        , 0.        ,\n",
       "       0.        , 0.        , 0.        , 0.        , 0.        ,\n",
       "       0.        , 0.        , 0.        , 0.        , 0.        ,\n",
       "       0.        , 0.        , 0.        , 0.        , 0.        ,\n",
       "       0.        , 0.        , 0.        , 0.        , 0.        ,\n",
       "       0.        , 0.        , 0.        , 0.        , 0.        ,\n",
       "       0.        , 0.        , 0.        , 0.        , 0.        ,\n",
       "       0.        , 0.        , 0.        , 0.        , 0.        ,\n",
       "       0.        , 0.        , 0.        , 0.        , 0.        ,\n",
       "       0.        , 0.        , 0.        , 0.        , 0.        ,\n",
       "       0.        , 0.        , 0.        , 0.        , 0.        ,\n",
       "       0.        , 0.        , 0.        , 0.        , 0.        ,\n",
       "       0.        , 0.        , 0.        , 0.        , 0.        ,\n",
       "       0.        , 0.        , 0.        , 0.        , 0.        ,\n",
       "       0.        , 0.        , 0.        , 0.        , 0.        ,\n",
       "       0.        , 0.        , 0.        , 0.        , 0.        ,\n",
       "       0.        , 0.        , 0.        , 0.        , 0.        ,\n",
       "       0.        , 0.        , 0.        , 0.        , 0.        ,\n",
       "       0.        , 0.        , 0.        , 0.        , 0.        ,\n",
       "       0.        , 0.        , 0.        , 0.        , 0.        ,\n",
       "       0.        , 0.        , 0.        , 0.        , 0.        ,\n",
       "       0.        , 0.        , 0.        , 0.        ], dtype=float32)"
      ]
     },
     "execution_count": 35,
     "metadata": {},
     "output_type": "execute_result"
    }
   ],
   "source": [
    "images[:,1]"
   ]
  },
  {
   "cell_type": "code",
   "execution_count": 36,
   "metadata": {},
   "outputs": [],
   "source": [
    "from PIL import Image\n",
    "pilim0 = Image.fromarray(im0)"
   ]
  },
  {
   "cell_type": "code",
   "execution_count": 19,
   "metadata": {},
   "outputs": [],
   "source": [
    "pilim1 = pilim0.resize((8, 8))"
   ]
  },
  {
   "cell_type": "code",
   "execution_count": 38,
   "metadata": {},
   "outputs": [
    {
     "data": {
      "text/plain": [
       "<matplotlib.image.AxesImage at 0x7fa96b1eae10>"
      ]
     },
     "execution_count": 38,
     "metadata": {},
     "output_type": "execute_result"
    },
    {
     "data": {
      "image/png": "[encoded data removed]",
      "text/plain": [
       "<Figure size 432x288 with 1 Axes>"
      ]
     },
     "metadata": {},
     "output_type": "display_data"
    }
   ],
   "source": [
    "matplotlib.pyplot.imshow(Image.fromarray(im0*255))"
   ]
  },
  {
   "cell_type": "code",
   "execution_count": null,
   "metadata": {},
   "outputs": [],
   "source": [
    "Image.fromarray(im0).resize((8,8), Image.ANTIALIAS)."
   ]
  },
  {
   "cell_type": "code",
   "execution_count": 32,
   "metadata": {},
   "outputs": [
    {
     "data": {
      "text/plain": [
       "<matplotlib.image.AxesImage at 0x7fa96b2c2278>"
      ]
     },
     "execution_count": 32,
     "metadata": {},
     "output_type": "execute_result"
    },
    {
     "data": {
      "image/png": "[encoded data removed]",
      "text/plain": [
       "<Figure size 432x288 with 1 Axes>"
      ]
     },
     "metadata": {},
     "output_type": "display_data"
    }
   ],
   "source": [
    "matplotlib.pyplot.imshow(Image.fromarray(im0).resize((8,8), Image.ANTIALIAS))"
   ]
  },
  {
   "cell_type": "code",
   "execution_count": 58,
   "metadata": {},
   "outputs": [
    {
     "data": {
      "text/plain": [
       "[<matplotlib.lines.Line2D at 0x7f18e05984a8>]"
      ]
     },
     "execution_count": 58,
     "metadata": {},
     "output_type": "execute_result"
    },
    {
     "data": {
      "image/png": "[encoded data removed]",
      "text/plain": [
       "<Figure size 432x288 with 1 Axes>"
      ]
     },
     "metadata": {},
     "output_type": "display_data"
    }
   ],
   "source": [
    "reset_parameters(model)\n",
    "vals = []\n",
    "reset_parameters(model)\n",
    "for i in range(100):\n",
    "    advance(model, -.002)\n",
    "    error = model(train_data)-train_data\n",
    "    vals.append(torch.sum(error*error).detach().cpu().numpy()/2/dsize)\n",
    "    \n",
    "import matplotlib.pyplot as plt\n",
    "plt.plot(vals)"
   ]
  },
  {
   "cell_type": "markdown",
   "metadata": {},
   "source": [
    "### Optimize for one layer"
   ]
  },
  {
   "cell_type": "code",
   "execution_count": 135,
   "metadata": {},
   "outputs": [
    {
     "ename": "NameError",
     "evalue": "name 'print_inte3rval' is not defined",
     "output_type": "error",
     "traceback": [
      "\u001b[0;31m---------------------------------------------------------------------------\u001b[0m",
      "\u001b[0;31mNameError\u001b[0m                                 Traceback (most recent call last)",
      "\u001b[0;32m<ipython-input-135-d1bbf66fde69>\u001b[0m in \u001b[0;36m<module>\u001b[0;34m()\u001b[0m\n\u001b[0;32m----> 1\u001b[0;31m \u001b[0mlosses_adam\u001b[0m\u001b[0;34m,\u001b[0m \u001b[0mvlosses_adam\u001b[0m\u001b[0;34m,\u001b[0m \u001b[0mmodel\u001b[0m\u001b[0;34m,\u001b[0m \u001b[0moptimizer\u001b[0m \u001b[0;34m=\u001b[0m \u001b[0mkfac_lib\u001b[0m\u001b[0;34m.\u001b[0m\u001b[0mtrain\u001b[0m\u001b[0;34m(\u001b[0m\u001b[0miters\u001b[0m\u001b[0;34m=\u001b[0m\u001b[0;36m10\u001b[0m\u001b[0;34m,\u001b[0m \u001b[0mkfac\u001b[0m\u001b[0;34m=\u001b[0m\u001b[0;32mTrue\u001b[0m\u001b[0;34m,\u001b[0m \u001b[0mprint_interval\u001b[0m\u001b[0;34m=\u001b[0m\u001b[0;36m1\u001b[0m\u001b[0;34m)\u001b[0m\u001b[0;34m\u001b[0m\u001b[0m\n\u001b[0m\u001b[1;32m      2\u001b[0m \u001b[0mparameters0\u001b[0m\u001b[0;34m=\u001b[0m\u001b[0mcopy_parameters\u001b[0m\u001b[0;34m(\u001b[0m\u001b[0mmodel\u001b[0m\u001b[0;34m)\u001b[0m\u001b[0;34m\u001b[0m\u001b[0m\n\u001b[1;32m      3\u001b[0m \u001b[0mu\u001b[0m\u001b[0;34m.\u001b[0m\u001b[0msummarize_time\u001b[0m\u001b[0;34m(\u001b[0m\u001b[0;34m)\u001b[0m\u001b[0;34m\u001b[0m\u001b[0m\n\u001b[1;32m      4\u001b[0m \u001b[0mloss0\u001b[0m \u001b[0;34m=\u001b[0m \u001b[0mcompute_loss\u001b[0m\u001b[0;34m(\u001b[0m\u001b[0;34m)\u001b[0m\u001b[0;34m\u001b[0m\u001b[0m\n\u001b[1;32m      5\u001b[0m \u001b[0;34m\u001b[0m\u001b[0m\n",
      "\u001b[0;32m/ncluster/newton/kfac_pytorch.py\u001b[0m in \u001b[0;36mtrain\u001b[0;34m(optimizer, nonlin, kfac, iters, lr, newton_matrix, eval_every_n_steps, print_interval, inverse_method)\u001b[0m\n\u001b[1;32m    238\u001b[0m     \u001b[0mloss0\u001b[0m \u001b[0;34m=\u001b[0m \u001b[0mloss\u001b[0m\u001b[0;34m.\u001b[0m\u001b[0mdata\u001b[0m\u001b[0;34m.\u001b[0m\u001b[0mcpu\u001b[0m\u001b[0;34m(\u001b[0m\u001b[0;34m)\u001b[0m\u001b[0;34m.\u001b[0m\u001b[0mnumpy\u001b[0m\u001b[0;34m(\u001b[0m\u001b[0;34m)\u001b[0m\u001b[0;34m\u001b[0m\u001b[0m\n\u001b[1;32m    239\u001b[0m     \u001b[0mlosses\u001b[0m\u001b[0;34m.\u001b[0m\u001b[0mappend\u001b[0m\u001b[0;34m(\u001b[0m\u001b[0mloss0\u001b[0m\u001b[0;34m)\u001b[0m\u001b[0;34m\u001b[0m\u001b[0m\n\u001b[0;32m--> 240\u001b[0;31m     \u001b[0;32mif\u001b[0m \u001b[0mstep\u001b[0m\u001b[0;34m%\u001b[0m\u001b[0mprint_interval\u001b[0m\u001b[0;34m==\u001b[0m\u001b[0;36m0\u001b[0m\u001b[0;34m:\u001b[0m\u001b[0;34m\u001b[0m\u001b[0m\n\u001b[0m\u001b[1;32m    241\u001b[0m       \u001b[0mprint\u001b[0m\u001b[0;34m(\u001b[0m\u001b[0;34m\"Step %3d loss %10.9f\"\u001b[0m\u001b[0;34m%\u001b[0m\u001b[0;34m(\u001b[0m\u001b[0mstep\u001b[0m\u001b[0;34m,\u001b[0m \u001b[0mloss0\u001b[0m\u001b[0;34m)\u001b[0m\u001b[0;34m)\u001b[0m\u001b[0;34m\u001b[0m\u001b[0m\n\u001b[1;32m    242\u001b[0m \u001b[0;34m\u001b[0m\u001b[0m\n",
      "\u001b[0;31mNameError\u001b[0m: name 'print_inte3rval' is not defined"
     ]
    }
   ],
   "source": [
    "losses_adam, vlosses_adam, model, optimizer = kfac_lib.train(iters=10, kfac=True, print_interval=1)\n",
    "parameters0=copy_parameters(model)\n",
    "u.summarize_time()\n",
    "loss0 = compute_loss()\n",
    "\n",
    "n = 8\n",
    "val_array = []\n",
    "for layer_idx in range(n):\n",
    "    vals = []\n",
    "    reset_parameters(model)\n",
    "    for i in range(10):\n",
    "        error = model(train_data)-train_data\n",
    "        vals.append(compute_loss())\n",
    "        advance(model, -.2/n, layer_idx)\n",
    "    plt.plot(vals)\n",
    "    val_array.append(vals)\n",
    "reset_parameters()"
   ]
  },
  {
   "cell_type": "code",
   "execution_count": 44,
   "metadata": {},
   "outputs": [
    {
     "data": {
      "text/plain": [
       "30.438815625"
      ]
     },
     "execution_count": 44,
     "metadata": {},
     "output_type": "execute_result"
    }
   ],
   "source": [
    "compute_loss()"
   ]
  },
  {
   "cell_type": "code",
   "execution_count": 32,
   "metadata": {},
   "outputs": [
    {
     "data": {
      "text/plain": [
       "[<matplotlib.lines.Line2D at 0x7f6c107a2978>]"
      ]
     },
     "execution_count": 32,
     "metadata": {},
     "output_type": "execute_result"
    },
    {
     "data": {
      "image/png": "[encoded data removed]",
      "text/plain": [
       "<Figure size 432x288 with 1 Axes>"
      ]
     },
     "metadata": {},
     "output_type": "display_data"
    }
   ],
   "source": [
    "vals = []\n",
    "reset_parameters(model)\n",
    "for i in range(10):\n",
    "    error = model(train_data)-train_data\n",
    "    vals.append(compute_loss())\n",
    "    advance(model, -.2/n, -1)\n",
    "plt.plot(vals)"
   ]
  },
  {
   "cell_type": "code",
   "execution_count": 33,
   "metadata": {},
   "outputs": [
    {
     "data": {
      "text/plain": [
       "30.438815625"
      ]
     },
     "execution_count": 33,
     "metadata": {},
     "output_type": "execute_result"
    }
   ],
   "source": [
    "reset_parameters(model)\n",
    "compute_loss()"
   ]
  },
  {
   "cell_type": "code",
   "execution_count": 31,
   "metadata": {},
   "outputs": [
    {
     "name": "stdout",
     "output_type": "stream",
     "text": [
      "0 595.64026\n",
      "1 1076.6353\n",
      "2 725.04865\n",
      "3 294.54898\n",
      "4 103.23652\n",
      "5 341.41153\n",
      "6 348.4198\n",
      "7 232.39833\n"
     ]
    }
   ],
   "source": [
    "for i,param in enumerate(model.parameters()):\n",
    "    print(i, torch.norm(param.grad).detach().cpu().numpy())"
   ]
  },
  {
   "cell_type": "code",
   "execution_count": 134,
   "metadata": {},
   "outputs": [
    {
     "data": {
      "image/png": "[encoded data removed]",
      "text/plain": [
       "<Figure size 432x288 with 1 Axes>"
      ]
     },
     "metadata": {},
     "output_type": "display_data"
    }
   ],
   "source": [
    "val_array = []\n",
    "reset_parameters(model)\n",
    "for layer_idx in [-1]:\n",
    "    vals = []\n",
    "    reset_parameters(model)\n",
    "    for i in range(10):\n",
    "        error = model(train_data)-train_data\n",
    "        vals.append(torch.sum(error*error).detach().cpu().numpy()/2/dsize)\n",
    "        advance(model, -.002, layer_idx)\n",
    "    plt.plot(vals)\n",
    "    val_array.append(vals)"
   ]
  },
  {
   "cell_type": "code",
   "execution_count": 141,
   "metadata": {},
   "outputs": [
    {
     "name": "stdout",
     "output_type": "stream",
     "text": [
      "26.7531\n"
     ]
    }
   ],
   "source": [
    "reset_parameters(model)\n",
    "print(compute_loss())"
   ]
  },
  {
   "cell_type": "code",
   "execution_count": 143,
   "metadata": {},
   "outputs": [
    {
     "data": {
      "text/plain": [
       "28.004078125"
      ]
     },
     "execution_count": 143,
     "metadata": {},
     "output_type": "execute_result"
    }
   ],
   "source": [
    "reset_parameters(model)\n",
    "advance(model, -0.2)\n",
    "compute_loss()"
   ]
  },
  {
   "cell_type": "code",
   "execution_count": null,
   "metadata": {},
   "outputs": [],
   "source": [
    "Step   9 loss 26.863996506\n",
    "Step  10 loss 26.753099442\n",
    "Step  11 loss 26.676715851\n"
   ]
  }
 ],
 "metadata": {
  "kernelspec": {
   "display_name": "Python [default]",
   "language": "python",
   "name": "python3"
  },
  "language_info": {
   "codemirror_mode": {
    "name": "ipython",
    "version": 3
   },
   "file_extension": ".py",
   "mimetype": "text/x-python",
   "name": "python",
   "nbconvert_exporter": "python",
   "pygments_lexer": "ipython3",
   "version": "3.6.5"
  },
  "toc": {
   "base_numbering": 1,
   "nav_menu": {},
   "number_sections": true,
   "sideBar": true,
   "skip_h1_title": false,
   "title_cell": "Table of Contents",
   "title_sidebar": "Contents",
   "toc_cell": false,
   "toc_position": {
    "height": "calc(100% - 180px)",
    "left": "10px",
    "top": "150px",
    "width": "248px"
   },
   "toc_section_display": "block",
   "toc_window_display": true
  }
 },
 "nbformat": 4,
 "nbformat_minor": 2
}
