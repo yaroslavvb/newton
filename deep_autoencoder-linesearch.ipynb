{
 "cells": [
  {
   "cell_type": "code",
   "execution_count": 43,
   "metadata": {},
   "outputs": [],
   "source": [
    "import os\n",
    "import sys\n",
    "import matplotlib.pyplot as plt\n",
    "import torch\n",
    "import torch.nn.functional as F\n",
    "import numpy as np\n",
    "\n",
    "sys.path.insert(0,'/ncluster/newton')\n",
    "import util as u\n",
    "import importlib\n",
    "importlib.reload(u)\n",
    "\n",
    "import matplotlib\n",
    "%matplotlib inline"
   ]
  },
  {
   "cell_type": "markdown",
   "metadata": {},
   "source": [
    "# Line-search"
   ]
  },
  {
   "cell_type": "code",
   "execution_count": 52,
   "metadata": {},
   "outputs": [
    {
     "name": "stdout",
     "output_type": "stream",
     "text": [
      "Step   0 loss 97.542419434\n",
      "Step   1 loss 32.184158325\n",
      "Step   2 loss 31.059148788\n",
      "Step   3 loss 30.073652267\n",
      "Step   4 loss 28.751443863\n",
      "Step   5 loss 28.019514084\n",
      "Step   6 loss 27.574556351\n",
      "Step   7 loss 27.251935959\n",
      "Step   8 loss 27.024276733\n",
      "Step   9 loss 26.863996506\n",
      "Times: min: 45.69, median: 45.95, mean: 138.83\n"
     ]
    }
   ],
   "source": [
    "import kfac_pytorch as kfac_lib\n",
    "import importlib\n",
    "importlib.reload(kfac_lib)\n",
    "losses_adam, vlosses_adam, model = kfac_lib.train(iters=10, kfac=False, print_interval=1)\n",
    "u.summarize_time()"
   ]
  },
  {
   "cell_type": "code",
   "execution_count": 53,
   "metadata": {},
   "outputs": [],
   "source": [
    "dsize=10000\n",
    "dtype=np.float32\n",
    "fs = [dsize, 28*28, 1024, 1024, 1024, 196, 1024, 1024, 1024, 28*28]\n",
    "n = len(fs) - 2   # number of matmuls\n",
    "\n",
    "images = u.get_mnist_images()\n",
    "train_data0 = images[:, :dsize].astype(dtype)\n",
    "train_data = torch.from_numpy(train_data0).cuda()"
   ]
  },
  {
   "cell_type": "code",
   "execution_count": 82,
   "metadata": {},
   "outputs": [],
   "source": [
    "def copy_parameters(model):\n",
    "    original_param_data_list = []\n",
    "    for p in model.parameters():\n",
    "        param_data = p.data.new(p.size())\n",
    "        param_data.copy_(p.data)\n",
    "        original_param_data_list.append(param_data)\n",
    "    return original_param_data_list\n",
    "\n",
    "def reset_parameters(model):\n",
    "    original_param_data_list = []\n",
    "    for current_param, param0 in zip(model.parameters(), parameters0):\n",
    "        current_param.data.copy_(param0)\n",
    "\n",
    "def zero_grad(model):\n",
    "    for p in model.parameters():\n",
    "        if p.grad is not None:\n",
    "            p.grad.detach_()\n",
    "            p.grad.zero_()\n",
    "            \n",
    "def compute_loss():\n",
    "    error = model(train_data)-train_data\n",
    "    return torch.sum(error*error).detach().cpu().numpy()/2/dsize\n",
    "\n",
    "def advance(model, lr, layer_idx=-1):\n",
    "    \"\"\"Advances model parameters in direction of gradient by fraction lr\"\"\"\n",
    "    params = list(model.parameters())\n",
    "    if layer_idx == -1:\n",
    "        pass\n",
    "    else:\n",
    "        params = [params[layer_idx]]\n",
    "    for p in params:\n",
    "        p.data.copy_(p.data + lr*p.grad.data)"
   ]
  },
  {
   "cell_type": "code",
   "execution_count": 55,
   "metadata": {},
   "outputs": [
    {
     "data": {
      "text/plain": [
       "tensor(26.7531, device='cuda:0', grad_fn=<DivBackward0>)"
      ]
     },
     "execution_count": 55,
     "metadata": {},
     "output_type": "execute_result"
    }
   ],
   "source": [
    "reset_parameters(model)\n",
    "error = model(train_data)-train_data\n",
    "loss = torch.sum(error*error)/2/dsize\n",
    "zero_grad(model)\n",
    "loss.backward()\n",
    "torch.sum(error*error)/2/dsize"
   ]
  },
  {
   "cell_type": "code",
   "execution_count": 56,
   "metadata": {},
   "outputs": [
    {
     "data": {
      "text/plain": [
       "tensor(27.1546, device='cuda:0', grad_fn=<DivBackward0>)"
      ]
     },
     "execution_count": 56,
     "metadata": {},
     "output_type": "execute_result"
    }
   ],
   "source": [
    "advance(model, .1)\n",
    "error = model(train_data)-train_data\n",
    "torch.sum(error*error)/2/dsize"
   ]
  },
  {
   "cell_type": "code",
   "execution_count": 58,
   "metadata": {},
   "outputs": [
    {
     "data": {
      "text/plain": [
       "[<matplotlib.lines.Line2D at 0x7f18e05984a8>]"
      ]
     },
     "execution_count": 58,
     "metadata": {},
     "output_type": "execute_result"
    },
    {
     "data": {
      "image/png": "[encoded data removed]",
      "text/plain": [
       "<Figure size 432x288 with 1 Axes>"
      ]
     },
     "metadata": {},
     "output_type": "display_data"
    }
   ],
   "source": [
    "reset_parameters(model)\n",
    "vals = []\n",
    "reset_parameters(model)\n",
    "for i in range(100):\n",
    "    advance(model, -.002)\n",
    "    error = model(train_data)-train_data\n",
    "    vals.append(torch.sum(error*error).detach().cpu().numpy()/2/dsize)\n",
    "    \n",
    "import matplotlib.pyplot as plt\n",
    "plt.plot(vals)"
   ]
  },
  {
   "cell_type": "markdown",
   "metadata": {},
   "source": [
    "### Optimize for one layer"
   ]
  },
  {
   "cell_type": "code",
   "execution_count": 140,
   "metadata": {},
   "outputs": [
    {
     "name": "stdout",
     "output_type": "stream",
     "text": [
      "Step   0 loss 97.542419434\n",
      "Step   1 loss 32.184158325\n",
      "Step   2 loss 31.059148788\n",
      "Step   3 loss 30.073652267\n",
      "Step   4 loss 28.751443863\n",
      "Step   5 loss 28.019514084\n",
      "Step   6 loss 27.574556351\n",
      "Step   7 loss 27.251935959\n",
      "Step   8 loss 27.024276733\n",
      "Step   9 loss 26.863996506\n",
      "Times: min: 45.97, median: 46.14, mean: 139.48\n"
     ]
    },
    {
     "data": {
      "image/png": "[encoded data removed]",
      "text/plain": [
       "<Figure size 432x288 with 1 Axes>"
      ]
     },
     "metadata": {},
     "output_type": "display_data"
    }
   ],
   "source": [
    "import kfac_pytorch as kfac_lib\n",
    "import importlib\n",
    "importlib.reload(kfac_lib)\n",
    "losses_adam, vlosses_adam, model = kfac_lib.train(iters=10, kfac=False, print_interval=1)\n",
    "parameters0=copy_parameters(model)\n",
    "u.summarize_time()\n",
    "loss0 = compute_loss()\n",
    "\n",
    "n = 8\n",
    "val_array = []\n",
    "for layer_idx in range(n):\n",
    "    vals = []\n",
    "    reset_parameters(model)\n",
    "    for i in range(10):\n",
    "        error = model(train_data)-train_data\n",
    "        vals.append(torch.sum(error*error).detach().cpu().numpy()/2/dsize)\n",
    "        advance(model, -.2/n, layer_idx)\n",
    "    plt.plot(vals)\n",
    "    val_array.append(vals)"
   ]
  }
 ],
 "metadata": {
  "kernelspec": {
   "display_name": "Python [default]",
   "language": "python",
   "name": "python3"
  },
  "language_info": {
   "codemirror_mode": {
    "name": "ipython",
    "version": 3
   },
   "file_extension": ".py",
   "mimetype": "text/x-python",
   "name": "python",
   "nbconvert_exporter": "python",
   "pygments_lexer": "ipython3",
   "version": "3.6.5"
  },
  "toc": {
   "base_numbering": 1,
   "nav_menu": {},
   "number_sections": true,
   "sideBar": true,
   "skip_h1_title": false,
   "title_cell": "Table of Contents",
   "title_sidebar": "Contents",
   "toc_cell": false,
   "toc_position": {
    "height": "calc(100% - 180px)",
    "left": "10px",
    "top": "150px",
    "width": "248px"
   },
   "toc_section_display": "block",
   "toc_window_display": true
  }
 },
 "nbformat": 4,
 "nbformat_minor": 2
}
